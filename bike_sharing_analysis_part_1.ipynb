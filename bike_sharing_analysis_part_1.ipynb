{
 "cells": [
  {
   "cell_type": "markdown",
   "id": "20aadaee-3c47-45e6-8bfd-4d4ffecba1fd",
   "metadata": {},
   "source": [
    "# Data Exploration and Preparation"
   ]
  },
  {
   "cell_type": "code",
   "execution_count": 1,
   "id": "80452283-627a-44f2-b86b-bd477a3eb2ea",
   "metadata": {},
   "outputs": [],
   "source": [
    "import pandas as pd\n",
    "import matplotlib.pyplot as plt\n",
    "import seaborn as sns"
   ]
  },
  {
   "cell_type": "code",
   "execution_count": 2,
   "id": "03fe8a4e-b4bf-40fd-8622-5f6a57499169",
   "metadata": {},
   "outputs": [],
   "source": [
    "df = pd.read_csv('data_sets/dc_bikes.csv')"
   ]
  },
  {
   "cell_type": "code",
   "execution_count": 3,
   "id": "e70e5987-c083-41d2-bda7-f0afb92ce469",
   "metadata": {},
   "outputs": [
    {
     "data": {
      "text/html": [
       "<div>\n",
       "<style scoped>\n",
       "    .dataframe tbody tr th:only-of-type {\n",
       "        vertical-align: middle;\n",
       "    }\n",
       "\n",
       "    .dataframe tbody tr th {\n",
       "        vertical-align: top;\n",
       "    }\n",
       "\n",
       "    .dataframe thead th {\n",
       "        text-align: right;\n",
       "    }\n",
       "</style>\n",
       "<table border=\"1\" class=\"dataframe\">\n",
       "  <thead>\n",
       "    <tr style=\"text-align: right;\">\n",
       "      <th></th>\n",
       "      <th>datetime</th>\n",
       "      <th>season</th>\n",
       "      <th>holiday</th>\n",
       "      <th>workingday</th>\n",
       "      <th>weather</th>\n",
       "      <th>temp</th>\n",
       "      <th>atemp</th>\n",
       "      <th>humidity</th>\n",
       "      <th>windspeed</th>\n",
       "      <th>casual</th>\n",
       "      <th>registered</th>\n",
       "      <th>count</th>\n",
       "    </tr>\n",
       "  </thead>\n",
       "  <tbody>\n",
       "    <tr>\n",
       "      <th>0</th>\n",
       "      <td>2011-01-01 00:00:00</td>\n",
       "      <td>1</td>\n",
       "      <td>0</td>\n",
       "      <td>0</td>\n",
       "      <td>1</td>\n",
       "      <td>9.84</td>\n",
       "      <td>14.395</td>\n",
       "      <td>81</td>\n",
       "      <td>0.0</td>\n",
       "      <td>3.0</td>\n",
       "      <td>13.0</td>\n",
       "      <td>16</td>\n",
       "    </tr>\n",
       "    <tr>\n",
       "      <th>1</th>\n",
       "      <td>2011-01-01 01:00:00</td>\n",
       "      <td>1</td>\n",
       "      <td>0</td>\n",
       "      <td>0</td>\n",
       "      <td>1</td>\n",
       "      <td>9.02</td>\n",
       "      <td>13.635</td>\n",
       "      <td>80</td>\n",
       "      <td>0.0</td>\n",
       "      <td>8.0</td>\n",
       "      <td>32.0</td>\n",
       "      <td>40</td>\n",
       "    </tr>\n",
       "    <tr>\n",
       "      <th>2</th>\n",
       "      <td>2011-01-01 02:00:00</td>\n",
       "      <td>1</td>\n",
       "      <td>0</td>\n",
       "      <td>0</td>\n",
       "      <td>1</td>\n",
       "      <td>9.02</td>\n",
       "      <td>13.635</td>\n",
       "      <td>80</td>\n",
       "      <td>0.0</td>\n",
       "      <td>5.0</td>\n",
       "      <td>27.0</td>\n",
       "      <td>32</td>\n",
       "    </tr>\n",
       "    <tr>\n",
       "      <th>3</th>\n",
       "      <td>2011-01-01 03:00:00</td>\n",
       "      <td>1</td>\n",
       "      <td>0</td>\n",
       "      <td>0</td>\n",
       "      <td>1</td>\n",
       "      <td>9.84</td>\n",
       "      <td>14.395</td>\n",
       "      <td>75</td>\n",
       "      <td>0.0</td>\n",
       "      <td>3.0</td>\n",
       "      <td>10.0</td>\n",
       "      <td>13</td>\n",
       "    </tr>\n",
       "    <tr>\n",
       "      <th>4</th>\n",
       "      <td>2011-01-01 04:00:00</td>\n",
       "      <td>1</td>\n",
       "      <td>0</td>\n",
       "      <td>0</td>\n",
       "      <td>1</td>\n",
       "      <td>9.84</td>\n",
       "      <td>14.395</td>\n",
       "      <td>75</td>\n",
       "      <td>0.0</td>\n",
       "      <td>0.0</td>\n",
       "      <td>1.0</td>\n",
       "      <td>1</td>\n",
       "    </tr>\n",
       "  </tbody>\n",
       "</table>\n",
       "</div>"
      ],
      "text/plain": [
       "              datetime  season  holiday  workingday  weather  temp   atemp  \\\n",
       "0  2011-01-01 00:00:00       1        0           0        1  9.84  14.395   \n",
       "1  2011-01-01 01:00:00       1        0           0        1  9.02  13.635   \n",
       "2  2011-01-01 02:00:00       1        0           0        1  9.02  13.635   \n",
       "3  2011-01-01 03:00:00       1        0           0        1  9.84  14.395   \n",
       "4  2011-01-01 04:00:00       1        0           0        1  9.84  14.395   \n",
       "\n",
       "   humidity  windspeed  casual  registered  count  \n",
       "0        81        0.0     3.0        13.0     16  \n",
       "1        80        0.0     8.0        32.0     40  \n",
       "2        80        0.0     5.0        27.0     32  \n",
       "3        75        0.0     3.0        10.0     13  \n",
       "4        75        0.0     0.0         1.0      1  "
      ]
     },
     "execution_count": 3,
     "metadata": {},
     "output_type": "execute_result"
    }
   ],
   "source": [
    "df.head()"
   ]
  },
  {
   "cell_type": "code",
   "execution_count": 4,
   "id": "27ecd8ac-1cb7-4de9-8446-4325965da3da",
   "metadata": {},
   "outputs": [
    {
     "data": {
      "text/plain": [
       "datetime         0\n",
       "season           0\n",
       "holiday          0\n",
       "workingday       0\n",
       "weather          0\n",
       "temp             0\n",
       "atemp            0\n",
       "humidity         0\n",
       "windspeed        0\n",
       "casual        6493\n",
       "registered    6493\n",
       "count            0\n",
       "dtype: int64"
      ]
     },
     "execution_count": 4,
     "metadata": {},
     "output_type": "execute_result"
    }
   ],
   "source": [
    "df.isnull().sum()"
   ]
  },
  {
   "cell_type": "code",
   "execution_count": 5,
   "id": "370dbafd-02e1-40e7-9d3e-6ce16fba95e8",
   "metadata": {},
   "outputs": [
    {
     "data": {
      "text/plain": [
       "datetime       object\n",
       "season          int64\n",
       "holiday         int64\n",
       "workingday      int64\n",
       "weather         int64\n",
       "temp          float64\n",
       "atemp         float64\n",
       "humidity        int64\n",
       "windspeed     float64\n",
       "casual        float64\n",
       "registered    float64\n",
       "count           int64\n",
       "dtype: object"
      ]
     },
     "execution_count": 5,
     "metadata": {},
     "output_type": "execute_result"
    }
   ],
   "source": [
    "df.dtypes"
   ]
  },
  {
   "cell_type": "code",
   "execution_count": 6,
   "id": "178b0621-56db-4af9-ae44-89ebc46db9d8",
   "metadata": {},
   "outputs": [
    {
     "data": {
      "text/plain": [
       "17379"
      ]
     },
     "execution_count": 6,
     "metadata": {},
     "output_type": "execute_result"
    }
   ],
   "source": [
    "len(df.index)"
   ]
  },
  {
   "cell_type": "markdown",
   "id": "fd8e4712-608b-419a-bee8-33dc22f714fe",
   "metadata": {},
   "source": [
    "### Examine whether the bicycle count shows any time-related patterns."
   ]
  },
  {
   "cell_type": "markdown",
   "id": "7eb14c94-65ae-4e15-ade5-d3e866152171",
   "metadata": {},
   "source": [
    "#### 1. Extract features like hour, month, etc. from the datetime column into their own columns"
   ]
  },
  {
   "cell_type": "code",
   "execution_count": 7,
   "id": "844eebdc-4644-4d42-b62f-6207597ddad8",
   "metadata": {},
   "outputs": [],
   "source": [
    "df['datetime'] = pd.to_datetime(df['datetime'])"
   ]
  },
  {
   "cell_type": "code",
   "execution_count": 8,
   "id": "609fb56b-3de1-4ad8-b323-4eda9aa37f31",
   "metadata": {},
   "outputs": [
    {
     "data": {
      "text/plain": [
       "datetime      datetime64[ns]\n",
       "season                 int64\n",
       "holiday                int64\n",
       "workingday             int64\n",
       "weather                int64\n",
       "temp                 float64\n",
       "atemp                float64\n",
       "humidity               int64\n",
       "windspeed            float64\n",
       "casual               float64\n",
       "registered           float64\n",
       "count                  int64\n",
       "dtype: object"
      ]
     },
     "execution_count": 8,
     "metadata": {},
     "output_type": "execute_result"
    }
   ],
   "source": [
    "df.dtypes"
   ]
  },
  {
   "cell_type": "code",
   "execution_count": 9,
   "id": "0bb8ae44-26bc-474a-a548-6dffce585961",
   "metadata": {},
   "outputs": [
    {
     "data": {
      "text/plain": [
       "array([1, 2, 3, 4])"
      ]
     },
     "execution_count": 9,
     "metadata": {},
     "output_type": "execute_result"
    }
   ],
   "source": [
    "df['season'].unique()"
   ]
  },
  {
   "cell_type": "code",
   "execution_count": 10,
   "id": "8d151f92-2b12-4289-a518-a7d549d7932a",
   "metadata": {},
   "outputs": [
    {
     "data": {
      "text/plain": [
       "array([0, 1])"
      ]
     },
     "execution_count": 10,
     "metadata": {},
     "output_type": "execute_result"
    }
   ],
   "source": [
    "df['holiday'].unique()"
   ]
  },
  {
   "cell_type": "code",
   "execution_count": 11,
   "id": "e5439f7f-4ffa-41e6-8c02-aa029329fd50",
   "metadata": {
    "tags": []
   },
   "outputs": [
    {
     "data": {
      "text/plain": [
       "array([0, 1])"
      ]
     },
     "execution_count": 11,
     "metadata": {},
     "output_type": "execute_result"
    }
   ],
   "source": [
    "df['workingday'].unique()"
   ]
  },
  {
   "cell_type": "code",
   "execution_count": 12,
   "id": "3546c324-8ee0-4f1e-9cdf-f193352ca0fb",
   "metadata": {},
   "outputs": [],
   "source": [
    "df_dt1 = pd.read_csv('data_sets/dc_bikes.csv', index_col = 0, parse_dates=True)"
   ]
  },
  {
   "cell_type": "code",
   "execution_count": 13,
   "id": "0cb59f15-1568-4a8d-ac84-69d6cdd7e6f7",
   "metadata": {},
   "outputs": [
    {
     "data": {
      "text/plain": [
       "Int64Index([2011, 2011, 2011, 2011, 2011, 2011, 2011, 2011, 2011, 2011,\n",
       "            ...\n",
       "            2012, 2012, 2012, 2012, 2012, 2012, 2012, 2012, 2012, 2012],\n",
       "           dtype='int64', name='datetime', length=17379)"
      ]
     },
     "execution_count": 13,
     "metadata": {},
     "output_type": "execute_result"
    }
   ],
   "source": [
    "df_dt1.index.year"
   ]
  },
  {
   "cell_type": "code",
   "execution_count": 14,
   "id": "391556b9-94fa-47d3-832e-c6e1c804804b",
   "metadata": {},
   "outputs": [],
   "source": [
    "df_dt1['year'] = df_dt1.index.year"
   ]
  },
  {
   "cell_type": "code",
   "execution_count": 15,
   "id": "abb92908-a005-41a7-a42f-976f83e6294b",
   "metadata": {},
   "outputs": [
    {
     "data": {
      "text/plain": [
       "Int64Index([ 1,  1,  1,  1,  1,  1,  1,  1,  1,  1,\n",
       "            ...\n",
       "            12, 12, 12, 12, 12, 12, 12, 12, 12, 12],\n",
       "           dtype='int64', name='datetime', length=17379)"
      ]
     },
     "execution_count": 15,
     "metadata": {},
     "output_type": "execute_result"
    }
   ],
   "source": [
    "df_dt1.index.month"
   ]
  },
  {
   "cell_type": "code",
   "execution_count": 16,
   "id": "831b80cf-4b49-42e2-87e9-a0f2a3208182",
   "metadata": {},
   "outputs": [],
   "source": [
    "df_dt1['month_number'] = df_dt1.index.month"
   ]
  },
  {
   "cell_type": "code",
   "execution_count": 17,
   "id": "b89ff878-3498-452f-8a45-2c966559f243",
   "metadata": {},
   "outputs": [
    {
     "data": {
      "text/plain": [
       "Index(['January', 'January', 'January', 'January', 'January', 'January',\n",
       "       'January', 'January', 'January', 'January',\n",
       "       ...\n",
       "       'December', 'December', 'December', 'December', 'December', 'December',\n",
       "       'December', 'December', 'December', 'December'],\n",
       "      dtype='object', name='datetime', length=17379)"
      ]
     },
     "execution_count": 17,
     "metadata": {},
     "output_type": "execute_result"
    }
   ],
   "source": [
    "df_dt1.index.month_name()"
   ]
  },
  {
   "cell_type": "code",
   "execution_count": 18,
   "id": "b0009fe0-e294-43c1-8c49-9bb58a2c8704",
   "metadata": {},
   "outputs": [],
   "source": [
    "df_dt1['month'] = df_dt1.index.month_name()"
   ]
  },
  {
   "cell_type": "code",
   "execution_count": 19,
   "id": "c4234645-9a5a-4cae-b4db-efcf83f6f268",
   "metadata": {},
   "outputs": [
    {
     "data": {
      "text/plain": [
       "Int64Index([ 1,  1,  1,  1,  1,  1,  1,  1,  1,  1,\n",
       "            ...\n",
       "            31, 31, 31, 31, 31, 31, 31, 31, 31, 31],\n",
       "           dtype='int64', name='datetime', length=17379)"
      ]
     },
     "execution_count": 19,
     "metadata": {},
     "output_type": "execute_result"
    }
   ],
   "source": [
    "df_dt1.index.day"
   ]
  },
  {
   "cell_type": "code",
   "execution_count": 20,
   "id": "e24d725d-67d3-40a0-a56f-3713c2a6cc28",
   "metadata": {},
   "outputs": [],
   "source": [
    "df_dt1['day_of_month'] = df_dt1.index.day"
   ]
  },
  {
   "cell_type": "code",
   "execution_count": 21,
   "id": "2ac763ab-5f2e-40c9-bb01-2c8b1d338da3",
   "metadata": {},
   "outputs": [
    {
     "data": {
      "text/plain": [
       "Int64Index([5, 5, 5, 5, 5, 5, 5, 5, 5, 5,\n",
       "            ...\n",
       "            0, 0, 0, 0, 0, 0, 0, 0, 0, 0],\n",
       "           dtype='int64', name='datetime', length=17379)"
      ]
     },
     "execution_count": 21,
     "metadata": {},
     "output_type": "execute_result"
    }
   ],
   "source": [
    "df_dt1.index.weekday"
   ]
  },
  {
   "cell_type": "code",
   "execution_count": 22,
   "id": "2219a7cd-9c7f-428b-bbde-6b8fc9f5018d",
   "metadata": {
    "tags": []
   },
   "outputs": [
    {
     "data": {
      "text/plain": [
       "Index(['Saturday', 'Saturday', 'Saturday', 'Saturday', 'Saturday', 'Saturday',\n",
       "       'Saturday', 'Saturday', 'Saturday', 'Saturday',\n",
       "       ...\n",
       "       'Monday', 'Monday', 'Monday', 'Monday', 'Monday', 'Monday', 'Monday',\n",
       "       'Monday', 'Monday', 'Monday'],\n",
       "      dtype='object', name='datetime', length=17379)"
      ]
     },
     "execution_count": 22,
     "metadata": {},
     "output_type": "execute_result"
    }
   ],
   "source": [
    "df_dt1.index.day_name()"
   ]
  },
  {
   "cell_type": "code",
   "execution_count": 23,
   "id": "6f64cedc-487c-4c69-a227-47b166ba2343",
   "metadata": {
    "tags": []
   },
   "outputs": [],
   "source": [
    "df_dt1['week_day'] = df_dt1.index.day_name()"
   ]
  },
  {
   "cell_type": "code",
   "execution_count": 24,
   "id": "968ed920-d336-42ca-896b-6eb9a66c3f5c",
   "metadata": {},
   "outputs": [
    {
     "data": {
      "text/plain": [
       "Int64Index([ 0,  1,  2,  3,  4,  5,  6,  7,  8,  9,\n",
       "            ...\n",
       "            14, 15, 16, 17, 18, 19, 20, 21, 22, 23],\n",
       "           dtype='int64', name='datetime', length=17379)"
      ]
     },
     "execution_count": 24,
     "metadata": {},
     "output_type": "execute_result"
    }
   ],
   "source": [
    "df_dt1.index.hour"
   ]
  },
  {
   "cell_type": "code",
   "execution_count": 25,
   "id": "30131c98-3f6a-49f5-a3a0-56af3baec7de",
   "metadata": {},
   "outputs": [],
   "source": [
    "df_dt1['hour_day'] = df_dt1.index.hour"
   ]
  },
  {
   "cell_type": "code",
   "execution_count": 26,
   "id": "47fa3870-6e74-4584-90ee-ba01c3748512",
   "metadata": {},
   "outputs": [],
   "source": [
    "df_dt1['season_name']= df_dt1['season'].replace({1:'winter', 2:'spring', 3:'summer', 4:'autumn'})"
   ]
  },
  {
   "cell_type": "code",
   "execution_count": 27,
   "id": "f2ed1c6f-c04e-47bf-9a7c-619fd8992dad",
   "metadata": {},
   "outputs": [
    {
     "data": {
      "text/html": [
       "<div>\n",
       "<style scoped>\n",
       "    .dataframe tbody tr th:only-of-type {\n",
       "        vertical-align: middle;\n",
       "    }\n",
       "\n",
       "    .dataframe tbody tr th {\n",
       "        vertical-align: top;\n",
       "    }\n",
       "\n",
       "    .dataframe thead th {\n",
       "        text-align: right;\n",
       "    }\n",
       "</style>\n",
       "<table border=\"1\" class=\"dataframe\">\n",
       "  <thead>\n",
       "    <tr style=\"text-align: right;\">\n",
       "      <th></th>\n",
       "      <th>season</th>\n",
       "      <th>holiday</th>\n",
       "      <th>workingday</th>\n",
       "      <th>weather</th>\n",
       "      <th>temp</th>\n",
       "      <th>atemp</th>\n",
       "      <th>humidity</th>\n",
       "      <th>windspeed</th>\n",
       "      <th>casual</th>\n",
       "      <th>registered</th>\n",
       "      <th>count</th>\n",
       "      <th>year</th>\n",
       "      <th>month_number</th>\n",
       "      <th>month</th>\n",
       "      <th>day_of_month</th>\n",
       "      <th>week_day</th>\n",
       "      <th>hour_day</th>\n",
       "      <th>season_name</th>\n",
       "    </tr>\n",
       "    <tr>\n",
       "      <th>datetime</th>\n",
       "      <th></th>\n",
       "      <th></th>\n",
       "      <th></th>\n",
       "      <th></th>\n",
       "      <th></th>\n",
       "      <th></th>\n",
       "      <th></th>\n",
       "      <th></th>\n",
       "      <th></th>\n",
       "      <th></th>\n",
       "      <th></th>\n",
       "      <th></th>\n",
       "      <th></th>\n",
       "      <th></th>\n",
       "      <th></th>\n",
       "      <th></th>\n",
       "      <th></th>\n",
       "      <th></th>\n",
       "    </tr>\n",
       "  </thead>\n",
       "  <tbody>\n",
       "    <tr>\n",
       "      <th>2011-01-01 00:00:00</th>\n",
       "      <td>1</td>\n",
       "      <td>0</td>\n",
       "      <td>0</td>\n",
       "      <td>1</td>\n",
       "      <td>9.84</td>\n",
       "      <td>14.395</td>\n",
       "      <td>81</td>\n",
       "      <td>0.0</td>\n",
       "      <td>3.0</td>\n",
       "      <td>13.0</td>\n",
       "      <td>16</td>\n",
       "      <td>2011</td>\n",
       "      <td>1</td>\n",
       "      <td>January</td>\n",
       "      <td>1</td>\n",
       "      <td>Saturday</td>\n",
       "      <td>0</td>\n",
       "      <td>winter</td>\n",
       "    </tr>\n",
       "    <tr>\n",
       "      <th>2011-01-01 01:00:00</th>\n",
       "      <td>1</td>\n",
       "      <td>0</td>\n",
       "      <td>0</td>\n",
       "      <td>1</td>\n",
       "      <td>9.02</td>\n",
       "      <td>13.635</td>\n",
       "      <td>80</td>\n",
       "      <td>0.0</td>\n",
       "      <td>8.0</td>\n",
       "      <td>32.0</td>\n",
       "      <td>40</td>\n",
       "      <td>2011</td>\n",
       "      <td>1</td>\n",
       "      <td>January</td>\n",
       "      <td>1</td>\n",
       "      <td>Saturday</td>\n",
       "      <td>1</td>\n",
       "      <td>winter</td>\n",
       "    </tr>\n",
       "    <tr>\n",
       "      <th>2011-01-01 02:00:00</th>\n",
       "      <td>1</td>\n",
       "      <td>0</td>\n",
       "      <td>0</td>\n",
       "      <td>1</td>\n",
       "      <td>9.02</td>\n",
       "      <td>13.635</td>\n",
       "      <td>80</td>\n",
       "      <td>0.0</td>\n",
       "      <td>5.0</td>\n",
       "      <td>27.0</td>\n",
       "      <td>32</td>\n",
       "      <td>2011</td>\n",
       "      <td>1</td>\n",
       "      <td>January</td>\n",
       "      <td>1</td>\n",
       "      <td>Saturday</td>\n",
       "      <td>2</td>\n",
       "      <td>winter</td>\n",
       "    </tr>\n",
       "    <tr>\n",
       "      <th>2011-01-01 03:00:00</th>\n",
       "      <td>1</td>\n",
       "      <td>0</td>\n",
       "      <td>0</td>\n",
       "      <td>1</td>\n",
       "      <td>9.84</td>\n",
       "      <td>14.395</td>\n",
       "      <td>75</td>\n",
       "      <td>0.0</td>\n",
       "      <td>3.0</td>\n",
       "      <td>10.0</td>\n",
       "      <td>13</td>\n",
       "      <td>2011</td>\n",
       "      <td>1</td>\n",
       "      <td>January</td>\n",
       "      <td>1</td>\n",
       "      <td>Saturday</td>\n",
       "      <td>3</td>\n",
       "      <td>winter</td>\n",
       "    </tr>\n",
       "    <tr>\n",
       "      <th>2011-01-01 04:00:00</th>\n",
       "      <td>1</td>\n",
       "      <td>0</td>\n",
       "      <td>0</td>\n",
       "      <td>1</td>\n",
       "      <td>9.84</td>\n",
       "      <td>14.395</td>\n",
       "      <td>75</td>\n",
       "      <td>0.0</td>\n",
       "      <td>0.0</td>\n",
       "      <td>1.0</td>\n",
       "      <td>1</td>\n",
       "      <td>2011</td>\n",
       "      <td>1</td>\n",
       "      <td>January</td>\n",
       "      <td>1</td>\n",
       "      <td>Saturday</td>\n",
       "      <td>4</td>\n",
       "      <td>winter</td>\n",
       "    </tr>\n",
       "  </tbody>\n",
       "</table>\n",
       "</div>"
      ],
      "text/plain": [
       "                     season  holiday  workingday  weather  temp   atemp  \\\n",
       "datetime                                                                  \n",
       "2011-01-01 00:00:00       1        0           0        1  9.84  14.395   \n",
       "2011-01-01 01:00:00       1        0           0        1  9.02  13.635   \n",
       "2011-01-01 02:00:00       1        0           0        1  9.02  13.635   \n",
       "2011-01-01 03:00:00       1        0           0        1  9.84  14.395   \n",
       "2011-01-01 04:00:00       1        0           0        1  9.84  14.395   \n",
       "\n",
       "                     humidity  windspeed  casual  registered  count  year  \\\n",
       "datetime                                                                    \n",
       "2011-01-01 00:00:00        81        0.0     3.0        13.0     16  2011   \n",
       "2011-01-01 01:00:00        80        0.0     8.0        32.0     40  2011   \n",
       "2011-01-01 02:00:00        80        0.0     5.0        27.0     32  2011   \n",
       "2011-01-01 03:00:00        75        0.0     3.0        10.0     13  2011   \n",
       "2011-01-01 04:00:00        75        0.0     0.0         1.0      1  2011   \n",
       "\n",
       "                     month_number    month  day_of_month  week_day  hour_day  \\\n",
       "datetime                                                                       \n",
       "2011-01-01 00:00:00             1  January             1  Saturday         0   \n",
       "2011-01-01 01:00:00             1  January             1  Saturday         1   \n",
       "2011-01-01 02:00:00             1  January             1  Saturday         2   \n",
       "2011-01-01 03:00:00             1  January             1  Saturday         3   \n",
       "2011-01-01 04:00:00             1  January             1  Saturday         4   \n",
       "\n",
       "                    season_name  \n",
       "datetime                         \n",
       "2011-01-01 00:00:00      winter  \n",
       "2011-01-01 01:00:00      winter  \n",
       "2011-01-01 02:00:00      winter  \n",
       "2011-01-01 03:00:00      winter  \n",
       "2011-01-01 04:00:00      winter  "
      ]
     },
     "execution_count": 27,
     "metadata": {},
     "output_type": "execute_result"
    }
   ],
   "source": [
    "df_dt1.head()"
   ]
  },
  {
   "cell_type": "markdown",
   "id": "d6e2502d-2ea3-4f74-852d-a086b0054be9",
   "metadata": {},
   "source": [
    "### Create a part_of_day column for the bike data. It should have the following labels: morning, afternoon, evening, night"
   ]
  },
  {
   "cell_type": "code",
   "execution_count": 28,
   "id": "d9a177af-c05c-4839-8ced-e67080342d47",
   "metadata": {},
   "outputs": [
    {
     "data": {
      "text/html": [
       "<div>\n",
       "<style scoped>\n",
       "    .dataframe tbody tr th:only-of-type {\n",
       "        vertical-align: middle;\n",
       "    }\n",
       "\n",
       "    .dataframe tbody tr th {\n",
       "        vertical-align: top;\n",
       "    }\n",
       "\n",
       "    .dataframe thead th {\n",
       "        text-align: right;\n",
       "    }\n",
       "</style>\n",
       "<table border=\"1\" class=\"dataframe\">\n",
       "  <thead>\n",
       "    <tr style=\"text-align: right;\">\n",
       "      <th></th>\n",
       "      <th>season</th>\n",
       "      <th>holiday</th>\n",
       "      <th>workingday</th>\n",
       "      <th>weather</th>\n",
       "      <th>temp</th>\n",
       "      <th>atemp</th>\n",
       "      <th>humidity</th>\n",
       "      <th>windspeed</th>\n",
       "      <th>casual</th>\n",
       "      <th>registered</th>\n",
       "      <th>count</th>\n",
       "      <th>year</th>\n",
       "      <th>month_number</th>\n",
       "      <th>month</th>\n",
       "      <th>day_of_month</th>\n",
       "      <th>week_day</th>\n",
       "      <th>hour_day</th>\n",
       "      <th>season_name</th>\n",
       "      <th>hour_of_day</th>\n",
       "    </tr>\n",
       "    <tr>\n",
       "      <th>datetime</th>\n",
       "      <th></th>\n",
       "      <th></th>\n",
       "      <th></th>\n",
       "      <th></th>\n",
       "      <th></th>\n",
       "      <th></th>\n",
       "      <th></th>\n",
       "      <th></th>\n",
       "      <th></th>\n",
       "      <th></th>\n",
       "      <th></th>\n",
       "      <th></th>\n",
       "      <th></th>\n",
       "      <th></th>\n",
       "      <th></th>\n",
       "      <th></th>\n",
       "      <th></th>\n",
       "      <th></th>\n",
       "      <th></th>\n",
       "    </tr>\n",
       "  </thead>\n",
       "  <tbody>\n",
       "    <tr>\n",
       "      <th>2011-01-01 00:00:00</th>\n",
       "      <td>1</td>\n",
       "      <td>0</td>\n",
       "      <td>0</td>\n",
       "      <td>1</td>\n",
       "      <td>9.84</td>\n",
       "      <td>14.395</td>\n",
       "      <td>81</td>\n",
       "      <td>0.0</td>\n",
       "      <td>3.0</td>\n",
       "      <td>13.0</td>\n",
       "      <td>16</td>\n",
       "      <td>2011</td>\n",
       "      <td>1</td>\n",
       "      <td>January</td>\n",
       "      <td>1</td>\n",
       "      <td>Saturday</td>\n",
       "      <td>0</td>\n",
       "      <td>winter</td>\n",
       "      <td>0</td>\n",
       "    </tr>\n",
       "    <tr>\n",
       "      <th>2011-01-01 01:00:00</th>\n",
       "      <td>1</td>\n",
       "      <td>0</td>\n",
       "      <td>0</td>\n",
       "      <td>1</td>\n",
       "      <td>9.02</td>\n",
       "      <td>13.635</td>\n",
       "      <td>80</td>\n",
       "      <td>0.0</td>\n",
       "      <td>8.0</td>\n",
       "      <td>32.0</td>\n",
       "      <td>40</td>\n",
       "      <td>2011</td>\n",
       "      <td>1</td>\n",
       "      <td>January</td>\n",
       "      <td>1</td>\n",
       "      <td>Saturday</td>\n",
       "      <td>1</td>\n",
       "      <td>winter</td>\n",
       "      <td>1</td>\n",
       "    </tr>\n",
       "    <tr>\n",
       "      <th>2011-01-01 02:00:00</th>\n",
       "      <td>1</td>\n",
       "      <td>0</td>\n",
       "      <td>0</td>\n",
       "      <td>1</td>\n",
       "      <td>9.02</td>\n",
       "      <td>13.635</td>\n",
       "      <td>80</td>\n",
       "      <td>0.0</td>\n",
       "      <td>5.0</td>\n",
       "      <td>27.0</td>\n",
       "      <td>32</td>\n",
       "      <td>2011</td>\n",
       "      <td>1</td>\n",
       "      <td>January</td>\n",
       "      <td>1</td>\n",
       "      <td>Saturday</td>\n",
       "      <td>2</td>\n",
       "      <td>winter</td>\n",
       "      <td>2</td>\n",
       "    </tr>\n",
       "    <tr>\n",
       "      <th>2011-01-01 03:00:00</th>\n",
       "      <td>1</td>\n",
       "      <td>0</td>\n",
       "      <td>0</td>\n",
       "      <td>1</td>\n",
       "      <td>9.84</td>\n",
       "      <td>14.395</td>\n",
       "      <td>75</td>\n",
       "      <td>0.0</td>\n",
       "      <td>3.0</td>\n",
       "      <td>10.0</td>\n",
       "      <td>13</td>\n",
       "      <td>2011</td>\n",
       "      <td>1</td>\n",
       "      <td>January</td>\n",
       "      <td>1</td>\n",
       "      <td>Saturday</td>\n",
       "      <td>3</td>\n",
       "      <td>winter</td>\n",
       "      <td>3</td>\n",
       "    </tr>\n",
       "    <tr>\n",
       "      <th>2011-01-01 04:00:00</th>\n",
       "      <td>1</td>\n",
       "      <td>0</td>\n",
       "      <td>0</td>\n",
       "      <td>1</td>\n",
       "      <td>9.84</td>\n",
       "      <td>14.395</td>\n",
       "      <td>75</td>\n",
       "      <td>0.0</td>\n",
       "      <td>0.0</td>\n",
       "      <td>1.0</td>\n",
       "      <td>1</td>\n",
       "      <td>2011</td>\n",
       "      <td>1</td>\n",
       "      <td>January</td>\n",
       "      <td>1</td>\n",
       "      <td>Saturday</td>\n",
       "      <td>4</td>\n",
       "      <td>winter</td>\n",
       "      <td>4</td>\n",
       "    </tr>\n",
       "  </tbody>\n",
       "</table>\n",
       "</div>"
      ],
      "text/plain": [
       "                     season  holiday  workingday  weather  temp   atemp  \\\n",
       "datetime                                                                  \n",
       "2011-01-01 00:00:00       1        0           0        1  9.84  14.395   \n",
       "2011-01-01 01:00:00       1        0           0        1  9.02  13.635   \n",
       "2011-01-01 02:00:00       1        0           0        1  9.02  13.635   \n",
       "2011-01-01 03:00:00       1        0           0        1  9.84  14.395   \n",
       "2011-01-01 04:00:00       1        0           0        1  9.84  14.395   \n",
       "\n",
       "                     humidity  windspeed  casual  registered  count  year  \\\n",
       "datetime                                                                    \n",
       "2011-01-01 00:00:00        81        0.0     3.0        13.0     16  2011   \n",
       "2011-01-01 01:00:00        80        0.0     8.0        32.0     40  2011   \n",
       "2011-01-01 02:00:00        80        0.0     5.0        27.0     32  2011   \n",
       "2011-01-01 03:00:00        75        0.0     3.0        10.0     13  2011   \n",
       "2011-01-01 04:00:00        75        0.0     0.0         1.0      1  2011   \n",
       "\n",
       "                     month_number    month  day_of_month  week_day  hour_day  \\\n",
       "datetime                                                                       \n",
       "2011-01-01 00:00:00             1  January             1  Saturday         0   \n",
       "2011-01-01 01:00:00             1  January             1  Saturday         1   \n",
       "2011-01-01 02:00:00             1  January             1  Saturday         2   \n",
       "2011-01-01 03:00:00             1  January             1  Saturday         3   \n",
       "2011-01-01 04:00:00             1  January             1  Saturday         4   \n",
       "\n",
       "                    season_name  hour_of_day  \n",
       "datetime                                      \n",
       "2011-01-01 00:00:00      winter            0  \n",
       "2011-01-01 01:00:00      winter            1  \n",
       "2011-01-01 02:00:00      winter            2  \n",
       "2011-01-01 03:00:00      winter            3  \n",
       "2011-01-01 04:00:00      winter            4  "
      ]
     },
     "execution_count": 28,
     "metadata": {},
     "output_type": "execute_result"
    }
   ],
   "source": [
    "df_dt1['hour_of_day'] = df_dt1.index.hour\n",
    "df_dt1.head()"
   ]
  },
  {
   "cell_type": "code",
   "execution_count": 29,
   "id": "dcaa5871-cd24-4322-a52c-6560e4aed337",
   "metadata": {},
   "outputs": [
    {
     "data": {
      "text/plain": [
       "(0, 23)"
      ]
     },
     "execution_count": 29,
     "metadata": {},
     "output_type": "execute_result"
    }
   ],
   "source": [
    "df_dt1['hour_of_day'].min(), df_dt1['hour_of_day'].max() "
   ]
  },
  {
   "cell_type": "code",
   "execution_count": 30,
   "id": "53ac2029-38c5-445b-b6d3-04f318cbb63a",
   "metadata": {},
   "outputs": [],
   "source": [
    "time_labels = ['night','morning', 'afternoon', 'evening']\n",
    "bin_boundaries = [-0.1, 4.9, 12, 18, 23.9]"
   ]
  },
  {
   "cell_type": "code",
   "execution_count": 31,
   "id": "1c5ae741-9907-49b4-b85a-bd9a6b35ab68",
   "metadata": {},
   "outputs": [],
   "source": [
    "df_dt1['part_of_day']= pd.cut(df_dt1['hour_of_day'], bins=bin_boundaries, labels=time_labels)"
   ]
  },
  {
   "cell_type": "code",
   "execution_count": 32,
   "id": "8e2cca6a-272f-459a-aff5-012a7b57cb31",
   "metadata": {},
   "outputs": [
    {
     "data": {
      "text/html": [
       "<div>\n",
       "<style scoped>\n",
       "    .dataframe tbody tr th:only-of-type {\n",
       "        vertical-align: middle;\n",
       "    }\n",
       "\n",
       "    .dataframe tbody tr th {\n",
       "        vertical-align: top;\n",
       "    }\n",
       "\n",
       "    .dataframe thead th {\n",
       "        text-align: right;\n",
       "    }\n",
       "</style>\n",
       "<table border=\"1\" class=\"dataframe\">\n",
       "  <thead>\n",
       "    <tr style=\"text-align: right;\">\n",
       "      <th></th>\n",
       "      <th>season</th>\n",
       "      <th>holiday</th>\n",
       "      <th>workingday</th>\n",
       "      <th>weather</th>\n",
       "      <th>temp</th>\n",
       "      <th>atemp</th>\n",
       "      <th>humidity</th>\n",
       "      <th>windspeed</th>\n",
       "      <th>casual</th>\n",
       "      <th>registered</th>\n",
       "      <th>count</th>\n",
       "      <th>year</th>\n",
       "      <th>month_number</th>\n",
       "      <th>month</th>\n",
       "      <th>day_of_month</th>\n",
       "      <th>week_day</th>\n",
       "      <th>hour_day</th>\n",
       "      <th>season_name</th>\n",
       "      <th>hour_of_day</th>\n",
       "      <th>part_of_day</th>\n",
       "    </tr>\n",
       "    <tr>\n",
       "      <th>datetime</th>\n",
       "      <th></th>\n",
       "      <th></th>\n",
       "      <th></th>\n",
       "      <th></th>\n",
       "      <th></th>\n",
       "      <th></th>\n",
       "      <th></th>\n",
       "      <th></th>\n",
       "      <th></th>\n",
       "      <th></th>\n",
       "      <th></th>\n",
       "      <th></th>\n",
       "      <th></th>\n",
       "      <th></th>\n",
       "      <th></th>\n",
       "      <th></th>\n",
       "      <th></th>\n",
       "      <th></th>\n",
       "      <th></th>\n",
       "      <th></th>\n",
       "    </tr>\n",
       "  </thead>\n",
       "  <tbody>\n",
       "    <tr>\n",
       "      <th>2011-01-01 00:00:00</th>\n",
       "      <td>1</td>\n",
       "      <td>0</td>\n",
       "      <td>0</td>\n",
       "      <td>1</td>\n",
       "      <td>9.84</td>\n",
       "      <td>14.395</td>\n",
       "      <td>81</td>\n",
       "      <td>0.0</td>\n",
       "      <td>3.0</td>\n",
       "      <td>13.0</td>\n",
       "      <td>16</td>\n",
       "      <td>2011</td>\n",
       "      <td>1</td>\n",
       "      <td>January</td>\n",
       "      <td>1</td>\n",
       "      <td>Saturday</td>\n",
       "      <td>0</td>\n",
       "      <td>winter</td>\n",
       "      <td>0</td>\n",
       "      <td>night</td>\n",
       "    </tr>\n",
       "    <tr>\n",
       "      <th>2011-01-01 01:00:00</th>\n",
       "      <td>1</td>\n",
       "      <td>0</td>\n",
       "      <td>0</td>\n",
       "      <td>1</td>\n",
       "      <td>9.02</td>\n",
       "      <td>13.635</td>\n",
       "      <td>80</td>\n",
       "      <td>0.0</td>\n",
       "      <td>8.0</td>\n",
       "      <td>32.0</td>\n",
       "      <td>40</td>\n",
       "      <td>2011</td>\n",
       "      <td>1</td>\n",
       "      <td>January</td>\n",
       "      <td>1</td>\n",
       "      <td>Saturday</td>\n",
       "      <td>1</td>\n",
       "      <td>winter</td>\n",
       "      <td>1</td>\n",
       "      <td>night</td>\n",
       "    </tr>\n",
       "    <tr>\n",
       "      <th>2011-01-01 02:00:00</th>\n",
       "      <td>1</td>\n",
       "      <td>0</td>\n",
       "      <td>0</td>\n",
       "      <td>1</td>\n",
       "      <td>9.02</td>\n",
       "      <td>13.635</td>\n",
       "      <td>80</td>\n",
       "      <td>0.0</td>\n",
       "      <td>5.0</td>\n",
       "      <td>27.0</td>\n",
       "      <td>32</td>\n",
       "      <td>2011</td>\n",
       "      <td>1</td>\n",
       "      <td>January</td>\n",
       "      <td>1</td>\n",
       "      <td>Saturday</td>\n",
       "      <td>2</td>\n",
       "      <td>winter</td>\n",
       "      <td>2</td>\n",
       "      <td>night</td>\n",
       "    </tr>\n",
       "    <tr>\n",
       "      <th>2011-01-01 03:00:00</th>\n",
       "      <td>1</td>\n",
       "      <td>0</td>\n",
       "      <td>0</td>\n",
       "      <td>1</td>\n",
       "      <td>9.84</td>\n",
       "      <td>14.395</td>\n",
       "      <td>75</td>\n",
       "      <td>0.0</td>\n",
       "      <td>3.0</td>\n",
       "      <td>10.0</td>\n",
       "      <td>13</td>\n",
       "      <td>2011</td>\n",
       "      <td>1</td>\n",
       "      <td>January</td>\n",
       "      <td>1</td>\n",
       "      <td>Saturday</td>\n",
       "      <td>3</td>\n",
       "      <td>winter</td>\n",
       "      <td>3</td>\n",
       "      <td>night</td>\n",
       "    </tr>\n",
       "    <tr>\n",
       "      <th>2011-01-01 04:00:00</th>\n",
       "      <td>1</td>\n",
       "      <td>0</td>\n",
       "      <td>0</td>\n",
       "      <td>1</td>\n",
       "      <td>9.84</td>\n",
       "      <td>14.395</td>\n",
       "      <td>75</td>\n",
       "      <td>0.0</td>\n",
       "      <td>0.0</td>\n",
       "      <td>1.0</td>\n",
       "      <td>1</td>\n",
       "      <td>2011</td>\n",
       "      <td>1</td>\n",
       "      <td>January</td>\n",
       "      <td>1</td>\n",
       "      <td>Saturday</td>\n",
       "      <td>4</td>\n",
       "      <td>winter</td>\n",
       "      <td>4</td>\n",
       "      <td>night</td>\n",
       "    </tr>\n",
       "  </tbody>\n",
       "</table>\n",
       "</div>"
      ],
      "text/plain": [
       "                     season  holiday  workingday  weather  temp   atemp  \\\n",
       "datetime                                                                  \n",
       "2011-01-01 00:00:00       1        0           0        1  9.84  14.395   \n",
       "2011-01-01 01:00:00       1        0           0        1  9.02  13.635   \n",
       "2011-01-01 02:00:00       1        0           0        1  9.02  13.635   \n",
       "2011-01-01 03:00:00       1        0           0        1  9.84  14.395   \n",
       "2011-01-01 04:00:00       1        0           0        1  9.84  14.395   \n",
       "\n",
       "                     humidity  windspeed  casual  registered  count  year  \\\n",
       "datetime                                                                    \n",
       "2011-01-01 00:00:00        81        0.0     3.0        13.0     16  2011   \n",
       "2011-01-01 01:00:00        80        0.0     8.0        32.0     40  2011   \n",
       "2011-01-01 02:00:00        80        0.0     5.0        27.0     32  2011   \n",
       "2011-01-01 03:00:00        75        0.0     3.0        10.0     13  2011   \n",
       "2011-01-01 04:00:00        75        0.0     0.0         1.0      1  2011   \n",
       "\n",
       "                     month_number    month  day_of_month  week_day  hour_day  \\\n",
       "datetime                                                                       \n",
       "2011-01-01 00:00:00             1  January             1  Saturday         0   \n",
       "2011-01-01 01:00:00             1  January             1  Saturday         1   \n",
       "2011-01-01 02:00:00             1  January             1  Saturday         2   \n",
       "2011-01-01 03:00:00             1  January             1  Saturday         3   \n",
       "2011-01-01 04:00:00             1  January             1  Saturday         4   \n",
       "\n",
       "                    season_name  hour_of_day part_of_day  \n",
       "datetime                                                  \n",
       "2011-01-01 00:00:00      winter            0       night  \n",
       "2011-01-01 01:00:00      winter            1       night  \n",
       "2011-01-01 02:00:00      winter            2       night  \n",
       "2011-01-01 03:00:00      winter            3       night  \n",
       "2011-01-01 04:00:00      winter            4       night  "
      ]
     },
     "execution_count": 32,
     "metadata": {},
     "output_type": "execute_result"
    }
   ],
   "source": [
    "df_dt1.head()"
   ]
  },
  {
   "cell_type": "code",
   "execution_count": 33,
   "id": "ec8fc5f3-aa78-430d-848d-986b6a3f20f1",
   "metadata": {},
   "outputs": [
    {
     "data": {
      "text/html": [
       "<div>\n",
       "<style scoped>\n",
       "    .dataframe tbody tr th:only-of-type {\n",
       "        vertical-align: middle;\n",
       "    }\n",
       "\n",
       "    .dataframe tbody tr th {\n",
       "        vertical-align: top;\n",
       "    }\n",
       "\n",
       "    .dataframe thead th {\n",
       "        text-align: right;\n",
       "    }\n",
       "</style>\n",
       "<table border=\"1\" class=\"dataframe\">\n",
       "  <thead>\n",
       "    <tr style=\"text-align: right;\">\n",
       "      <th></th>\n",
       "      <th>season</th>\n",
       "      <th>holiday</th>\n",
       "      <th>workingday</th>\n",
       "      <th>weather</th>\n",
       "      <th>temp</th>\n",
       "      <th>atemp</th>\n",
       "      <th>humidity</th>\n",
       "      <th>windspeed</th>\n",
       "      <th>casual</th>\n",
       "      <th>registered</th>\n",
       "      <th>count</th>\n",
       "      <th>year</th>\n",
       "      <th>month_number</th>\n",
       "      <th>month</th>\n",
       "      <th>day_of_month</th>\n",
       "      <th>week_day</th>\n",
       "      <th>hour_day</th>\n",
       "      <th>season_name</th>\n",
       "      <th>hour_of_day</th>\n",
       "      <th>part_of_day</th>\n",
       "    </tr>\n",
       "    <tr>\n",
       "      <th>datetime</th>\n",
       "      <th></th>\n",
       "      <th></th>\n",
       "      <th></th>\n",
       "      <th></th>\n",
       "      <th></th>\n",
       "      <th></th>\n",
       "      <th></th>\n",
       "      <th></th>\n",
       "      <th></th>\n",
       "      <th></th>\n",
       "      <th></th>\n",
       "      <th></th>\n",
       "      <th></th>\n",
       "      <th></th>\n",
       "      <th></th>\n",
       "      <th></th>\n",
       "      <th></th>\n",
       "      <th></th>\n",
       "      <th></th>\n",
       "      <th></th>\n",
       "    </tr>\n",
       "  </thead>\n",
       "  <tbody>\n",
       "    <tr>\n",
       "      <th>2012-12-31 19:00:00</th>\n",
       "      <td>1</td>\n",
       "      <td>0</td>\n",
       "      <td>1</td>\n",
       "      <td>2</td>\n",
       "      <td>10.66</td>\n",
       "      <td>12.880</td>\n",
       "      <td>60</td>\n",
       "      <td>11.0014</td>\n",
       "      <td>NaN</td>\n",
       "      <td>NaN</td>\n",
       "      <td>156</td>\n",
       "      <td>2012</td>\n",
       "      <td>12</td>\n",
       "      <td>December</td>\n",
       "      <td>31</td>\n",
       "      <td>Monday</td>\n",
       "      <td>19</td>\n",
       "      <td>winter</td>\n",
       "      <td>19</td>\n",
       "      <td>evening</td>\n",
       "    </tr>\n",
       "    <tr>\n",
       "      <th>2012-12-31 20:00:00</th>\n",
       "      <td>1</td>\n",
       "      <td>0</td>\n",
       "      <td>1</td>\n",
       "      <td>2</td>\n",
       "      <td>10.66</td>\n",
       "      <td>12.880</td>\n",
       "      <td>60</td>\n",
       "      <td>11.0014</td>\n",
       "      <td>NaN</td>\n",
       "      <td>NaN</td>\n",
       "      <td>104</td>\n",
       "      <td>2012</td>\n",
       "      <td>12</td>\n",
       "      <td>December</td>\n",
       "      <td>31</td>\n",
       "      <td>Monday</td>\n",
       "      <td>20</td>\n",
       "      <td>winter</td>\n",
       "      <td>20</td>\n",
       "      <td>evening</td>\n",
       "    </tr>\n",
       "    <tr>\n",
       "      <th>2012-12-31 21:00:00</th>\n",
       "      <td>1</td>\n",
       "      <td>0</td>\n",
       "      <td>1</td>\n",
       "      <td>1</td>\n",
       "      <td>10.66</td>\n",
       "      <td>12.880</td>\n",
       "      <td>60</td>\n",
       "      <td>11.0014</td>\n",
       "      <td>NaN</td>\n",
       "      <td>NaN</td>\n",
       "      <td>67</td>\n",
       "      <td>2012</td>\n",
       "      <td>12</td>\n",
       "      <td>December</td>\n",
       "      <td>31</td>\n",
       "      <td>Monday</td>\n",
       "      <td>21</td>\n",
       "      <td>winter</td>\n",
       "      <td>21</td>\n",
       "      <td>evening</td>\n",
       "    </tr>\n",
       "    <tr>\n",
       "      <th>2012-12-31 22:00:00</th>\n",
       "      <td>1</td>\n",
       "      <td>0</td>\n",
       "      <td>1</td>\n",
       "      <td>1</td>\n",
       "      <td>10.66</td>\n",
       "      <td>13.635</td>\n",
       "      <td>56</td>\n",
       "      <td>8.9981</td>\n",
       "      <td>NaN</td>\n",
       "      <td>NaN</td>\n",
       "      <td>43</td>\n",
       "      <td>2012</td>\n",
       "      <td>12</td>\n",
       "      <td>December</td>\n",
       "      <td>31</td>\n",
       "      <td>Monday</td>\n",
       "      <td>22</td>\n",
       "      <td>winter</td>\n",
       "      <td>22</td>\n",
       "      <td>evening</td>\n",
       "    </tr>\n",
       "    <tr>\n",
       "      <th>2012-12-31 23:00:00</th>\n",
       "      <td>1</td>\n",
       "      <td>0</td>\n",
       "      <td>1</td>\n",
       "      <td>1</td>\n",
       "      <td>10.66</td>\n",
       "      <td>13.635</td>\n",
       "      <td>65</td>\n",
       "      <td>8.9981</td>\n",
       "      <td>NaN</td>\n",
       "      <td>NaN</td>\n",
       "      <td>28</td>\n",
       "      <td>2012</td>\n",
       "      <td>12</td>\n",
       "      <td>December</td>\n",
       "      <td>31</td>\n",
       "      <td>Monday</td>\n",
       "      <td>23</td>\n",
       "      <td>winter</td>\n",
       "      <td>23</td>\n",
       "      <td>evening</td>\n",
       "    </tr>\n",
       "  </tbody>\n",
       "</table>\n",
       "</div>"
      ],
      "text/plain": [
       "                     season  holiday  workingday  weather   temp   atemp  \\\n",
       "datetime                                                                   \n",
       "2012-12-31 19:00:00       1        0           1        2  10.66  12.880   \n",
       "2012-12-31 20:00:00       1        0           1        2  10.66  12.880   \n",
       "2012-12-31 21:00:00       1        0           1        1  10.66  12.880   \n",
       "2012-12-31 22:00:00       1        0           1        1  10.66  13.635   \n",
       "2012-12-31 23:00:00       1        0           1        1  10.66  13.635   \n",
       "\n",
       "                     humidity  windspeed  casual  registered  count  year  \\\n",
       "datetime                                                                    \n",
       "2012-12-31 19:00:00        60    11.0014     NaN         NaN    156  2012   \n",
       "2012-12-31 20:00:00        60    11.0014     NaN         NaN    104  2012   \n",
       "2012-12-31 21:00:00        60    11.0014     NaN         NaN     67  2012   \n",
       "2012-12-31 22:00:00        56     8.9981     NaN         NaN     43  2012   \n",
       "2012-12-31 23:00:00        65     8.9981     NaN         NaN     28  2012   \n",
       "\n",
       "                     month_number     month  day_of_month week_day  hour_day  \\\n",
       "datetime                                                                       \n",
       "2012-12-31 19:00:00            12  December            31   Monday        19   \n",
       "2012-12-31 20:00:00            12  December            31   Monday        20   \n",
       "2012-12-31 21:00:00            12  December            31   Monday        21   \n",
       "2012-12-31 22:00:00            12  December            31   Monday        22   \n",
       "2012-12-31 23:00:00            12  December            31   Monday        23   \n",
       "\n",
       "                    season_name  hour_of_day part_of_day  \n",
       "datetime                                                  \n",
       "2012-12-31 19:00:00      winter           19     evening  \n",
       "2012-12-31 20:00:00      winter           20     evening  \n",
       "2012-12-31 21:00:00      winter           21     evening  \n",
       "2012-12-31 22:00:00      winter           22     evening  \n",
       "2012-12-31 23:00:00      winter           23     evening  "
      ]
     },
     "execution_count": 33,
     "metadata": {},
     "output_type": "execute_result"
    }
   ],
   "source": [
    "df_dt1.tail()"
   ]
  },
  {
   "cell_type": "code",
   "execution_count": 35,
   "id": "ffa12e95-e25d-43dd-8308-54ed4803cfd4",
   "metadata": {},
   "outputs": [],
   "source": [
    "#df_dt1.to_csv('dc_bikes_2.csv', index=True) "
   ]
  }
 ],
 "metadata": {
  "kernelspec": {
   "display_name": "Python 3 (ipykernel)",
   "language": "python",
   "name": "python3"
  },
  "language_info": {
   "codemirror_mode": {
    "name": "ipython",
    "version": 3
   },
   "file_extension": ".py",
   "mimetype": "text/x-python",
   "name": "python",
   "nbconvert_exporter": "python",
   "pygments_lexer": "ipython3",
   "version": "3.9.12"
  }
 },
 "nbformat": 4,
 "nbformat_minor": 5
}

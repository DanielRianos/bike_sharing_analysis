{
 "cells": [
  {
   "cell_type": "markdown",
   "id": "20aadaee-3c47-45e6-8bfd-4d4ffecba1fd",
   "metadata": {},
   "source": [
    "# Forecast & Linear Regression"
   ]
  },
  {
   "cell_type": "code",
   "execution_count": 1,
   "id": "80452283-627a-44f2-b86b-bd477a3eb2ea",
   "metadata": {},
   "outputs": [],
   "source": [
    "import pandas as pd\n",
    "import matplotlib.pyplot as plt\n",
    "import seaborn as sns"
   ]
  },
  {
   "cell_type": "code",
   "execution_count": 2,
   "id": "03fe8a4e-b4bf-40fd-8622-5f6a57499169",
   "metadata": {},
   "outputs": [],
   "source": [
    "df_dt1 = pd.read_csv('data_sets/dc_bikes_2.csv', index_col=0)\n",
    "df_dt1.index = pd.to_datetime(df_dt1.index)"
   ]
  },
  {
   "cell_type": "code",
   "execution_count": 3,
   "id": "ebd0c5b1-ee85-47a0-bef4-0ed66c0b030f",
   "metadata": {},
   "outputs": [
    {
     "data": {
      "text/html": [
       "<div>\n",
       "<style scoped>\n",
       "    .dataframe tbody tr th:only-of-type {\n",
       "        vertical-align: middle;\n",
       "    }\n",
       "\n",
       "    .dataframe tbody tr th {\n",
       "        vertical-align: top;\n",
       "    }\n",
       "\n",
       "    .dataframe thead th {\n",
       "        text-align: right;\n",
       "    }\n",
       "</style>\n",
       "<table border=\"1\" class=\"dataframe\">\n",
       "  <thead>\n",
       "    <tr style=\"text-align: right;\">\n",
       "      <th></th>\n",
       "      <th>season</th>\n",
       "      <th>holiday</th>\n",
       "      <th>workingday</th>\n",
       "      <th>weather</th>\n",
       "      <th>temp</th>\n",
       "      <th>atemp</th>\n",
       "      <th>humidity</th>\n",
       "      <th>windspeed</th>\n",
       "      <th>casual</th>\n",
       "      <th>registered</th>\n",
       "      <th>count</th>\n",
       "      <th>year</th>\n",
       "      <th>month_number</th>\n",
       "      <th>month</th>\n",
       "      <th>day_of_month</th>\n",
       "      <th>week_day</th>\n",
       "      <th>hour_day</th>\n",
       "      <th>season_name</th>\n",
       "      <th>hour_of_day</th>\n",
       "      <th>part_of_day</th>\n",
       "    </tr>\n",
       "    <tr>\n",
       "      <th>datetime</th>\n",
       "      <th></th>\n",
       "      <th></th>\n",
       "      <th></th>\n",
       "      <th></th>\n",
       "      <th></th>\n",
       "      <th></th>\n",
       "      <th></th>\n",
       "      <th></th>\n",
       "      <th></th>\n",
       "      <th></th>\n",
       "      <th></th>\n",
       "      <th></th>\n",
       "      <th></th>\n",
       "      <th></th>\n",
       "      <th></th>\n",
       "      <th></th>\n",
       "      <th></th>\n",
       "      <th></th>\n",
       "      <th></th>\n",
       "      <th></th>\n",
       "    </tr>\n",
       "  </thead>\n",
       "  <tbody>\n",
       "    <tr>\n",
       "      <th>2011-01-01 00:00:00</th>\n",
       "      <td>1</td>\n",
       "      <td>0</td>\n",
       "      <td>0</td>\n",
       "      <td>1</td>\n",
       "      <td>9.84</td>\n",
       "      <td>14.395</td>\n",
       "      <td>81</td>\n",
       "      <td>0.0</td>\n",
       "      <td>3.0</td>\n",
       "      <td>13.0</td>\n",
       "      <td>16</td>\n",
       "      <td>2011</td>\n",
       "      <td>1</td>\n",
       "      <td>January</td>\n",
       "      <td>1</td>\n",
       "      <td>Saturday</td>\n",
       "      <td>0</td>\n",
       "      <td>winter</td>\n",
       "      <td>0</td>\n",
       "      <td>night</td>\n",
       "    </tr>\n",
       "    <tr>\n",
       "      <th>2011-01-01 01:00:00</th>\n",
       "      <td>1</td>\n",
       "      <td>0</td>\n",
       "      <td>0</td>\n",
       "      <td>1</td>\n",
       "      <td>9.02</td>\n",
       "      <td>13.635</td>\n",
       "      <td>80</td>\n",
       "      <td>0.0</td>\n",
       "      <td>8.0</td>\n",
       "      <td>32.0</td>\n",
       "      <td>40</td>\n",
       "      <td>2011</td>\n",
       "      <td>1</td>\n",
       "      <td>January</td>\n",
       "      <td>1</td>\n",
       "      <td>Saturday</td>\n",
       "      <td>1</td>\n",
       "      <td>winter</td>\n",
       "      <td>1</td>\n",
       "      <td>night</td>\n",
       "    </tr>\n",
       "    <tr>\n",
       "      <th>2011-01-01 02:00:00</th>\n",
       "      <td>1</td>\n",
       "      <td>0</td>\n",
       "      <td>0</td>\n",
       "      <td>1</td>\n",
       "      <td>9.02</td>\n",
       "      <td>13.635</td>\n",
       "      <td>80</td>\n",
       "      <td>0.0</td>\n",
       "      <td>5.0</td>\n",
       "      <td>27.0</td>\n",
       "      <td>32</td>\n",
       "      <td>2011</td>\n",
       "      <td>1</td>\n",
       "      <td>January</td>\n",
       "      <td>1</td>\n",
       "      <td>Saturday</td>\n",
       "      <td>2</td>\n",
       "      <td>winter</td>\n",
       "      <td>2</td>\n",
       "      <td>night</td>\n",
       "    </tr>\n",
       "    <tr>\n",
       "      <th>2011-01-01 03:00:00</th>\n",
       "      <td>1</td>\n",
       "      <td>0</td>\n",
       "      <td>0</td>\n",
       "      <td>1</td>\n",
       "      <td>9.84</td>\n",
       "      <td>14.395</td>\n",
       "      <td>75</td>\n",
       "      <td>0.0</td>\n",
       "      <td>3.0</td>\n",
       "      <td>10.0</td>\n",
       "      <td>13</td>\n",
       "      <td>2011</td>\n",
       "      <td>1</td>\n",
       "      <td>January</td>\n",
       "      <td>1</td>\n",
       "      <td>Saturday</td>\n",
       "      <td>3</td>\n",
       "      <td>winter</td>\n",
       "      <td>3</td>\n",
       "      <td>night</td>\n",
       "    </tr>\n",
       "    <tr>\n",
       "      <th>2011-01-01 04:00:00</th>\n",
       "      <td>1</td>\n",
       "      <td>0</td>\n",
       "      <td>0</td>\n",
       "      <td>1</td>\n",
       "      <td>9.84</td>\n",
       "      <td>14.395</td>\n",
       "      <td>75</td>\n",
       "      <td>0.0</td>\n",
       "      <td>0.0</td>\n",
       "      <td>1.0</td>\n",
       "      <td>1</td>\n",
       "      <td>2011</td>\n",
       "      <td>1</td>\n",
       "      <td>January</td>\n",
       "      <td>1</td>\n",
       "      <td>Saturday</td>\n",
       "      <td>4</td>\n",
       "      <td>winter</td>\n",
       "      <td>4</td>\n",
       "      <td>night</td>\n",
       "    </tr>\n",
       "  </tbody>\n",
       "</table>\n",
       "</div>"
      ],
      "text/plain": [
       "                     season  holiday  workingday  weather  temp   atemp  \\\n",
       "datetime                                                                  \n",
       "2011-01-01 00:00:00       1        0           0        1  9.84  14.395   \n",
       "2011-01-01 01:00:00       1        0           0        1  9.02  13.635   \n",
       "2011-01-01 02:00:00       1        0           0        1  9.02  13.635   \n",
       "2011-01-01 03:00:00       1        0           0        1  9.84  14.395   \n",
       "2011-01-01 04:00:00       1        0           0        1  9.84  14.395   \n",
       "\n",
       "                     humidity  windspeed  casual  registered  count  year  \\\n",
       "datetime                                                                    \n",
       "2011-01-01 00:00:00        81        0.0     3.0        13.0     16  2011   \n",
       "2011-01-01 01:00:00        80        0.0     8.0        32.0     40  2011   \n",
       "2011-01-01 02:00:00        80        0.0     5.0        27.0     32  2011   \n",
       "2011-01-01 03:00:00        75        0.0     3.0        10.0     13  2011   \n",
       "2011-01-01 04:00:00        75        0.0     0.0         1.0      1  2011   \n",
       "\n",
       "                     month_number    month  day_of_month  week_day  hour_day  \\\n",
       "datetime                                                                       \n",
       "2011-01-01 00:00:00             1  January             1  Saturday         0   \n",
       "2011-01-01 01:00:00             1  January             1  Saturday         1   \n",
       "2011-01-01 02:00:00             1  January             1  Saturday         2   \n",
       "2011-01-01 03:00:00             1  January             1  Saturday         3   \n",
       "2011-01-01 04:00:00             1  January             1  Saturday         4   \n",
       "\n",
       "                    season_name  hour_of_day part_of_day  \n",
       "datetime                                                  \n",
       "2011-01-01 00:00:00      winter            0       night  \n",
       "2011-01-01 01:00:00      winter            1       night  \n",
       "2011-01-01 02:00:00      winter            2       night  \n",
       "2011-01-01 03:00:00      winter            3       night  \n",
       "2011-01-01 04:00:00      winter            4       night  "
      ]
     },
     "execution_count": 3,
     "metadata": {},
     "output_type": "execute_result"
    }
   ],
   "source": [
    "df_dt1.head()"
   ]
  },
  {
   "cell_type": "markdown",
   "id": "0dc7f53d-543a-4eb3-85db-f1603f6d0f8e",
   "metadata": {},
   "source": [
    "## Error Metrics on forecast"
   ]
  },
  {
   "cell_type": "markdown",
   "id": "2aaa3297-8b9b-4b9a-af4e-509bcc45c4cc",
   "metadata": {},
   "source": [
    "#### Forecast for May 2012 using the count from May 2011 and define how far off the predictions are.\n"
   ]
  },
  {
   "cell_type": "code",
   "execution_count": 4,
   "id": "9c4b76ee-289e-4c5e-9e28-909a59f93267",
   "metadata": {
    "tags": []
   },
   "outputs": [
    {
     "data": {
      "text/html": [
       "<div>\n",
       "<style scoped>\n",
       "    .dataframe tbody tr th:only-of-type {\n",
       "        vertical-align: middle;\n",
       "    }\n",
       "\n",
       "    .dataframe tbody tr th {\n",
       "        vertical-align: top;\n",
       "    }\n",
       "\n",
       "    .dataframe thead th {\n",
       "        text-align: right;\n",
       "    }\n",
       "</style>\n",
       "<table border=\"1\" class=\"dataframe\">\n",
       "  <thead>\n",
       "    <tr style=\"text-align: right;\">\n",
       "      <th></th>\n",
       "      <th>count</th>\n",
       "      <th>year</th>\n",
       "      <th>month</th>\n",
       "      <th>day_of_month</th>\n",
       "    </tr>\n",
       "    <tr>\n",
       "      <th>datetime</th>\n",
       "      <th></th>\n",
       "      <th></th>\n",
       "      <th></th>\n",
       "      <th></th>\n",
       "    </tr>\n",
       "  </thead>\n",
       "  <tbody>\n",
       "    <tr>\n",
       "      <th>2011-05-01 00:00:00</th>\n",
       "      <td>96</td>\n",
       "      <td>2011</td>\n",
       "      <td>May</td>\n",
       "      <td>1</td>\n",
       "    </tr>\n",
       "    <tr>\n",
       "      <th>2011-05-01 01:00:00</th>\n",
       "      <td>59</td>\n",
       "      <td>2011</td>\n",
       "      <td>May</td>\n",
       "      <td>1</td>\n",
       "    </tr>\n",
       "    <tr>\n",
       "      <th>2011-05-01 02:00:00</th>\n",
       "      <td>50</td>\n",
       "      <td>2011</td>\n",
       "      <td>May</td>\n",
       "      <td>1</td>\n",
       "    </tr>\n",
       "    <tr>\n",
       "      <th>2011-05-01 03:00:00</th>\n",
       "      <td>23</td>\n",
       "      <td>2011</td>\n",
       "      <td>May</td>\n",
       "      <td>1</td>\n",
       "    </tr>\n",
       "    <tr>\n",
       "      <th>2011-05-01 04:00:00</th>\n",
       "      <td>17</td>\n",
       "      <td>2011</td>\n",
       "      <td>May</td>\n",
       "      <td>1</td>\n",
       "    </tr>\n",
       "    <tr>\n",
       "      <th>...</th>\n",
       "      <td>...</td>\n",
       "      <td>...</td>\n",
       "      <td>...</td>\n",
       "      <td>...</td>\n",
       "    </tr>\n",
       "    <tr>\n",
       "      <th>2011-05-31 19:00:00</th>\n",
       "      <td>407</td>\n",
       "      <td>2011</td>\n",
       "      <td>May</td>\n",
       "      <td>31</td>\n",
       "    </tr>\n",
       "    <tr>\n",
       "      <th>2011-05-31 20:00:00</th>\n",
       "      <td>310</td>\n",
       "      <td>2011</td>\n",
       "      <td>May</td>\n",
       "      <td>31</td>\n",
       "    </tr>\n",
       "    <tr>\n",
       "      <th>2011-05-31 21:00:00</th>\n",
       "      <td>224</td>\n",
       "      <td>2011</td>\n",
       "      <td>May</td>\n",
       "      <td>31</td>\n",
       "    </tr>\n",
       "    <tr>\n",
       "      <th>2011-05-31 22:00:00</th>\n",
       "      <td>160</td>\n",
       "      <td>2011</td>\n",
       "      <td>May</td>\n",
       "      <td>31</td>\n",
       "    </tr>\n",
       "    <tr>\n",
       "      <th>2011-05-31 23:00:00</th>\n",
       "      <td>98</td>\n",
       "      <td>2011</td>\n",
       "      <td>May</td>\n",
       "      <td>31</td>\n",
       "    </tr>\n",
       "  </tbody>\n",
       "</table>\n",
       "<p>744 rows × 4 columns</p>\n",
       "</div>"
      ],
      "text/plain": [
       "                     count  year month  day_of_month\n",
       "datetime                                            \n",
       "2011-05-01 00:00:00     96  2011   May             1\n",
       "2011-05-01 01:00:00     59  2011   May             1\n",
       "2011-05-01 02:00:00     50  2011   May             1\n",
       "2011-05-01 03:00:00     23  2011   May             1\n",
       "2011-05-01 04:00:00     17  2011   May             1\n",
       "...                    ...   ...   ...           ...\n",
       "2011-05-31 19:00:00    407  2011   May            31\n",
       "2011-05-31 20:00:00    310  2011   May            31\n",
       "2011-05-31 21:00:00    224  2011   May            31\n",
       "2011-05-31 22:00:00    160  2011   May            31\n",
       "2011-05-31 23:00:00     98  2011   May            31\n",
       "\n",
       "[744 rows x 4 columns]"
      ]
     },
     "execution_count": 4,
     "metadata": {},
     "output_type": "execute_result"
    }
   ],
   "source": [
    "import statsmodels.tools.eval_measures as sm\n",
    "\n",
    "y_forecast= df_dt1[['count','year','month','day_of_month']][(df_dt1['month'] == 'May') & (df_dt1['year'] == 2011)]\n",
    "y_forecast"
   ]
  },
  {
   "cell_type": "code",
   "execution_count": 5,
   "id": "84586666-4005-4c75-91ef-974eaf6fa7e7",
   "metadata": {
    "tags": []
   },
   "outputs": [
    {
     "data": {
      "text/html": [
       "<div>\n",
       "<style scoped>\n",
       "    .dataframe tbody tr th:only-of-type {\n",
       "        vertical-align: middle;\n",
       "    }\n",
       "\n",
       "    .dataframe tbody tr th {\n",
       "        vertical-align: top;\n",
       "    }\n",
       "\n",
       "    .dataframe thead th {\n",
       "        text-align: right;\n",
       "    }\n",
       "</style>\n",
       "<table border=\"1\" class=\"dataframe\">\n",
       "  <thead>\n",
       "    <tr style=\"text-align: right;\">\n",
       "      <th></th>\n",
       "      <th>count</th>\n",
       "      <th>year</th>\n",
       "      <th>month</th>\n",
       "      <th>day_of_month</th>\n",
       "    </tr>\n",
       "    <tr>\n",
       "      <th>datetime</th>\n",
       "      <th></th>\n",
       "      <th></th>\n",
       "      <th></th>\n",
       "      <th></th>\n",
       "    </tr>\n",
       "  </thead>\n",
       "  <tbody>\n",
       "    <tr>\n",
       "      <th>2012-05-01 00:00:00</th>\n",
       "      <td>35</td>\n",
       "      <td>2012</td>\n",
       "      <td>May</td>\n",
       "      <td>1</td>\n",
       "    </tr>\n",
       "    <tr>\n",
       "      <th>2012-05-01 01:00:00</th>\n",
       "      <td>21</td>\n",
       "      <td>2012</td>\n",
       "      <td>May</td>\n",
       "      <td>1</td>\n",
       "    </tr>\n",
       "    <tr>\n",
       "      <th>2012-05-01 02:00:00</th>\n",
       "      <td>8</td>\n",
       "      <td>2012</td>\n",
       "      <td>May</td>\n",
       "      <td>1</td>\n",
       "    </tr>\n",
       "    <tr>\n",
       "      <th>2012-05-01 03:00:00</th>\n",
       "      <td>3</td>\n",
       "      <td>2012</td>\n",
       "      <td>May</td>\n",
       "      <td>1</td>\n",
       "    </tr>\n",
       "    <tr>\n",
       "      <th>2012-05-01 04:00:00</th>\n",
       "      <td>8</td>\n",
       "      <td>2012</td>\n",
       "      <td>May</td>\n",
       "      <td>1</td>\n",
       "    </tr>\n",
       "    <tr>\n",
       "      <th>...</th>\n",
       "      <td>...</td>\n",
       "      <td>...</td>\n",
       "      <td>...</td>\n",
       "      <td>...</td>\n",
       "    </tr>\n",
       "    <tr>\n",
       "      <th>2012-05-31 19:00:00</th>\n",
       "      <td>420</td>\n",
       "      <td>2012</td>\n",
       "      <td>May</td>\n",
       "      <td>31</td>\n",
       "    </tr>\n",
       "    <tr>\n",
       "      <th>2012-05-31 20:00:00</th>\n",
       "      <td>336</td>\n",
       "      <td>2012</td>\n",
       "      <td>May</td>\n",
       "      <td>31</td>\n",
       "    </tr>\n",
       "    <tr>\n",
       "      <th>2012-05-31 21:00:00</th>\n",
       "      <td>249</td>\n",
       "      <td>2012</td>\n",
       "      <td>May</td>\n",
       "      <td>31</td>\n",
       "    </tr>\n",
       "    <tr>\n",
       "      <th>2012-05-31 22:00:00</th>\n",
       "      <td>188</td>\n",
       "      <td>2012</td>\n",
       "      <td>May</td>\n",
       "      <td>31</td>\n",
       "    </tr>\n",
       "    <tr>\n",
       "      <th>2012-05-31 23:00:00</th>\n",
       "      <td>135</td>\n",
       "      <td>2012</td>\n",
       "      <td>May</td>\n",
       "      <td>31</td>\n",
       "    </tr>\n",
       "  </tbody>\n",
       "</table>\n",
       "<p>744 rows × 4 columns</p>\n",
       "</div>"
      ],
      "text/plain": [
       "                     count  year month  day_of_month\n",
       "datetime                                            \n",
       "2012-05-01 00:00:00     35  2012   May             1\n",
       "2012-05-01 01:00:00     21  2012   May             1\n",
       "2012-05-01 02:00:00      8  2012   May             1\n",
       "2012-05-01 03:00:00      3  2012   May             1\n",
       "2012-05-01 04:00:00      8  2012   May             1\n",
       "...                    ...   ...   ...           ...\n",
       "2012-05-31 19:00:00    420  2012   May            31\n",
       "2012-05-31 20:00:00    336  2012   May            31\n",
       "2012-05-31 21:00:00    249  2012   May            31\n",
       "2012-05-31 22:00:00    188  2012   May            31\n",
       "2012-05-31 23:00:00    135  2012   May            31\n",
       "\n",
       "[744 rows x 4 columns]"
      ]
     },
     "execution_count": 5,
     "metadata": {},
     "output_type": "execute_result"
    }
   ],
   "source": [
    "y_actual= df_dt1[['count','year','month','day_of_month']][(df_dt1['month'] == 'May') & (df_dt1['year'] == 2012)]\n",
    "y_actual"
   ]
  },
  {
   "cell_type": "markdown",
   "id": "1e1fbd58-7aa3-476f-9225-7a26424ecdca",
   "metadata": {},
   "source": [
    "### sm.rmse(y_forecast, y_actual)"
   ]
  },
  {
   "cell_type": "code",
   "execution_count": 6,
   "id": "82320660-52e7-4bc9-9bf7-a14c98ccbd97",
   "metadata": {},
   "outputs": [
    {
     "data": {
      "text/plain": [
       "168.69935321213757"
      ]
     },
     "execution_count": 6,
     "metadata": {},
     "output_type": "execute_result"
    }
   ],
   "source": [
    "sm.rmse(y_forecast['count'], y_actual['count'])"
   ]
  },
  {
   "cell_type": "markdown",
   "id": "2b73c48b-dbe2-469c-8f15-73f55a63399f",
   "metadata": {},
   "source": [
    "How far off on average was this naive prediction?"
   ]
  },
  {
   "cell_type": "markdown",
   "id": "ad302ecb-4b16-478a-aa94-cf60f2b1c410",
   "metadata": {},
   "source": [
    "##### This prediction is 168.69 units far from the actual value. "
   ]
  },
  {
   "cell_type": "markdown",
   "id": "6c1f9e78-d70c-47f1-a590-44533c058430",
   "metadata": {},
   "source": [
    "#### Forecast vs Actual values plotting"
   ]
  },
  {
   "cell_type": "code",
   "execution_count": 7,
   "id": "d433f5e9-8878-4b7c-a277-4e7c9f1c380d",
   "metadata": {
    "tags": []
   },
   "outputs": [
    {
     "data": {
      "text/html": [
       "<div>\n",
       "<style scoped>\n",
       "    .dataframe tbody tr th:only-of-type {\n",
       "        vertical-align: middle;\n",
       "    }\n",
       "\n",
       "    .dataframe tbody tr th {\n",
       "        vertical-align: top;\n",
       "    }\n",
       "\n",
       "    .dataframe thead th {\n",
       "        text-align: right;\n",
       "    }\n",
       "</style>\n",
       "<table border=\"1\" class=\"dataframe\">\n",
       "  <thead>\n",
       "    <tr style=\"text-align: right;\">\n",
       "      <th></th>\n",
       "      <th>count</th>\n",
       "    </tr>\n",
       "    <tr>\n",
       "      <th>day_of_month</th>\n",
       "      <th></th>\n",
       "    </tr>\n",
       "  </thead>\n",
       "  <tbody>\n",
       "    <tr>\n",
       "      <th>1</th>\n",
       "      <td>139.625000</td>\n",
       "    </tr>\n",
       "    <tr>\n",
       "      <th>2</th>\n",
       "      <td>183.375000</td>\n",
       "    </tr>\n",
       "    <tr>\n",
       "      <th>3</th>\n",
       "      <td>185.458333</td>\n",
       "    </tr>\n",
       "    <tr>\n",
       "      <th>4</th>\n",
       "      <td>109.708333</td>\n",
       "    </tr>\n",
       "    <tr>\n",
       "      <th>5</th>\n",
       "      <td>184.708333</td>\n",
       "    </tr>\n",
       "    <tr>\n",
       "      <th>6</th>\n",
       "      <td>192.000000</td>\n",
       "    </tr>\n",
       "    <tr>\n",
       "      <th>7</th>\n",
       "      <td>196.416667</td>\n",
       "    </tr>\n",
       "    <tr>\n",
       "      <th>8</th>\n",
       "      <td>180.541667</td>\n",
       "    </tr>\n",
       "    <tr>\n",
       "      <th>9</th>\n",
       "      <td>181.750000</td>\n",
       "    </tr>\n",
       "    <tr>\n",
       "      <th>10</th>\n",
       "      <td>200.125000</td>\n",
       "    </tr>\n",
       "    <tr>\n",
       "      <th>11</th>\n",
       "      <td>174.250000</td>\n",
       "    </tr>\n",
       "    <tr>\n",
       "      <th>12</th>\n",
       "      <td>202.666667</td>\n",
       "    </tr>\n",
       "    <tr>\n",
       "      <th>13</th>\n",
       "      <td>171.041667</td>\n",
       "    </tr>\n",
       "    <tr>\n",
       "      <th>14</th>\n",
       "      <td>142.041667</td>\n",
       "    </tr>\n",
       "    <tr>\n",
       "      <th>15</th>\n",
       "      <td>189.708333</td>\n",
       "    </tr>\n",
       "    <tr>\n",
       "      <th>16</th>\n",
       "      <td>164.916667</td>\n",
       "    </tr>\n",
       "    <tr>\n",
       "      <th>17</th>\n",
       "      <td>171.791667</td>\n",
       "    </tr>\n",
       "    <tr>\n",
       "      <th>18</th>\n",
       "      <td>160.625000</td>\n",
       "    </tr>\n",
       "    <tr>\n",
       "      <th>19</th>\n",
       "      <td>190.625000</td>\n",
       "    </tr>\n",
       "    <tr>\n",
       "      <th>20</th>\n",
       "      <td>279.125000</td>\n",
       "    </tr>\n",
       "    <tr>\n",
       "      <th>21</th>\n",
       "      <td>324.458333</td>\n",
       "    </tr>\n",
       "    <tr>\n",
       "      <th>22</th>\n",
       "      <td>256.708333</td>\n",
       "    </tr>\n",
       "    <tr>\n",
       "      <th>23</th>\n",
       "      <td>182.916667</td>\n",
       "    </tr>\n",
       "    <tr>\n",
       "      <th>24</th>\n",
       "      <td>199.958333</td>\n",
       "    </tr>\n",
       "    <tr>\n",
       "      <th>25</th>\n",
       "      <td>245.958333</td>\n",
       "    </tr>\n",
       "    <tr>\n",
       "      <th>26</th>\n",
       "      <td>260.500000</td>\n",
       "    </tr>\n",
       "    <tr>\n",
       "      <th>27</th>\n",
       "      <td>280.208333</td>\n",
       "    </tr>\n",
       "    <tr>\n",
       "      <th>28</th>\n",
       "      <td>280.958333</td>\n",
       "    </tr>\n",
       "    <tr>\n",
       "      <th>29</th>\n",
       "      <td>222.541667</td>\n",
       "    </tr>\n",
       "    <tr>\n",
       "      <th>30</th>\n",
       "      <td>217.041667</td>\n",
       "    </tr>\n",
       "    <tr>\n",
       "      <th>31</th>\n",
       "      <td>200.333333</td>\n",
       "    </tr>\n",
       "  </tbody>\n",
       "</table>\n",
       "</div>"
      ],
      "text/plain": [
       "                   count\n",
       "day_of_month            \n",
       "1             139.625000\n",
       "2             183.375000\n",
       "3             185.458333\n",
       "4             109.708333\n",
       "5             184.708333\n",
       "6             192.000000\n",
       "7             196.416667\n",
       "8             180.541667\n",
       "9             181.750000\n",
       "10            200.125000\n",
       "11            174.250000\n",
       "12            202.666667\n",
       "13            171.041667\n",
       "14            142.041667\n",
       "15            189.708333\n",
       "16            164.916667\n",
       "17            171.791667\n",
       "18            160.625000\n",
       "19            190.625000\n",
       "20            279.125000\n",
       "21            324.458333\n",
       "22            256.708333\n",
       "23            182.916667\n",
       "24            199.958333\n",
       "25            245.958333\n",
       "26            260.500000\n",
       "27            280.208333\n",
       "28            280.958333\n",
       "29            222.541667\n",
       "30            217.041667\n",
       "31            200.333333"
      ]
     },
     "execution_count": 7,
     "metadata": {},
     "output_type": "execute_result"
    }
   ],
   "source": [
    "forecast_day_avg = y_forecast.groupby('day_of_month')['count'].mean()\n",
    "forecast_df= forecast_day_avg.to_frame()\n",
    "forecast_df"
   ]
  },
  {
   "cell_type": "code",
   "execution_count": 8,
   "id": "ffa1bf02-0c53-43d6-be94-4ecc57ac0340",
   "metadata": {
    "tags": []
   },
   "outputs": [
    {
     "data": {
      "text/html": [
       "<div>\n",
       "<style scoped>\n",
       "    .dataframe tbody tr th:only-of-type {\n",
       "        vertical-align: middle;\n",
       "    }\n",
       "\n",
       "    .dataframe tbody tr th {\n",
       "        vertical-align: top;\n",
       "    }\n",
       "\n",
       "    .dataframe thead th {\n",
       "        text-align: right;\n",
       "    }\n",
       "</style>\n",
       "<table border=\"1\" class=\"dataframe\">\n",
       "  <thead>\n",
       "    <tr style=\"text-align: right;\">\n",
       "      <th></th>\n",
       "      <th>count</th>\n",
       "    </tr>\n",
       "    <tr>\n",
       "      <th>day_of_month</th>\n",
       "      <th></th>\n",
       "    </tr>\n",
       "  </thead>\n",
       "  <tbody>\n",
       "    <tr>\n",
       "      <th>1</th>\n",
       "      <td>239.166667</td>\n",
       "    </tr>\n",
       "    <tr>\n",
       "      <th>2</th>\n",
       "      <td>257.041667</td>\n",
       "    </tr>\n",
       "    <tr>\n",
       "      <th>3</th>\n",
       "      <td>267.541667</td>\n",
       "    </tr>\n",
       "    <tr>\n",
       "      <th>4</th>\n",
       "      <td>262.333333</td>\n",
       "    </tr>\n",
       "    <tr>\n",
       "      <th>5</th>\n",
       "      <td>286.791667</td>\n",
       "    </tr>\n",
       "    <tr>\n",
       "      <th>6</th>\n",
       "      <td>264.958333</td>\n",
       "    </tr>\n",
       "    <tr>\n",
       "      <th>7</th>\n",
       "      <td>261.375000</td>\n",
       "    </tr>\n",
       "    <tr>\n",
       "      <th>8</th>\n",
       "      <td>238.666667</td>\n",
       "    </tr>\n",
       "    <tr>\n",
       "      <th>9</th>\n",
       "      <td>196.541667</td>\n",
       "    </tr>\n",
       "    <tr>\n",
       "      <th>10</th>\n",
       "      <td>273.833333</td>\n",
       "    </tr>\n",
       "    <tr>\n",
       "      <th>11</th>\n",
       "      <td>292.916667</td>\n",
       "    </tr>\n",
       "    <tr>\n",
       "      <th>12</th>\n",
       "      <td>309.541667</td>\n",
       "    </tr>\n",
       "    <tr>\n",
       "      <th>13</th>\n",
       "      <td>254.916667</td>\n",
       "    </tr>\n",
       "    <tr>\n",
       "      <th>14</th>\n",
       "      <td>118.458333</td>\n",
       "    </tr>\n",
       "    <tr>\n",
       "      <th>15</th>\n",
       "      <td>213.125000</td>\n",
       "    </tr>\n",
       "    <tr>\n",
       "      <th>16</th>\n",
       "      <td>309.333333</td>\n",
       "    </tr>\n",
       "    <tr>\n",
       "      <th>17</th>\n",
       "      <td>307.666667</td>\n",
       "    </tr>\n",
       "    <tr>\n",
       "      <th>18</th>\n",
       "      <td>318.291667</td>\n",
       "    </tr>\n",
       "    <tr>\n",
       "      <th>19</th>\n",
       "      <td>345.583333</td>\n",
       "    </tr>\n",
       "    <tr>\n",
       "      <th>20</th>\n",
       "      <td>284.916667</td>\n",
       "    </tr>\n",
       "    <tr>\n",
       "      <th>21</th>\n",
       "      <td>164.500000</td>\n",
       "    </tr>\n",
       "    <tr>\n",
       "      <th>22</th>\n",
       "      <td>203.875000</td>\n",
       "    </tr>\n",
       "    <tr>\n",
       "      <th>23</th>\n",
       "      <td>202.458333</td>\n",
       "    </tr>\n",
       "    <tr>\n",
       "      <th>24</th>\n",
       "      <td>257.166667</td>\n",
       "    </tr>\n",
       "    <tr>\n",
       "      <th>25</th>\n",
       "      <td>278.083333</td>\n",
       "    </tr>\n",
       "    <tr>\n",
       "      <th>26</th>\n",
       "      <td>275.583333</td>\n",
       "    </tr>\n",
       "    <tr>\n",
       "      <th>27</th>\n",
       "      <td>254.375000</td>\n",
       "    </tr>\n",
       "    <tr>\n",
       "      <th>28</th>\n",
       "      <td>261.000000</td>\n",
       "    </tr>\n",
       "    <tr>\n",
       "      <th>29</th>\n",
       "      <td>198.375000</td>\n",
       "    </tr>\n",
       "    <tr>\n",
       "      <th>30</th>\n",
       "      <td>199.958333</td>\n",
       "    </tr>\n",
       "    <tr>\n",
       "      <th>31</th>\n",
       "      <td>231.500000</td>\n",
       "    </tr>\n",
       "  </tbody>\n",
       "</table>\n",
       "</div>"
      ],
      "text/plain": [
       "                   count\n",
       "day_of_month            \n",
       "1             239.166667\n",
       "2             257.041667\n",
       "3             267.541667\n",
       "4             262.333333\n",
       "5             286.791667\n",
       "6             264.958333\n",
       "7             261.375000\n",
       "8             238.666667\n",
       "9             196.541667\n",
       "10            273.833333\n",
       "11            292.916667\n",
       "12            309.541667\n",
       "13            254.916667\n",
       "14            118.458333\n",
       "15            213.125000\n",
       "16            309.333333\n",
       "17            307.666667\n",
       "18            318.291667\n",
       "19            345.583333\n",
       "20            284.916667\n",
       "21            164.500000\n",
       "22            203.875000\n",
       "23            202.458333\n",
       "24            257.166667\n",
       "25            278.083333\n",
       "26            275.583333\n",
       "27            254.375000\n",
       "28            261.000000\n",
       "29            198.375000\n",
       "30            199.958333\n",
       "31            231.500000"
      ]
     },
     "execution_count": 8,
     "metadata": {},
     "output_type": "execute_result"
    }
   ],
   "source": [
    "actual_day_avg = y_actual.groupby('day_of_month')['count'].mean()\n",
    "actual_df = actual_day_avg.to_frame()\n",
    "actual_df"
   ]
  },
  {
   "cell_type": "code",
   "execution_count": 9,
   "id": "5a1e69ae-9531-410a-98cd-e114525e20ea",
   "metadata": {},
   "outputs": [
    {
     "data": {
      "image/png": "[encoded data removed]",
      "text/plain": [
       "<Figure size 432x288 with 1 Axes>"
      ]
     },
     "metadata": {
      "needs_background": "light"
     },
     "output_type": "display_data"
    }
   ],
   "source": [
    "plt.scatter(forecast_df.index, forecast_df['count'], label='estimate')\n",
    "plt.scatter(actual_df.index, actual_df['count'], label='actual')\n",
    "plt.legend();"
   ]
  },
  {
   "cell_type": "markdown",
   "id": "7cffd298-e984-4da8-a07f-4879a614aaf3",
   "metadata": {},
   "source": [
    "# Linear Regression"
   ]
  },
  {
   "cell_type": "code",
   "execution_count": 10,
   "id": "52fe0c40-5f68-4447-b3e9-e9f6a475787b",
   "metadata": {},
   "outputs": [],
   "source": [
    "import statsmodels.formula.api as sm\n",
    "from sklearn.metrics import r2_score"
   ]
  },
  {
   "cell_type": "code",
   "execution_count": 11,
   "id": "39dbac41-eb8d-4631-9c31-f514a948ae79",
   "metadata": {},
   "outputs": [
    {
     "data": {
      "text/html": [
       "<div>\n",
       "<style scoped>\n",
       "    .dataframe tbody tr th:only-of-type {\n",
       "        vertical-align: middle;\n",
       "    }\n",
       "\n",
       "    .dataframe tbody tr th {\n",
       "        vertical-align: top;\n",
       "    }\n",
       "\n",
       "    .dataframe thead th {\n",
       "        text-align: right;\n",
       "    }\n",
       "</style>\n",
       "<table border=\"1\" class=\"dataframe\">\n",
       "  <thead>\n",
       "    <tr style=\"text-align: right;\">\n",
       "      <th></th>\n",
       "      <th>season</th>\n",
       "      <th>holiday</th>\n",
       "      <th>workingday</th>\n",
       "      <th>weather</th>\n",
       "      <th>temp</th>\n",
       "      <th>atemp</th>\n",
       "      <th>humidity</th>\n",
       "      <th>windspeed</th>\n",
       "      <th>casual</th>\n",
       "      <th>registered</th>\n",
       "      <th>count</th>\n",
       "      <th>year</th>\n",
       "      <th>month_number</th>\n",
       "      <th>month</th>\n",
       "      <th>day_of_month</th>\n",
       "      <th>week_day</th>\n",
       "      <th>hour_day</th>\n",
       "      <th>season_name</th>\n",
       "      <th>hour_of_day</th>\n",
       "      <th>part_of_day</th>\n",
       "    </tr>\n",
       "    <tr>\n",
       "      <th>datetime</th>\n",
       "      <th></th>\n",
       "      <th></th>\n",
       "      <th></th>\n",
       "      <th></th>\n",
       "      <th></th>\n",
       "      <th></th>\n",
       "      <th></th>\n",
       "      <th></th>\n",
       "      <th></th>\n",
       "      <th></th>\n",
       "      <th></th>\n",
       "      <th></th>\n",
       "      <th></th>\n",
       "      <th></th>\n",
       "      <th></th>\n",
       "      <th></th>\n",
       "      <th></th>\n",
       "      <th></th>\n",
       "      <th></th>\n",
       "      <th></th>\n",
       "    </tr>\n",
       "  </thead>\n",
       "  <tbody>\n",
       "    <tr>\n",
       "      <th>2011-01-01 00:00:00</th>\n",
       "      <td>1</td>\n",
       "      <td>0</td>\n",
       "      <td>0</td>\n",
       "      <td>1</td>\n",
       "      <td>9.84</td>\n",
       "      <td>14.395</td>\n",
       "      <td>81</td>\n",
       "      <td>0.0000</td>\n",
       "      <td>3.0</td>\n",
       "      <td>13.0</td>\n",
       "      <td>16</td>\n",
       "      <td>2011</td>\n",
       "      <td>1</td>\n",
       "      <td>January</td>\n",
       "      <td>1</td>\n",
       "      <td>Saturday</td>\n",
       "      <td>0</td>\n",
       "      <td>winter</td>\n",
       "      <td>0</td>\n",
       "      <td>night</td>\n",
       "    </tr>\n",
       "    <tr>\n",
       "      <th>2011-01-01 01:00:00</th>\n",
       "      <td>1</td>\n",
       "      <td>0</td>\n",
       "      <td>0</td>\n",
       "      <td>1</td>\n",
       "      <td>9.02</td>\n",
       "      <td>13.635</td>\n",
       "      <td>80</td>\n",
       "      <td>0.0000</td>\n",
       "      <td>8.0</td>\n",
       "      <td>32.0</td>\n",
       "      <td>40</td>\n",
       "      <td>2011</td>\n",
       "      <td>1</td>\n",
       "      <td>January</td>\n",
       "      <td>1</td>\n",
       "      <td>Saturday</td>\n",
       "      <td>1</td>\n",
       "      <td>winter</td>\n",
       "      <td>1</td>\n",
       "      <td>night</td>\n",
       "    </tr>\n",
       "    <tr>\n",
       "      <th>2011-01-01 02:00:00</th>\n",
       "      <td>1</td>\n",
       "      <td>0</td>\n",
       "      <td>0</td>\n",
       "      <td>1</td>\n",
       "      <td>9.02</td>\n",
       "      <td>13.635</td>\n",
       "      <td>80</td>\n",
       "      <td>0.0000</td>\n",
       "      <td>5.0</td>\n",
       "      <td>27.0</td>\n",
       "      <td>32</td>\n",
       "      <td>2011</td>\n",
       "      <td>1</td>\n",
       "      <td>January</td>\n",
       "      <td>1</td>\n",
       "      <td>Saturday</td>\n",
       "      <td>2</td>\n",
       "      <td>winter</td>\n",
       "      <td>2</td>\n",
       "      <td>night</td>\n",
       "    </tr>\n",
       "    <tr>\n",
       "      <th>2011-01-01 03:00:00</th>\n",
       "      <td>1</td>\n",
       "      <td>0</td>\n",
       "      <td>0</td>\n",
       "      <td>1</td>\n",
       "      <td>9.84</td>\n",
       "      <td>14.395</td>\n",
       "      <td>75</td>\n",
       "      <td>0.0000</td>\n",
       "      <td>3.0</td>\n",
       "      <td>10.0</td>\n",
       "      <td>13</td>\n",
       "      <td>2011</td>\n",
       "      <td>1</td>\n",
       "      <td>January</td>\n",
       "      <td>1</td>\n",
       "      <td>Saturday</td>\n",
       "      <td>3</td>\n",
       "      <td>winter</td>\n",
       "      <td>3</td>\n",
       "      <td>night</td>\n",
       "    </tr>\n",
       "    <tr>\n",
       "      <th>2011-01-01 04:00:00</th>\n",
       "      <td>1</td>\n",
       "      <td>0</td>\n",
       "      <td>0</td>\n",
       "      <td>1</td>\n",
       "      <td>9.84</td>\n",
       "      <td>14.395</td>\n",
       "      <td>75</td>\n",
       "      <td>0.0000</td>\n",
       "      <td>0.0</td>\n",
       "      <td>1.0</td>\n",
       "      <td>1</td>\n",
       "      <td>2011</td>\n",
       "      <td>1</td>\n",
       "      <td>January</td>\n",
       "      <td>1</td>\n",
       "      <td>Saturday</td>\n",
       "      <td>4</td>\n",
       "      <td>winter</td>\n",
       "      <td>4</td>\n",
       "      <td>night</td>\n",
       "    </tr>\n",
       "    <tr>\n",
       "      <th>...</th>\n",
       "      <td>...</td>\n",
       "      <td>...</td>\n",
       "      <td>...</td>\n",
       "      <td>...</td>\n",
       "      <td>...</td>\n",
       "      <td>...</td>\n",
       "      <td>...</td>\n",
       "      <td>...</td>\n",
       "      <td>...</td>\n",
       "      <td>...</td>\n",
       "      <td>...</td>\n",
       "      <td>...</td>\n",
       "      <td>...</td>\n",
       "      <td>...</td>\n",
       "      <td>...</td>\n",
       "      <td>...</td>\n",
       "      <td>...</td>\n",
       "      <td>...</td>\n",
       "      <td>...</td>\n",
       "      <td>...</td>\n",
       "    </tr>\n",
       "    <tr>\n",
       "      <th>2012-12-31 19:00:00</th>\n",
       "      <td>1</td>\n",
       "      <td>0</td>\n",
       "      <td>1</td>\n",
       "      <td>2</td>\n",
       "      <td>10.66</td>\n",
       "      <td>12.880</td>\n",
       "      <td>60</td>\n",
       "      <td>11.0014</td>\n",
       "      <td>NaN</td>\n",
       "      <td>NaN</td>\n",
       "      <td>156</td>\n",
       "      <td>2012</td>\n",
       "      <td>12</td>\n",
       "      <td>December</td>\n",
       "      <td>31</td>\n",
       "      <td>Monday</td>\n",
       "      <td>19</td>\n",
       "      <td>winter</td>\n",
       "      <td>19</td>\n",
       "      <td>evening</td>\n",
       "    </tr>\n",
       "    <tr>\n",
       "      <th>2012-12-31 20:00:00</th>\n",
       "      <td>1</td>\n",
       "      <td>0</td>\n",
       "      <td>1</td>\n",
       "      <td>2</td>\n",
       "      <td>10.66</td>\n",
       "      <td>12.880</td>\n",
       "      <td>60</td>\n",
       "      <td>11.0014</td>\n",
       "      <td>NaN</td>\n",
       "      <td>NaN</td>\n",
       "      <td>104</td>\n",
       "      <td>2012</td>\n",
       "      <td>12</td>\n",
       "      <td>December</td>\n",
       "      <td>31</td>\n",
       "      <td>Monday</td>\n",
       "      <td>20</td>\n",
       "      <td>winter</td>\n",
       "      <td>20</td>\n",
       "      <td>evening</td>\n",
       "    </tr>\n",
       "    <tr>\n",
       "      <th>2012-12-31 21:00:00</th>\n",
       "      <td>1</td>\n",
       "      <td>0</td>\n",
       "      <td>1</td>\n",
       "      <td>1</td>\n",
       "      <td>10.66</td>\n",
       "      <td>12.880</td>\n",
       "      <td>60</td>\n",
       "      <td>11.0014</td>\n",
       "      <td>NaN</td>\n",
       "      <td>NaN</td>\n",
       "      <td>67</td>\n",
       "      <td>2012</td>\n",
       "      <td>12</td>\n",
       "      <td>December</td>\n",
       "      <td>31</td>\n",
       "      <td>Monday</td>\n",
       "      <td>21</td>\n",
       "      <td>winter</td>\n",
       "      <td>21</td>\n",
       "      <td>evening</td>\n",
       "    </tr>\n",
       "    <tr>\n",
       "      <th>2012-12-31 22:00:00</th>\n",
       "      <td>1</td>\n",
       "      <td>0</td>\n",
       "      <td>1</td>\n",
       "      <td>1</td>\n",
       "      <td>10.66</td>\n",
       "      <td>13.635</td>\n",
       "      <td>56</td>\n",
       "      <td>8.9981</td>\n",
       "      <td>NaN</td>\n",
       "      <td>NaN</td>\n",
       "      <td>43</td>\n",
       "      <td>2012</td>\n",
       "      <td>12</td>\n",
       "      <td>December</td>\n",
       "      <td>31</td>\n",
       "      <td>Monday</td>\n",
       "      <td>22</td>\n",
       "      <td>winter</td>\n",
       "      <td>22</td>\n",
       "      <td>evening</td>\n",
       "    </tr>\n",
       "    <tr>\n",
       "      <th>2012-12-31 23:00:00</th>\n",
       "      <td>1</td>\n",
       "      <td>0</td>\n",
       "      <td>1</td>\n",
       "      <td>1</td>\n",
       "      <td>10.66</td>\n",
       "      <td>13.635</td>\n",
       "      <td>65</td>\n",
       "      <td>8.9981</td>\n",
       "      <td>NaN</td>\n",
       "      <td>NaN</td>\n",
       "      <td>28</td>\n",
       "      <td>2012</td>\n",
       "      <td>12</td>\n",
       "      <td>December</td>\n",
       "      <td>31</td>\n",
       "      <td>Monday</td>\n",
       "      <td>23</td>\n",
       "      <td>winter</td>\n",
       "      <td>23</td>\n",
       "      <td>evening</td>\n",
       "    </tr>\n",
       "  </tbody>\n",
       "</table>\n",
       "<p>17379 rows × 20 columns</p>\n",
       "</div>"
      ],
      "text/plain": [
       "                     season  holiday  workingday  weather   temp   atemp  \\\n",
       "datetime                                                                   \n",
       "2011-01-01 00:00:00       1        0           0        1   9.84  14.395   \n",
       "2011-01-01 01:00:00       1        0           0        1   9.02  13.635   \n",
       "2011-01-01 02:00:00       1        0           0        1   9.02  13.635   \n",
       "2011-01-01 03:00:00       1        0           0        1   9.84  14.395   \n",
       "2011-01-01 04:00:00       1        0           0        1   9.84  14.395   \n",
       "...                     ...      ...         ...      ...    ...     ...   \n",
       "2012-12-31 19:00:00       1        0           1        2  10.66  12.880   \n",
       "2012-12-31 20:00:00       1        0           1        2  10.66  12.880   \n",
       "2012-12-31 21:00:00       1        0           1        1  10.66  12.880   \n",
       "2012-12-31 22:00:00       1        0           1        1  10.66  13.635   \n",
       "2012-12-31 23:00:00       1        0           1        1  10.66  13.635   \n",
       "\n",
       "                     humidity  windspeed  casual  registered  count  year  \\\n",
       "datetime                                                                    \n",
       "2011-01-01 00:00:00        81     0.0000     3.0        13.0     16  2011   \n",
       "2011-01-01 01:00:00        80     0.0000     8.0        32.0     40  2011   \n",
       "2011-01-01 02:00:00        80     0.0000     5.0        27.0     32  2011   \n",
       "2011-01-01 03:00:00        75     0.0000     3.0        10.0     13  2011   \n",
       "2011-01-01 04:00:00        75     0.0000     0.0         1.0      1  2011   \n",
       "...                       ...        ...     ...         ...    ...   ...   \n",
       "2012-12-31 19:00:00        60    11.0014     NaN         NaN    156  2012   \n",
       "2012-12-31 20:00:00        60    11.0014     NaN         NaN    104  2012   \n",
       "2012-12-31 21:00:00        60    11.0014     NaN         NaN     67  2012   \n",
       "2012-12-31 22:00:00        56     8.9981     NaN         NaN     43  2012   \n",
       "2012-12-31 23:00:00        65     8.9981     NaN         NaN     28  2012   \n",
       "\n",
       "                     month_number     month  day_of_month  week_day  hour_day  \\\n",
       "datetime                                                                        \n",
       "2011-01-01 00:00:00             1   January             1  Saturday         0   \n",
       "2011-01-01 01:00:00             1   January             1  Saturday         1   \n",
       "2011-01-01 02:00:00             1   January             1  Saturday         2   \n",
       "2011-01-01 03:00:00             1   January             1  Saturday         3   \n",
       "2011-01-01 04:00:00             1   January             1  Saturday         4   \n",
       "...                           ...       ...           ...       ...       ...   \n",
       "2012-12-31 19:00:00            12  December            31    Monday        19   \n",
       "2012-12-31 20:00:00            12  December            31    Monday        20   \n",
       "2012-12-31 21:00:00            12  December            31    Monday        21   \n",
       "2012-12-31 22:00:00            12  December            31    Monday        22   \n",
       "2012-12-31 23:00:00            12  December            31    Monday        23   \n",
       "\n",
       "                    season_name  hour_of_day part_of_day  \n",
       "datetime                                                  \n",
       "2011-01-01 00:00:00      winter            0       night  \n",
       "2011-01-01 01:00:00      winter            1       night  \n",
       "2011-01-01 02:00:00      winter            2       night  \n",
       "2011-01-01 03:00:00      winter            3       night  \n",
       "2011-01-01 04:00:00      winter            4       night  \n",
       "...                         ...          ...         ...  \n",
       "2012-12-31 19:00:00      winter           19     evening  \n",
       "2012-12-31 20:00:00      winter           20     evening  \n",
       "2012-12-31 21:00:00      winter           21     evening  \n",
       "2012-12-31 22:00:00      winter           22     evening  \n",
       "2012-12-31 23:00:00      winter           23     evening  \n",
       "\n",
       "[17379 rows x 20 columns]"
      ]
     },
     "execution_count": 11,
     "metadata": {},
     "output_type": "execute_result"
    }
   ],
   "source": [
    "df_dt1"
   ]
  },
  {
   "cell_type": "code",
   "execution_count": 12,
   "id": "a17027bd-f864-4a25-b71f-8ece220b6be1",
   "metadata": {},
   "outputs": [
    {
     "data": {
      "text/html": [
       "<div>\n",
       "<style scoped>\n",
       "    .dataframe tbody tr th:only-of-type {\n",
       "        vertical-align: middle;\n",
       "    }\n",
       "\n",
       "    .dataframe tbody tr th {\n",
       "        vertical-align: top;\n",
       "    }\n",
       "\n",
       "    .dataframe thead th {\n",
       "        text-align: right;\n",
       "    }\n",
       "</style>\n",
       "<table border=\"1\" class=\"dataframe\">\n",
       "  <thead>\n",
       "    <tr style=\"text-align: right;\">\n",
       "      <th></th>\n",
       "      <th>temp</th>\n",
       "      <th>atemp</th>\n",
       "      <th>humidity</th>\n",
       "      <th>windspeed</th>\n",
       "      <th>count</th>\n",
       "    </tr>\n",
       "    <tr>\n",
       "      <th>datetime</th>\n",
       "      <th></th>\n",
       "      <th></th>\n",
       "      <th></th>\n",
       "      <th></th>\n",
       "      <th></th>\n",
       "    </tr>\n",
       "  </thead>\n",
       "  <tbody>\n",
       "    <tr>\n",
       "      <th>2011-01-01 00:00:00</th>\n",
       "      <td>9.84</td>\n",
       "      <td>14.395</td>\n",
       "      <td>81</td>\n",
       "      <td>0.0000</td>\n",
       "      <td>16</td>\n",
       "    </tr>\n",
       "    <tr>\n",
       "      <th>2011-01-01 01:00:00</th>\n",
       "      <td>9.02</td>\n",
       "      <td>13.635</td>\n",
       "      <td>80</td>\n",
       "      <td>0.0000</td>\n",
       "      <td>40</td>\n",
       "    </tr>\n",
       "    <tr>\n",
       "      <th>2011-01-01 02:00:00</th>\n",
       "      <td>9.02</td>\n",
       "      <td>13.635</td>\n",
       "      <td>80</td>\n",
       "      <td>0.0000</td>\n",
       "      <td>32</td>\n",
       "    </tr>\n",
       "    <tr>\n",
       "      <th>2011-01-01 03:00:00</th>\n",
       "      <td>9.84</td>\n",
       "      <td>14.395</td>\n",
       "      <td>75</td>\n",
       "      <td>0.0000</td>\n",
       "      <td>13</td>\n",
       "    </tr>\n",
       "    <tr>\n",
       "      <th>2011-01-01 04:00:00</th>\n",
       "      <td>9.84</td>\n",
       "      <td>14.395</td>\n",
       "      <td>75</td>\n",
       "      <td>0.0000</td>\n",
       "      <td>1</td>\n",
       "    </tr>\n",
       "    <tr>\n",
       "      <th>...</th>\n",
       "      <td>...</td>\n",
       "      <td>...</td>\n",
       "      <td>...</td>\n",
       "      <td>...</td>\n",
       "      <td>...</td>\n",
       "    </tr>\n",
       "    <tr>\n",
       "      <th>2012-12-31 19:00:00</th>\n",
       "      <td>10.66</td>\n",
       "      <td>12.880</td>\n",
       "      <td>60</td>\n",
       "      <td>11.0014</td>\n",
       "      <td>156</td>\n",
       "    </tr>\n",
       "    <tr>\n",
       "      <th>2012-12-31 20:00:00</th>\n",
       "      <td>10.66</td>\n",
       "      <td>12.880</td>\n",
       "      <td>60</td>\n",
       "      <td>11.0014</td>\n",
       "      <td>104</td>\n",
       "    </tr>\n",
       "    <tr>\n",
       "      <th>2012-12-31 21:00:00</th>\n",
       "      <td>10.66</td>\n",
       "      <td>12.880</td>\n",
       "      <td>60</td>\n",
       "      <td>11.0014</td>\n",
       "      <td>67</td>\n",
       "    </tr>\n",
       "    <tr>\n",
       "      <th>2012-12-31 22:00:00</th>\n",
       "      <td>10.66</td>\n",
       "      <td>13.635</td>\n",
       "      <td>56</td>\n",
       "      <td>8.9981</td>\n",
       "      <td>43</td>\n",
       "    </tr>\n",
       "    <tr>\n",
       "      <th>2012-12-31 23:00:00</th>\n",
       "      <td>10.66</td>\n",
       "      <td>13.635</td>\n",
       "      <td>65</td>\n",
       "      <td>8.9981</td>\n",
       "      <td>28</td>\n",
       "    </tr>\n",
       "  </tbody>\n",
       "</table>\n",
       "<p>17379 rows × 5 columns</p>\n",
       "</div>"
      ],
      "text/plain": [
       "                      temp   atemp  humidity  windspeed  count\n",
       "datetime                                                      \n",
       "2011-01-01 00:00:00   9.84  14.395        81     0.0000     16\n",
       "2011-01-01 01:00:00   9.02  13.635        80     0.0000     40\n",
       "2011-01-01 02:00:00   9.02  13.635        80     0.0000     32\n",
       "2011-01-01 03:00:00   9.84  14.395        75     0.0000     13\n",
       "2011-01-01 04:00:00   9.84  14.395        75     0.0000      1\n",
       "...                    ...     ...       ...        ...    ...\n",
       "2012-12-31 19:00:00  10.66  12.880        60    11.0014    156\n",
       "2012-12-31 20:00:00  10.66  12.880        60    11.0014    104\n",
       "2012-12-31 21:00:00  10.66  12.880        60    11.0014     67\n",
       "2012-12-31 22:00:00  10.66  13.635        56     8.9981     43\n",
       "2012-12-31 23:00:00  10.66  13.635        65     8.9981     28\n",
       "\n",
       "[17379 rows x 5 columns]"
      ]
     },
     "execution_count": 12,
     "metadata": {},
     "output_type": "execute_result"
    }
   ],
   "source": [
    "df_dt3 = df_dt1[['temp','atemp','humidity','windspeed','count']]\n",
    "df_dt3"
   ]
  },
  {
   "cell_type": "code",
   "execution_count": 13,
   "id": "7c7b3c82-4195-4df1-9a71-77f29c4d7699",
   "metadata": {},
   "outputs": [
    {
     "data": {
      "text/plain": [
       "temp         0\n",
       "atemp        0\n",
       "humidity     0\n",
       "windspeed    0\n",
       "count        0\n",
       "dtype: int64"
      ]
     },
     "execution_count": 13,
     "metadata": {},
     "output_type": "execute_result"
    }
   ],
   "source": [
    "df_dt3.isnull().sum()"
   ]
  },
  {
   "cell_type": "code",
   "execution_count": 14,
   "id": "8394df17-bc40-47d9-bd08-8718acf600e8",
   "metadata": {},
   "outputs": [
    {
     "data": {
      "text/html": [
       "<div>\n",
       "<style scoped>\n",
       "    .dataframe tbody tr th:only-of-type {\n",
       "        vertical-align: middle;\n",
       "    }\n",
       "\n",
       "    .dataframe tbody tr th {\n",
       "        vertical-align: top;\n",
       "    }\n",
       "\n",
       "    .dataframe thead th {\n",
       "        text-align: right;\n",
       "    }\n",
       "</style>\n",
       "<table border=\"1\" class=\"dataframe\">\n",
       "  <thead>\n",
       "    <tr style=\"text-align: right;\">\n",
       "      <th></th>\n",
       "      <th>temp</th>\n",
       "      <th>atemp</th>\n",
       "      <th>humidity</th>\n",
       "      <th>windspeed</th>\n",
       "      <th>count</th>\n",
       "    </tr>\n",
       "  </thead>\n",
       "  <tbody>\n",
       "    <tr>\n",
       "      <th>temp</th>\n",
       "      <td>1.000000</td>\n",
       "      <td>0.987672</td>\n",
       "      <td>-0.069881</td>\n",
       "      <td>-0.023125</td>\n",
       "      <td>0.414713</td>\n",
       "    </tr>\n",
       "    <tr>\n",
       "      <th>atemp</th>\n",
       "      <td>0.987672</td>\n",
       "      <td>1.000000</td>\n",
       "      <td>-0.051918</td>\n",
       "      <td>-0.062336</td>\n",
       "      <td>0.411854</td>\n",
       "    </tr>\n",
       "    <tr>\n",
       "      <th>humidity</th>\n",
       "      <td>-0.069881</td>\n",
       "      <td>-0.051918</td>\n",
       "      <td>1.000000</td>\n",
       "      <td>-0.290105</td>\n",
       "      <td>-0.329615</td>\n",
       "    </tr>\n",
       "    <tr>\n",
       "      <th>windspeed</th>\n",
       "      <td>-0.023125</td>\n",
       "      <td>-0.062336</td>\n",
       "      <td>-0.290105</td>\n",
       "      <td>1.000000</td>\n",
       "      <td>0.099909</td>\n",
       "    </tr>\n",
       "    <tr>\n",
       "      <th>count</th>\n",
       "      <td>0.414713</td>\n",
       "      <td>0.411854</td>\n",
       "      <td>-0.329615</td>\n",
       "      <td>0.099909</td>\n",
       "      <td>1.000000</td>\n",
       "    </tr>\n",
       "  </tbody>\n",
       "</table>\n",
       "</div>"
      ],
      "text/plain": [
       "               temp     atemp  humidity  windspeed     count\n",
       "temp       1.000000  0.987672 -0.069881  -0.023125  0.414713\n",
       "atemp      0.987672  1.000000 -0.051918  -0.062336  0.411854\n",
       "humidity  -0.069881 -0.051918  1.000000  -0.290105 -0.329615\n",
       "windspeed -0.023125 -0.062336 -0.290105   1.000000  0.099909\n",
       "count      0.414713  0.411854 -0.329615   0.099909  1.000000"
      ]
     },
     "execution_count": 14,
     "metadata": {},
     "output_type": "execute_result"
    }
   ],
   "source": [
    "df_dt3.corr()"
   ]
  },
  {
   "cell_type": "markdown",
   "id": "43b6f770-f93a-428d-b976-601ecf3ac0ce",
   "metadata": {
    "tags": []
   },
   "source": [
    "#### Heatmap"
   ]
  },
  {
   "cell_type": "code",
   "execution_count": 15,
   "id": "ac0dea31-54ab-4f2c-a1ad-c03f9ad287b4",
   "metadata": {},
   "outputs": [
    {
     "data": {
      "image/png": "[encoded data removed]",
      "text/plain": [
       "<Figure size 432x288 with 2 Axes>"
      ]
     },
     "metadata": {
      "needs_background": "light"
     },
     "output_type": "display_data"
    }
   ],
   "source": [
    "sns.heatmap(df_dt3.corr());"
   ]
  },
  {
   "cell_type": "markdown",
   "id": "20fa69da-dbe2-4ebe-ae13-4c5f8503a866",
   "metadata": {},
   "source": [
    "#### The features that have the highest correlation are 'temp' and 'atemp'"
   ]
  },
  {
   "cell_type": "markdown",
   "id": "9da6b994-5feb-4cac-a3cc-5e3de0141f56",
   "metadata": {},
   "source": [
    "#### Linear Regression Model (count as the response variable)"
   ]
  },
  {
   "cell_type": "code",
   "execution_count": 16,
   "id": "aea4bc08-05dc-43f5-966a-06303adc6aac",
   "metadata": {},
   "outputs": [
    {
     "data": {
      "image/png": "[encoded data removed]",
      "text/plain": [
       "<Figure size 360x360 with 1 Axes>"
      ]
     },
     "metadata": {
      "needs_background": "light"
     },
     "output_type": "display_data"
    }
   ],
   "source": [
    "sns.lmplot(x='atemp', y='count', data=df_dt3, ci=None, legend = True);"
   ]
  },
  {
   "cell_type": "markdown",
   "id": "e943d0cc-ec8f-4d69-a56e-1a12485bdccc",
   "metadata": {},
   "source": [
    "#### Linear Regression Model using one independent variable"
   ]
  },
  {
   "cell_type": "code",
   "execution_count": 17,
   "id": "f2600d2a-97e6-48a5-be8c-320c64e95f7b",
   "metadata": {},
   "outputs": [],
   "source": [
    "model1 = sm.ols(formula='count ~ atemp', data=df_dt3).fit()"
   ]
  },
  {
   "cell_type": "code",
   "execution_count": 18,
   "id": "298f59a9-a344-4626-a119-872c3c59570c",
   "metadata": {},
   "outputs": [
    {
     "data": {
      "text/plain": [
       "0.16957623553894396"
      ]
     },
     "execution_count": 18,
     "metadata": {},
     "output_type": "execute_result"
    }
   ],
   "source": [
    "model1.rsquared_adj"
   ]
  },
  {
   "cell_type": "code",
   "execution_count": 19,
   "id": "10520c9a-2609-47de-8377-71ac8c958a53",
   "metadata": {},
   "outputs": [
    {
     "data": {
      "text/html": [
       "<table class=\"simpletable\">\n",
       "<caption>OLS Regression Results</caption>\n",
       "<tr>\n",
       "  <th>Dep. Variable:</th>          <td>count</td>      <th>  R-squared:         </th>  <td>   0.170</td>  \n",
       "</tr>\n",
       "<tr>\n",
       "  <th>Model:</th>                   <td>OLS</td>       <th>  Adj. R-squared:    </th>  <td>   0.170</td>  \n",
       "</tr>\n",
       "<tr>\n",
       "  <th>Method:</th>             <td>Least Squares</td>  <th>  F-statistic:       </th>  <td>   3550.</td>  \n",
       "</tr>\n",
       "<tr>\n",
       "  <th>Date:</th>             <td>Fri, 16 Sep 2022</td> <th>  Prob (F-statistic):</th>   <td>  0.00</td>   \n",
       "</tr>\n",
       "<tr>\n",
       "  <th>Time:</th>                 <td>18:42:22</td>     <th>  Log-Likelihood:    </th> <td>-1.1306e+05</td>\n",
       "</tr>\n",
       "<tr>\n",
       "  <th>No. Observations:</th>      <td> 17379</td>      <th>  AIC:               </th>  <td>2.261e+05</td> \n",
       "</tr>\n",
       "<tr>\n",
       "  <th>Df Residuals:</th>          <td> 17377</td>      <th>  BIC:               </th>  <td>2.261e+05</td> \n",
       "</tr>\n",
       "<tr>\n",
       "  <th>Df Model:</th>              <td>     1</td>      <th>                     </th>      <td> </td>     \n",
       "</tr>\n",
       "<tr>\n",
       "  <th>Covariance Type:</th>      <td>nonrobust</td>    <th>                     </th>      <td> </td>     \n",
       "</tr>\n",
       "</table>\n",
       "<table class=\"simpletable\">\n",
       "<tr>\n",
       "      <td></td>         <th>coef</th>     <th>std err</th>      <th>t</th>      <th>P>|t|</th>  <th>[0.025</th>    <th>0.975]</th>  \n",
       "</tr>\n",
       "<tr>\n",
       "  <th>Intercept</th> <td>  -13.9114</td> <td>    3.614</td> <td>   -3.849</td> <td> 0.000</td> <td>  -20.996</td> <td>   -6.827</td>\n",
       "</tr>\n",
       "<tr>\n",
       "  <th>atemp</th>     <td>    8.5134</td> <td>    0.143</td> <td>   59.579</td> <td> 0.000</td> <td>    8.233</td> <td>    8.794</td>\n",
       "</tr>\n",
       "</table>\n",
       "<table class=\"simpletable\">\n",
       "<tr>\n",
       "  <th>Omnibus:</th>       <td>3035.450</td> <th>  Durbin-Watson:     </th> <td>   0.368</td>\n",
       "</tr>\n",
       "<tr>\n",
       "  <th>Prob(Omnibus):</th>  <td> 0.000</td>  <th>  Jarque-Bera (JB):  </th> <td>5369.553</td>\n",
       "</tr>\n",
       "<tr>\n",
       "  <th>Skew:</th>           <td> 1.124</td>  <th>  Prob(JB):          </th> <td>    0.00</td>\n",
       "</tr>\n",
       "<tr>\n",
       "  <th>Kurtosis:</th>       <td> 4.538</td>  <th>  Cond. No.          </th> <td>    74.6</td>\n",
       "</tr>\n",
       "</table><br/><br/>Notes:<br/>[1] Standard Errors assume that the covariance matrix of the errors is correctly specified."
      ],
      "text/plain": [
       "<class 'statsmodels.iolib.summary.Summary'>\n",
       "\"\"\"\n",
       "                            OLS Regression Results                            \n",
       "==============================================================================\n",
       "Dep. Variable:                  count   R-squared:                       0.170\n",
       "Model:                            OLS   Adj. R-squared:                  0.170\n",
       "Method:                 Least Squares   F-statistic:                     3550.\n",
       "Date:                Fri, 16 Sep 2022   Prob (F-statistic):               0.00\n",
       "Time:                        18:42:22   Log-Likelihood:            -1.1306e+05\n",
       "No. Observations:               17379   AIC:                         2.261e+05\n",
       "Df Residuals:                   17377   BIC:                         2.261e+05\n",
       "Df Model:                           1                                         \n",
       "Covariance Type:            nonrobust                                         \n",
       "==============================================================================\n",
       "                 coef    std err          t      P>|t|      [0.025      0.975]\n",
       "------------------------------------------------------------------------------\n",
       "Intercept    -13.9114      3.614     -3.849      0.000     -20.996      -6.827\n",
       "atemp          8.5134      0.143     59.579      0.000       8.233       8.794\n",
       "==============================================================================\n",
       "Omnibus:                     3035.450   Durbin-Watson:                   0.368\n",
       "Prob(Omnibus):                  0.000   Jarque-Bera (JB):             5369.553\n",
       "Skew:                           1.124   Prob(JB):                         0.00\n",
       "Kurtosis:                       4.538   Cond. No.                         74.6\n",
       "==============================================================================\n",
       "\n",
       "Notes:\n",
       "[1] Standard Errors assume that the covariance matrix of the errors is correctly specified.\n",
       "\"\"\""
      ]
     },
     "execution_count": 19,
     "metadata": {},
     "output_type": "execute_result"
    }
   ],
   "source": [
    "model1.summary()"
   ]
  },
  {
   "cell_type": "code",
   "execution_count": 20,
   "id": "0acda91b-b6a7-43b3-a8f1-4068c2467cea",
   "metadata": {},
   "outputs": [
    {
     "data": {
      "text/plain": [
       "-778.2440409261103"
      ]
     },
     "execution_count": 20,
     "metadata": {},
     "output_type": "execute_result"
    }
   ],
   "source": [
    "# Assume y is the actual value and f is the predicted values\n",
    "\n",
    "y = df_dt3['atemp']\n",
    "f = df_dt3['count']\n",
    "\n",
    "R_square = r2_score(y, f) \n",
    "R_square"
   ]
  },
  {
   "cell_type": "markdown",
   "id": "d3d03f0b-28a2-4cff-8c2f-1f80b2cc4c6f",
   "metadata": {},
   "source": [
    "#### Linear Regression Model adding an additional feature from the subset dataframe"
   ]
  },
  {
   "cell_type": "code",
   "execution_count": 21,
   "id": "9e760ea8-7a46-4b63-86e2-f92f85d28201",
   "metadata": {},
   "outputs": [],
   "source": [
    "model2 = sm.ols(formula='count ~ atemp + temp', data=df_dt3).fit()"
   ]
  },
  {
   "cell_type": "code",
   "execution_count": 22,
   "id": "dcd177f1-3f9f-431d-b9c3-eb15067695e2",
   "metadata": {},
   "outputs": [
    {
     "data": {
      "text/plain": [
       "0.17209913556328493"
      ]
     },
     "execution_count": 22,
     "metadata": {},
     "output_type": "execute_result"
    }
   ],
   "source": [
    "model2.rsquared_adj"
   ]
  },
  {
   "cell_type": "code",
   "execution_count": 23,
   "id": "79163f9c-f96e-4d6d-a96e-c63acdfe17ad",
   "metadata": {},
   "outputs": [
    {
     "data": {
      "text/html": [
       "<table class=\"simpletable\">\n",
       "<caption>OLS Regression Results</caption>\n",
       "<tr>\n",
       "  <th>Dep. Variable:</th>          <td>count</td>      <th>  R-squared:         </th>  <td>   0.172</td>  \n",
       "</tr>\n",
       "<tr>\n",
       "  <th>Model:</th>                   <td>OLS</td>       <th>  Adj. R-squared:    </th>  <td>   0.172</td>  \n",
       "</tr>\n",
       "<tr>\n",
       "  <th>Method:</th>             <td>Least Squares</td>  <th>  F-statistic:       </th>  <td>   1807.</td>  \n",
       "</tr>\n",
       "<tr>\n",
       "  <th>Date:</th>             <td>Fri, 16 Sep 2022</td> <th>  Prob (F-statistic):</th>   <td>  0.00</td>   \n",
       "</tr>\n",
       "<tr>\n",
       "  <th>Time:</th>                 <td>18:42:22</td>     <th>  Log-Likelihood:    </th> <td>-1.1303e+05</td>\n",
       "</tr>\n",
       "<tr>\n",
       "  <th>No. Observations:</th>      <td> 17379</td>      <th>  AIC:               </th>  <td>2.261e+05</td> \n",
       "</tr>\n",
       "<tr>\n",
       "  <th>Df Residuals:</th>          <td> 17376</td>      <th>  BIC:               </th>  <td>2.261e+05</td> \n",
       "</tr>\n",
       "<tr>\n",
       "  <th>Df Model:</th>              <td>     2</td>      <th>                     </th>      <td> </td>     \n",
       "</tr>\n",
       "<tr>\n",
       "  <th>Covariance Type:</th>      <td>nonrobust</td>    <th>                     </th>      <td> </td>     \n",
       "</tr>\n",
       "</table>\n",
       "<table class=\"simpletable\">\n",
       "<tr>\n",
       "      <td></td>         <th>coef</th>     <th>std err</th>      <th>t</th>      <th>P>|t|</th>  <th>[0.025</th>    <th>0.975]</th>  \n",
       "</tr>\n",
       "<tr>\n",
       "  <th>Intercept</th> <td>   -5.0860</td> <td>    3.803</td> <td>   -1.337</td> <td> 0.181</td> <td>  -12.541</td> <td>    2.369</td>\n",
       "</tr>\n",
       "<tr>\n",
       "  <th>atemp</th>     <td>    1.9011</td> <td>    0.911</td> <td>    2.086</td> <td> 0.037</td> <td>    0.115</td> <td>    3.688</td>\n",
       "</tr>\n",
       "<tr>\n",
       "  <th>temp</th>      <td>    7.2866</td> <td>    0.992</td> <td>    7.345</td> <td> 0.000</td> <td>    5.342</td> <td>    9.231</td>\n",
       "</tr>\n",
       "</table>\n",
       "<table class=\"simpletable\">\n",
       "<tr>\n",
       "  <th>Omnibus:</th>       <td>3030.218</td> <th>  Durbin-Watson:     </th> <td>   0.368</td>\n",
       "</tr>\n",
       "<tr>\n",
       "  <th>Prob(Omnibus):</th>  <td> 0.000</td>  <th>  Jarque-Bera (JB):  </th> <td>5360.929</td>\n",
       "</tr>\n",
       "<tr>\n",
       "  <th>Skew:</th>           <td> 1.122</td>  <th>  Prob(JB):          </th> <td>    0.00</td>\n",
       "</tr>\n",
       "<tr>\n",
       "  <th>Kurtosis:</th>       <td> 4.539</td>  <th>  Cond. No.          </th> <td>    105.</td>\n",
       "</tr>\n",
       "</table><br/><br/>Notes:<br/>[1] Standard Errors assume that the covariance matrix of the errors is correctly specified."
      ],
      "text/plain": [
       "<class 'statsmodels.iolib.summary.Summary'>\n",
       "\"\"\"\n",
       "                            OLS Regression Results                            \n",
       "==============================================================================\n",
       "Dep. Variable:                  count   R-squared:                       0.172\n",
       "Model:                            OLS   Adj. R-squared:                  0.172\n",
       "Method:                 Least Squares   F-statistic:                     1807.\n",
       "Date:                Fri, 16 Sep 2022   Prob (F-statistic):               0.00\n",
       "Time:                        18:42:22   Log-Likelihood:            -1.1303e+05\n",
       "No. Observations:               17379   AIC:                         2.261e+05\n",
       "Df Residuals:                   17376   BIC:                         2.261e+05\n",
       "Df Model:                           2                                         \n",
       "Covariance Type:            nonrobust                                         \n",
       "==============================================================================\n",
       "                 coef    std err          t      P>|t|      [0.025      0.975]\n",
       "------------------------------------------------------------------------------\n",
       "Intercept     -5.0860      3.803     -1.337      0.181     -12.541       2.369\n",
       "atemp          1.9011      0.911      2.086      0.037       0.115       3.688\n",
       "temp           7.2866      0.992      7.345      0.000       5.342       9.231\n",
       "==============================================================================\n",
       "Omnibus:                     3030.218   Durbin-Watson:                   0.368\n",
       "Prob(Omnibus):                  0.000   Jarque-Bera (JB):             5360.929\n",
       "Skew:                           1.122   Prob(JB):                         0.00\n",
       "Kurtosis:                       4.539   Cond. No.                         105.\n",
       "==============================================================================\n",
       "\n",
       "Notes:\n",
       "[1] Standard Errors assume that the covariance matrix of the errors is correctly specified.\n",
       "\"\"\""
      ]
     },
     "execution_count": 23,
     "metadata": {},
     "output_type": "execute_result"
    }
   ],
   "source": [
    "model2.summary()"
   ]
  },
  {
   "cell_type": "markdown",
   "id": "173f9ce5-9281-47dc-99cb-b84dd3aed75b",
   "metadata": {},
   "source": [
    "#### The R2 improves a bit because we are adding more variables to explain the variation on the dependent variable. "
   ]
  },
  {
   "cell_type": "markdown",
   "id": "58cae899-fccf-4c02-a498-ae2854bd857a",
   "metadata": {},
   "source": [
    "#### Linear Regression Model adding an additional feature from the subset dataframe"
   ]
  },
  {
   "cell_type": "code",
   "execution_count": 24,
   "id": "b92abba9-8ad1-4966-b929-259dccb55898",
   "metadata": {
    "tags": []
   },
   "outputs": [],
   "source": [
    "model3 = sm.ols(formula='count ~ atemp + temp + humidity', data=df_dt3).fit()"
   ]
  },
  {
   "cell_type": "code",
   "execution_count": 25,
   "id": "b8411690-c287-4918-8b72-a781a89d7037",
   "metadata": {},
   "outputs": [
    {
     "data": {
      "text/plain": [
       "0.26495883334221737"
      ]
     },
     "execution_count": 25,
     "metadata": {},
     "output_type": "execute_result"
    }
   ],
   "source": [
    "model3.rsquared_adj"
   ]
  },
  {
   "cell_type": "code",
   "execution_count": 26,
   "id": "f5f3437b-b064-48ed-8a0a-1699d3b48986",
   "metadata": {},
   "outputs": [
    {
     "data": {
      "text/html": [
       "<table class=\"simpletable\">\n",
       "<caption>OLS Regression Results</caption>\n",
       "<tr>\n",
       "  <th>Dep. Variable:</th>          <td>count</td>      <th>  R-squared:         </th>  <td>   0.265</td>  \n",
       "</tr>\n",
       "<tr>\n",
       "  <th>Model:</th>                   <td>OLS</td>       <th>  Adj. R-squared:    </th>  <td>   0.265</td>  \n",
       "</tr>\n",
       "<tr>\n",
       "  <th>Method:</th>             <td>Least Squares</td>  <th>  F-statistic:       </th>  <td>   2089.</td>  \n",
       "</tr>\n",
       "<tr>\n",
       "  <th>Date:</th>             <td>Fri, 16 Sep 2022</td> <th>  Prob (F-statistic):</th>   <td>  0.00</td>   \n",
       "</tr>\n",
       "<tr>\n",
       "  <th>Time:</th>                 <td>18:42:22</td>     <th>  Log-Likelihood:    </th> <td>-1.1200e+05</td>\n",
       "</tr>\n",
       "<tr>\n",
       "  <th>No. Observations:</th>      <td> 17379</td>      <th>  AIC:               </th>  <td>2.240e+05</td> \n",
       "</tr>\n",
       "<tr>\n",
       "  <th>Df Residuals:</th>          <td> 17375</td>      <th>  BIC:               </th>  <td>2.240e+05</td> \n",
       "</tr>\n",
       "<tr>\n",
       "  <th>Df Model:</th>              <td>     3</td>      <th>                     </th>      <td> </td>     \n",
       "</tr>\n",
       "<tr>\n",
       "  <th>Covariance Type:</th>      <td>nonrobust</td>    <th>                     </th>      <td> </td>     \n",
       "</tr>\n",
       "</table>\n",
       "<table class=\"simpletable\">\n",
       "<tr>\n",
       "      <td></td>         <th>coef</th>     <th>std err</th>      <th>t</th>      <th>P>|t|</th>  <th>[0.025</th>    <th>0.975]</th>  \n",
       "</tr>\n",
       "<tr>\n",
       "  <th>Intercept</th> <td>  173.8944</td> <td>    5.237</td> <td>   33.203</td> <td> 0.000</td> <td>  163.629</td> <td>  184.160</td>\n",
       "</tr>\n",
       "<tr>\n",
       "  <th>atemp</th>     <td>    6.3356</td> <td>    0.864</td> <td>    7.333</td> <td> 0.000</td> <td>    4.642</td> <td>    8.029</td>\n",
       "</tr>\n",
       "<tr>\n",
       "  <th>temp</th>      <td>    2.0363</td> <td>    0.941</td> <td>    2.163</td> <td> 0.031</td> <td>    0.191</td> <td>    3.882</td>\n",
       "</tr>\n",
       "<tr>\n",
       "  <th>humidity</th>  <td>   -2.8298</td> <td>    0.060</td> <td>  -46.863</td> <td> 0.000</td> <td>   -2.948</td> <td>   -2.711</td>\n",
       "</tr>\n",
       "</table>\n",
       "<table class=\"simpletable\">\n",
       "<tr>\n",
       "  <th>Omnibus:</th>       <td>3408.682</td> <th>  Durbin-Watson:     </th> <td>   0.419</td>\n",
       "</tr>\n",
       "<tr>\n",
       "  <th>Prob(Omnibus):</th>  <td> 0.000</td>  <th>  Jarque-Bera (JB):  </th> <td>6689.889</td>\n",
       "</tr>\n",
       "<tr>\n",
       "  <th>Skew:</th>           <td> 1.191</td>  <th>  Prob(JB):          </th> <td>    0.00</td>\n",
       "</tr>\n",
       "<tr>\n",
       "  <th>Kurtosis:</th>       <td> 4.889</td>  <th>  Cond. No.          </th> <td>    328.</td>\n",
       "</tr>\n",
       "</table><br/><br/>Notes:<br/>[1] Standard Errors assume that the covariance matrix of the errors is correctly specified."
      ],
      "text/plain": [
       "<class 'statsmodels.iolib.summary.Summary'>\n",
       "\"\"\"\n",
       "                            OLS Regression Results                            \n",
       "==============================================================================\n",
       "Dep. Variable:                  count   R-squared:                       0.265\n",
       "Model:                            OLS   Adj. R-squared:                  0.265\n",
       "Method:                 Least Squares   F-statistic:                     2089.\n",
       "Date:                Fri, 16 Sep 2022   Prob (F-statistic):               0.00\n",
       "Time:                        18:42:22   Log-Likelihood:            -1.1200e+05\n",
       "No. Observations:               17379   AIC:                         2.240e+05\n",
       "Df Residuals:                   17375   BIC:                         2.240e+05\n",
       "Df Model:                           3                                         \n",
       "Covariance Type:            nonrobust                                         \n",
       "==============================================================================\n",
       "                 coef    std err          t      P>|t|      [0.025      0.975]\n",
       "------------------------------------------------------------------------------\n",
       "Intercept    173.8944      5.237     33.203      0.000     163.629     184.160\n",
       "atemp          6.3356      0.864      7.333      0.000       4.642       8.029\n",
       "temp           2.0363      0.941      2.163      0.031       0.191       3.882\n",
       "humidity      -2.8298      0.060    -46.863      0.000      -2.948      -2.711\n",
       "==============================================================================\n",
       "Omnibus:                     3408.682   Durbin-Watson:                   0.419\n",
       "Prob(Omnibus):                  0.000   Jarque-Bera (JB):             6689.889\n",
       "Skew:                           1.191   Prob(JB):                         0.00\n",
       "Kurtosis:                       4.889   Cond. No.                         328.\n",
       "==============================================================================\n",
       "\n",
       "Notes:\n",
       "[1] Standard Errors assume that the covariance matrix of the errors is correctly specified.\n",
       "\"\"\""
      ]
     },
     "execution_count": 26,
     "metadata": {},
     "output_type": "execute_result"
    }
   ],
   "source": [
    "model3.summary()"
   ]
  },
  {
   "cell_type": "code",
   "execution_count": 27,
   "id": "8adb3db4-4257-4d37-93ec-96c0d9fa5144",
   "metadata": {},
   "outputs": [],
   "source": [
    "model4 = sm.ols(formula='count ~ atemp + temp + humidity + windspeed', data=df_dt3).fit()"
   ]
  },
  {
   "cell_type": "code",
   "execution_count": 28,
   "id": "8a2cea58-00a0-4776-9c1f-14ddf3b12633",
   "metadata": {},
   "outputs": [
    {
     "data": {
      "text/plain": [
       "0.266096124721964"
      ]
     },
     "execution_count": 28,
     "metadata": {},
     "output_type": "execute_result"
    }
   ],
   "source": [
    "model4.rsquared_adj"
   ]
  },
  {
   "cell_type": "code",
   "execution_count": 29,
   "id": "17f5b72c-ca6d-46ae-b268-2b51f321d17b",
   "metadata": {},
   "outputs": [
    {
     "data": {
      "text/html": [
       "<table class=\"simpletable\">\n",
       "<caption>OLS Regression Results</caption>\n",
       "<tr>\n",
       "  <th>Dep. Variable:</th>          <td>count</td>      <th>  R-squared:         </th>  <td>   0.266</td>  \n",
       "</tr>\n",
       "<tr>\n",
       "  <th>Model:</th>                   <td>OLS</td>       <th>  Adj. R-squared:    </th>  <td>   0.266</td>  \n",
       "</tr>\n",
       "<tr>\n",
       "  <th>Method:</th>             <td>Least Squares</td>  <th>  F-statistic:       </th>  <td>   1576.</td>  \n",
       "</tr>\n",
       "<tr>\n",
       "  <th>Date:</th>             <td>Fri, 16 Sep 2022</td> <th>  Prob (F-statistic):</th>   <td>  0.00</td>   \n",
       "</tr>\n",
       "<tr>\n",
       "  <th>Time:</th>                 <td>18:42:22</td>     <th>  Log-Likelihood:    </th> <td>-1.1199e+05</td>\n",
       "</tr>\n",
       "<tr>\n",
       "  <th>No. Observations:</th>      <td> 17379</td>      <th>  AIC:               </th>  <td>2.240e+05</td> \n",
       "</tr>\n",
       "<tr>\n",
       "  <th>Df Residuals:</th>          <td> 17374</td>      <th>  BIC:               </th>  <td>2.240e+05</td> \n",
       "</tr>\n",
       "<tr>\n",
       "  <th>Df Model:</th>              <td>     4</td>      <th>                     </th>      <td> </td>     \n",
       "</tr>\n",
       "<tr>\n",
       "  <th>Covariance Type:</th>      <td>nonrobust</td>    <th>                     </th>      <td> </td>     \n",
       "</tr>\n",
       "</table>\n",
       "<table class=\"simpletable\">\n",
       "<tr>\n",
       "      <td></td>         <th>coef</th>     <th>std err</th>      <th>t</th>      <th>P>|t|</th>  <th>[0.025</th>    <th>0.975]</th>  \n",
       "</tr>\n",
       "<tr>\n",
       "  <th>Intercept</th> <td>  155.2151</td> <td>    6.315</td> <td>   24.578</td> <td> 0.000</td> <td>  142.837</td> <td>  167.594</td>\n",
       "</tr>\n",
       "<tr>\n",
       "  <th>atemp</th>     <td>    7.4229</td> <td>    0.888</td> <td>    8.364</td> <td> 0.000</td> <td>    5.683</td> <td>    9.162</td>\n",
       "</tr>\n",
       "<tr>\n",
       "  <th>temp</th>      <td>    0.9024</td> <td>    0.965</td> <td>    0.935</td> <td> 0.350</td> <td>   -0.989</td> <td>    2.794</td>\n",
       "</tr>\n",
       "<tr>\n",
       "  <th>humidity</th>  <td>   -2.7384</td> <td>    0.063</td> <td>  -43.631</td> <td> 0.000</td> <td>   -2.861</td> <td>   -2.615</td>\n",
       "</tr>\n",
       "<tr>\n",
       "  <th>windspeed</th> <td>    0.8002</td> <td>    0.151</td> <td>    5.284</td> <td> 0.000</td> <td>    0.503</td> <td>    1.097</td>\n",
       "</tr>\n",
       "</table>\n",
       "<table class=\"simpletable\">\n",
       "<tr>\n",
       "  <th>Omnibus:</th>       <td>3423.472</td> <th>  Durbin-Watson:     </th> <td>   0.420</td>\n",
       "</tr>\n",
       "<tr>\n",
       "  <th>Prob(Omnibus):</th>  <td> 0.000</td>  <th>  Jarque-Bera (JB):  </th> <td>6737.500</td>\n",
       "</tr>\n",
       "<tr>\n",
       "  <th>Skew:</th>           <td> 1.194</td>  <th>  Prob(JB):          </th> <td>    0.00</td>\n",
       "</tr>\n",
       "<tr>\n",
       "  <th>Kurtosis:</th>       <td> 4.897</td>  <th>  Cond. No.          </th> <td>    402.</td>\n",
       "</tr>\n",
       "</table><br/><br/>Notes:<br/>[1] Standard Errors assume that the covariance matrix of the errors is correctly specified."
      ],
      "text/plain": [
       "<class 'statsmodels.iolib.summary.Summary'>\n",
       "\"\"\"\n",
       "                            OLS Regression Results                            \n",
       "==============================================================================\n",
       "Dep. Variable:                  count   R-squared:                       0.266\n",
       "Model:                            OLS   Adj. R-squared:                  0.266\n",
       "Method:                 Least Squares   F-statistic:                     1576.\n",
       "Date:                Fri, 16 Sep 2022   Prob (F-statistic):               0.00\n",
       "Time:                        18:42:22   Log-Likelihood:            -1.1199e+05\n",
       "No. Observations:               17379   AIC:                         2.240e+05\n",
       "Df Residuals:                   17374   BIC:                         2.240e+05\n",
       "Df Model:                           4                                         \n",
       "Covariance Type:            nonrobust                                         \n",
       "==============================================================================\n",
       "                 coef    std err          t      P>|t|      [0.025      0.975]\n",
       "------------------------------------------------------------------------------\n",
       "Intercept    155.2151      6.315     24.578      0.000     142.837     167.594\n",
       "atemp          7.4229      0.888      8.364      0.000       5.683       9.162\n",
       "temp           0.9024      0.965      0.935      0.350      -0.989       2.794\n",
       "humidity      -2.7384      0.063    -43.631      0.000      -2.861      -2.615\n",
       "windspeed      0.8002      0.151      5.284      0.000       0.503       1.097\n",
       "==============================================================================\n",
       "Omnibus:                     3423.472   Durbin-Watson:                   0.420\n",
       "Prob(Omnibus):                  0.000   Jarque-Bera (JB):             6737.500\n",
       "Skew:                           1.194   Prob(JB):                         0.00\n",
       "Kurtosis:                       4.897   Cond. No.                         402.\n",
       "==============================================================================\n",
       "\n",
       "Notes:\n",
       "[1] Standard Errors assume that the covariance matrix of the errors is correctly specified.\n",
       "\"\"\""
      ]
     },
     "execution_count": 29,
     "metadata": {},
     "output_type": "execute_result"
    }
   ],
   "source": [
    "model4.summary()"
   ]
  },
  {
   "cell_type": "code",
   "execution_count": 30,
   "id": "77475544-1cf9-492b-9280-4b98c4b3da6c",
   "metadata": {},
   "outputs": [],
   "source": [
    "model5 = sm.ols(formula='count ~ temp + humidity + windspeed', data=df_dt3).fit()"
   ]
  },
  {
   "cell_type": "code",
   "execution_count": 31,
   "id": "e40d566b-be85-4fb5-98fe-e5d48372cc0e",
   "metadata": {},
   "outputs": [
    {
     "data": {
      "text/plain": [
       "0.2631837757241343"
      ]
     },
     "execution_count": 31,
     "metadata": {},
     "output_type": "execute_result"
    }
   ],
   "source": [
    "model5.rsquared_adj"
   ]
  },
  {
   "cell_type": "code",
   "execution_count": 32,
   "id": "7c388ade-b9e1-452b-90e1-7a27c96d4bcb",
   "metadata": {},
   "outputs": [
    {
     "data": {
      "text/html": [
       "<table class=\"simpletable\">\n",
       "<caption>OLS Regression Results</caption>\n",
       "<tr>\n",
       "  <th>Dep. Variable:</th>          <td>count</td>      <th>  R-squared:         </th>  <td>   0.263</td>  \n",
       "</tr>\n",
       "<tr>\n",
       "  <th>Model:</th>                   <td>OLS</td>       <th>  Adj. R-squared:    </th>  <td>   0.263</td>  \n",
       "</tr>\n",
       "<tr>\n",
       "  <th>Method:</th>             <td>Least Squares</td>  <th>  F-statistic:       </th>  <td>   2070.</td>  \n",
       "</tr>\n",
       "<tr>\n",
       "  <th>Date:</th>             <td>Fri, 16 Sep 2022</td> <th>  Prob (F-statistic):</th>   <td>  0.00</td>   \n",
       "</tr>\n",
       "<tr>\n",
       "  <th>Time:</th>                 <td>18:42:22</td>     <th>  Log-Likelihood:    </th> <td>-1.1202e+05</td>\n",
       "</tr>\n",
       "<tr>\n",
       "  <th>No. Observations:</th>      <td> 17379</td>      <th>  AIC:               </th>  <td>2.240e+05</td> \n",
       "</tr>\n",
       "<tr>\n",
       "  <th>Df Residuals:</th>          <td> 17375</td>      <th>  BIC:               </th>  <td>2.241e+05</td> \n",
       "</tr>\n",
       "<tr>\n",
       "  <th>Df Model:</th>              <td>     3</td>      <th>                     </th>      <td> </td>     \n",
       "</tr>\n",
       "<tr>\n",
       "  <th>Covariance Type:</th>      <td>nonrobust</td>    <th>                     </th>      <td> </td>     \n",
       "</tr>\n",
       "</table>\n",
       "<table class=\"simpletable\">\n",
       "<tr>\n",
       "      <td></td>         <th>coef</th>     <th>std err</th>      <th>t</th>      <th>P>|t|</th>  <th>[0.025</th>    <th>0.975]</th>  \n",
       "</tr>\n",
       "<tr>\n",
       "  <th>Intercept</th> <td>  171.7485</td> <td>    6.010</td> <td>   28.578</td> <td> 0.000</td> <td>  159.969</td> <td>  183.528</td>\n",
       "</tr>\n",
       "<tr>\n",
       "  <th>temp</th>      <td>    8.8781</td> <td>    0.147</td> <td>   60.393</td> <td> 0.000</td> <td>    8.590</td> <td>    9.166</td>\n",
       "</tr>\n",
       "<tr>\n",
       "  <th>humidity</th>  <td>   -2.7182</td> <td>    0.063</td> <td>  -43.255</td> <td> 0.000</td> <td>   -2.841</td> <td>   -2.595</td>\n",
       "</tr>\n",
       "<tr>\n",
       "  <th>windspeed</th> <td>    0.5066</td> <td>    0.148</td> <td>    3.433</td> <td> 0.001</td> <td>    0.217</td> <td>    0.796</td>\n",
       "</tr>\n",
       "</table>\n",
       "<table class=\"simpletable\">\n",
       "<tr>\n",
       "  <th>Omnibus:</th>       <td>3440.799</td> <th>  Durbin-Watson:     </th> <td>   0.417</td>\n",
       "</tr>\n",
       "<tr>\n",
       "  <th>Prob(Omnibus):</th>  <td> 0.000</td>  <th>  Jarque-Bera (JB):  </th> <td>6763.914</td>\n",
       "</tr>\n",
       "<tr>\n",
       "  <th>Skew:</th>           <td> 1.201</td>  <th>  Prob(JB):          </th> <td>    0.00</td>\n",
       "</tr>\n",
       "<tr>\n",
       "  <th>Kurtosis:</th>       <td> 4.891</td>  <th>  Cond. No.          </th> <td>    361.</td>\n",
       "</tr>\n",
       "</table><br/><br/>Notes:<br/>[1] Standard Errors assume that the covariance matrix of the errors is correctly specified."
      ],
      "text/plain": [
       "<class 'statsmodels.iolib.summary.Summary'>\n",
       "\"\"\"\n",
       "                            OLS Regression Results                            \n",
       "==============================================================================\n",
       "Dep. Variable:                  count   R-squared:                       0.263\n",
       "Model:                            OLS   Adj. R-squared:                  0.263\n",
       "Method:                 Least Squares   F-statistic:                     2070.\n",
       "Date:                Fri, 16 Sep 2022   Prob (F-statistic):               0.00\n",
       "Time:                        18:42:22   Log-Likelihood:            -1.1202e+05\n",
       "No. Observations:               17379   AIC:                         2.240e+05\n",
       "Df Residuals:                   17375   BIC:                         2.241e+05\n",
       "Df Model:                           3                                         \n",
       "Covariance Type:            nonrobust                                         \n",
       "==============================================================================\n",
       "                 coef    std err          t      P>|t|      [0.025      0.975]\n",
       "------------------------------------------------------------------------------\n",
       "Intercept    171.7485      6.010     28.578      0.000     159.969     183.528\n",
       "temp           8.8781      0.147     60.393      0.000       8.590       9.166\n",
       "humidity      -2.7182      0.063    -43.255      0.000      -2.841      -2.595\n",
       "windspeed      0.5066      0.148      3.433      0.001       0.217       0.796\n",
       "==============================================================================\n",
       "Omnibus:                     3440.799   Durbin-Watson:                   0.417\n",
       "Prob(Omnibus):                  0.000   Jarque-Bera (JB):             6763.914\n",
       "Skew:                           1.201   Prob(JB):                         0.00\n",
       "Kurtosis:                       4.891   Cond. No.                         361.\n",
       "==============================================================================\n",
       "\n",
       "Notes:\n",
       "[1] Standard Errors assume that the covariance matrix of the errors is correctly specified.\n",
       "\"\"\""
      ]
     },
     "execution_count": 32,
     "metadata": {},
     "output_type": "execute_result"
    }
   ],
   "source": [
    "model5.summary()"
   ]
  },
  {
   "cell_type": "markdown",
   "id": "1af345e8-547b-40ad-87eb-1b8ed65a0cc8",
   "metadata": {},
   "source": [
    "#### The model gets better because we are including more independent variables to explain the variation of the dependent variable.\n"
   ]
  },
  {
   "cell_type": "markdown",
   "id": "a0e50bfc-c1c1-4ee6-8ccb-9df0ee9d4490",
   "metadata": {},
   "source": [
    "#### Linear Regression Model adding an additional feature from the subset dataframe"
   ]
  },
  {
   "cell_type": "code",
   "execution_count": 33,
   "id": "7b1b7012-b8c9-4895-9396-c383f847e4b0",
   "metadata": {},
   "outputs": [
    {
     "data": {
      "text/html": [
       "<div>\n",
       "<style scoped>\n",
       "    .dataframe tbody tr th:only-of-type {\n",
       "        vertical-align: middle;\n",
       "    }\n",
       "\n",
       "    .dataframe tbody tr th {\n",
       "        vertical-align: top;\n",
       "    }\n",
       "\n",
       "    .dataframe thead th {\n",
       "        text-align: right;\n",
       "    }\n",
       "</style>\n",
       "<table border=\"1\" class=\"dataframe\">\n",
       "  <thead>\n",
       "    <tr style=\"text-align: right;\">\n",
       "      <th></th>\n",
       "      <th>temp</th>\n",
       "      <th>atemp</th>\n",
       "      <th>humidity</th>\n",
       "      <th>windspeed</th>\n",
       "      <th>count</th>\n",
       "      <th>casual</th>\n",
       "      <th>registered</th>\n",
       "    </tr>\n",
       "    <tr>\n",
       "      <th>datetime</th>\n",
       "      <th></th>\n",
       "      <th></th>\n",
       "      <th></th>\n",
       "      <th></th>\n",
       "      <th></th>\n",
       "      <th></th>\n",
       "      <th></th>\n",
       "    </tr>\n",
       "  </thead>\n",
       "  <tbody>\n",
       "    <tr>\n",
       "      <th>2011-01-01 00:00:00</th>\n",
       "      <td>9.84</td>\n",
       "      <td>14.395</td>\n",
       "      <td>81</td>\n",
       "      <td>0.0000</td>\n",
       "      <td>16</td>\n",
       "      <td>3.0</td>\n",
       "      <td>13.0</td>\n",
       "    </tr>\n",
       "    <tr>\n",
       "      <th>2011-01-01 01:00:00</th>\n",
       "      <td>9.02</td>\n",
       "      <td>13.635</td>\n",
       "      <td>80</td>\n",
       "      <td>0.0000</td>\n",
       "      <td>40</td>\n",
       "      <td>8.0</td>\n",
       "      <td>32.0</td>\n",
       "    </tr>\n",
       "    <tr>\n",
       "      <th>2011-01-01 02:00:00</th>\n",
       "      <td>9.02</td>\n",
       "      <td>13.635</td>\n",
       "      <td>80</td>\n",
       "      <td>0.0000</td>\n",
       "      <td>32</td>\n",
       "      <td>5.0</td>\n",
       "      <td>27.0</td>\n",
       "    </tr>\n",
       "    <tr>\n",
       "      <th>2011-01-01 03:00:00</th>\n",
       "      <td>9.84</td>\n",
       "      <td>14.395</td>\n",
       "      <td>75</td>\n",
       "      <td>0.0000</td>\n",
       "      <td>13</td>\n",
       "      <td>3.0</td>\n",
       "      <td>10.0</td>\n",
       "    </tr>\n",
       "    <tr>\n",
       "      <th>2011-01-01 04:00:00</th>\n",
       "      <td>9.84</td>\n",
       "      <td>14.395</td>\n",
       "      <td>75</td>\n",
       "      <td>0.0000</td>\n",
       "      <td>1</td>\n",
       "      <td>0.0</td>\n",
       "      <td>1.0</td>\n",
       "    </tr>\n",
       "    <tr>\n",
       "      <th>...</th>\n",
       "      <td>...</td>\n",
       "      <td>...</td>\n",
       "      <td>...</td>\n",
       "      <td>...</td>\n",
       "      <td>...</td>\n",
       "      <td>...</td>\n",
       "      <td>...</td>\n",
       "    </tr>\n",
       "    <tr>\n",
       "      <th>2012-12-31 19:00:00</th>\n",
       "      <td>10.66</td>\n",
       "      <td>12.880</td>\n",
       "      <td>60</td>\n",
       "      <td>11.0014</td>\n",
       "      <td>156</td>\n",
       "      <td>NaN</td>\n",
       "      <td>NaN</td>\n",
       "    </tr>\n",
       "    <tr>\n",
       "      <th>2012-12-31 20:00:00</th>\n",
       "      <td>10.66</td>\n",
       "      <td>12.880</td>\n",
       "      <td>60</td>\n",
       "      <td>11.0014</td>\n",
       "      <td>104</td>\n",
       "      <td>NaN</td>\n",
       "      <td>NaN</td>\n",
       "    </tr>\n",
       "    <tr>\n",
       "      <th>2012-12-31 21:00:00</th>\n",
       "      <td>10.66</td>\n",
       "      <td>12.880</td>\n",
       "      <td>60</td>\n",
       "      <td>11.0014</td>\n",
       "      <td>67</td>\n",
       "      <td>NaN</td>\n",
       "      <td>NaN</td>\n",
       "    </tr>\n",
       "    <tr>\n",
       "      <th>2012-12-31 22:00:00</th>\n",
       "      <td>10.66</td>\n",
       "      <td>13.635</td>\n",
       "      <td>56</td>\n",
       "      <td>8.9981</td>\n",
       "      <td>43</td>\n",
       "      <td>NaN</td>\n",
       "      <td>NaN</td>\n",
       "    </tr>\n",
       "    <tr>\n",
       "      <th>2012-12-31 23:00:00</th>\n",
       "      <td>10.66</td>\n",
       "      <td>13.635</td>\n",
       "      <td>65</td>\n",
       "      <td>8.9981</td>\n",
       "      <td>28</td>\n",
       "      <td>NaN</td>\n",
       "      <td>NaN</td>\n",
       "    </tr>\n",
       "  </tbody>\n",
       "</table>\n",
       "<p>17379 rows × 7 columns</p>\n",
       "</div>"
      ],
      "text/plain": [
       "                      temp   atemp  humidity  windspeed  count  casual  \\\n",
       "datetime                                                                 \n",
       "2011-01-01 00:00:00   9.84  14.395        81     0.0000     16     3.0   \n",
       "2011-01-01 01:00:00   9.02  13.635        80     0.0000     40     8.0   \n",
       "2011-01-01 02:00:00   9.02  13.635        80     0.0000     32     5.0   \n",
       "2011-01-01 03:00:00   9.84  14.395        75     0.0000     13     3.0   \n",
       "2011-01-01 04:00:00   9.84  14.395        75     0.0000      1     0.0   \n",
       "...                    ...     ...       ...        ...    ...     ...   \n",
       "2012-12-31 19:00:00  10.66  12.880        60    11.0014    156     NaN   \n",
       "2012-12-31 20:00:00  10.66  12.880        60    11.0014    104     NaN   \n",
       "2012-12-31 21:00:00  10.66  12.880        60    11.0014     67     NaN   \n",
       "2012-12-31 22:00:00  10.66  13.635        56     8.9981     43     NaN   \n",
       "2012-12-31 23:00:00  10.66  13.635        65     8.9981     28     NaN   \n",
       "\n",
       "                     registered  \n",
       "datetime                         \n",
       "2011-01-01 00:00:00        13.0  \n",
       "2011-01-01 01:00:00        32.0  \n",
       "2011-01-01 02:00:00        27.0  \n",
       "2011-01-01 03:00:00        10.0  \n",
       "2011-01-01 04:00:00         1.0  \n",
       "...                         ...  \n",
       "2012-12-31 19:00:00         NaN  \n",
       "2012-12-31 20:00:00         NaN  \n",
       "2012-12-31 21:00:00         NaN  \n",
       "2012-12-31 22:00:00         NaN  \n",
       "2012-12-31 23:00:00         NaN  \n",
       "\n",
       "[17379 rows x 7 columns]"
      ]
     },
     "execution_count": 33,
     "metadata": {},
     "output_type": "execute_result"
    }
   ],
   "source": [
    "# Adding the columns 'casual' and 'registered' to the data frame.\n",
    "\n",
    "df_dt4 = df_dt1[['temp','atemp','humidity','windspeed','count', 'casual','registered']]\n",
    "df_dt4"
   ]
  },
  {
   "cell_type": "code",
   "execution_count": 34,
   "id": "4e3619b7-0f7a-4256-8175-6d27bb6e6c84",
   "metadata": {},
   "outputs": [
    {
     "data": {
      "text/html": [
       "<div>\n",
       "<style scoped>\n",
       "    .dataframe tbody tr th:only-of-type {\n",
       "        vertical-align: middle;\n",
       "    }\n",
       "\n",
       "    .dataframe tbody tr th {\n",
       "        vertical-align: top;\n",
       "    }\n",
       "\n",
       "    .dataframe thead th {\n",
       "        text-align: right;\n",
       "    }\n",
       "</style>\n",
       "<table border=\"1\" class=\"dataframe\">\n",
       "  <thead>\n",
       "    <tr style=\"text-align: right;\">\n",
       "      <th></th>\n",
       "      <th>temp</th>\n",
       "      <th>atemp</th>\n",
       "      <th>humidity</th>\n",
       "      <th>windspeed</th>\n",
       "      <th>count</th>\n",
       "      <th>casual</th>\n",
       "      <th>registered</th>\n",
       "    </tr>\n",
       "  </thead>\n",
       "  <tbody>\n",
       "    <tr>\n",
       "      <th>temp</th>\n",
       "      <td>1.000000</td>\n",
       "      <td>0.987672</td>\n",
       "      <td>-0.069881</td>\n",
       "      <td>-0.023125</td>\n",
       "      <td>0.414713</td>\n",
       "      <td>0.467097</td>\n",
       "      <td>0.318571</td>\n",
       "    </tr>\n",
       "    <tr>\n",
       "      <th>atemp</th>\n",
       "      <td>0.987672</td>\n",
       "      <td>1.000000</td>\n",
       "      <td>-0.051918</td>\n",
       "      <td>-0.062336</td>\n",
       "      <td>0.411854</td>\n",
       "      <td>0.462067</td>\n",
       "      <td>0.314635</td>\n",
       "    </tr>\n",
       "    <tr>\n",
       "      <th>humidity</th>\n",
       "      <td>-0.069881</td>\n",
       "      <td>-0.051918</td>\n",
       "      <td>1.000000</td>\n",
       "      <td>-0.290105</td>\n",
       "      <td>-0.329615</td>\n",
       "      <td>-0.348187</td>\n",
       "      <td>-0.265458</td>\n",
       "    </tr>\n",
       "    <tr>\n",
       "      <th>windspeed</th>\n",
       "      <td>-0.023125</td>\n",
       "      <td>-0.062336</td>\n",
       "      <td>-0.290105</td>\n",
       "      <td>1.000000</td>\n",
       "      <td>0.099909</td>\n",
       "      <td>0.092276</td>\n",
       "      <td>0.091052</td>\n",
       "    </tr>\n",
       "    <tr>\n",
       "      <th>count</th>\n",
       "      <td>0.414713</td>\n",
       "      <td>0.411854</td>\n",
       "      <td>-0.329615</td>\n",
       "      <td>0.099909</td>\n",
       "      <td>1.000000</td>\n",
       "      <td>0.690414</td>\n",
       "      <td>0.970948</td>\n",
       "    </tr>\n",
       "    <tr>\n",
       "      <th>casual</th>\n",
       "      <td>0.467097</td>\n",
       "      <td>0.462067</td>\n",
       "      <td>-0.348187</td>\n",
       "      <td>0.092276</td>\n",
       "      <td>0.690414</td>\n",
       "      <td>1.000000</td>\n",
       "      <td>0.497250</td>\n",
       "    </tr>\n",
       "    <tr>\n",
       "      <th>registered</th>\n",
       "      <td>0.318571</td>\n",
       "      <td>0.314635</td>\n",
       "      <td>-0.265458</td>\n",
       "      <td>0.091052</td>\n",
       "      <td>0.970948</td>\n",
       "      <td>0.497250</td>\n",
       "      <td>1.000000</td>\n",
       "    </tr>\n",
       "  </tbody>\n",
       "</table>\n",
       "</div>"
      ],
      "text/plain": [
       "                temp     atemp  humidity  windspeed     count    casual  \\\n",
       "temp        1.000000  0.987672 -0.069881  -0.023125  0.414713  0.467097   \n",
       "atemp       0.987672  1.000000 -0.051918  -0.062336  0.411854  0.462067   \n",
       "humidity   -0.069881 -0.051918  1.000000  -0.290105 -0.329615 -0.348187   \n",
       "windspeed  -0.023125 -0.062336 -0.290105   1.000000  0.099909  0.092276   \n",
       "count       0.414713  0.411854 -0.329615   0.099909  1.000000  0.690414   \n",
       "casual      0.467097  0.462067 -0.348187   0.092276  0.690414  1.000000   \n",
       "registered  0.318571  0.314635 -0.265458   0.091052  0.970948  0.497250   \n",
       "\n",
       "            registered  \n",
       "temp          0.318571  \n",
       "atemp         0.314635  \n",
       "humidity     -0.265458  \n",
       "windspeed     0.091052  \n",
       "count         0.970948  \n",
       "casual        0.497250  \n",
       "registered    1.000000  "
      ]
     },
     "execution_count": 34,
     "metadata": {},
     "output_type": "execute_result"
    }
   ],
   "source": [
    "df_dt4.corr()"
   ]
  },
  {
   "cell_type": "code",
   "execution_count": 35,
   "id": "2ddb4aa3-f67d-4ee5-a2e2-1735f015547f",
   "metadata": {},
   "outputs": [
    {
     "data": {
      "image/png": "[encoded data removed]",
      "text/plain": [
       "<Figure size 432x288 with 2 Axes>"
      ]
     },
     "metadata": {
      "needs_background": "light"
     },
     "output_type": "display_data"
    }
   ],
   "source": [
    "sns.heatmap(df_dt4.corr());"
   ]
  },
  {
   "cell_type": "code",
   "execution_count": 36,
   "id": "a824f105-6f7a-4f04-9da4-eff3d5705fc2",
   "metadata": {},
   "outputs": [
    {
     "data": {
      "image/png": "[encoded data removed]",
      "text/plain": [
       "<Figure size 360x360 with 1 Axes>"
      ]
     },
     "metadata": {
      "needs_background": "light"
     },
     "output_type": "display_data"
    }
   ],
   "source": [
    "sns.lmplot(x='registered', y='count', data=df_dt4, ci=None, legend = True);"
   ]
  },
  {
   "cell_type": "code",
   "execution_count": 37,
   "id": "229ab1b1-484b-4c40-bae3-9bd42b2da1dd",
   "metadata": {},
   "outputs": [],
   "source": [
    "model6 = sm.ols(formula='count ~ registered', data=df_dt4).fit()"
   ]
  },
  {
   "cell_type": "code",
   "execution_count": 38,
   "id": "2cc59570-c5ad-4724-b4db-8b35c7e7495e",
   "metadata": {},
   "outputs": [
    {
     "data": {
      "text/plain": [
       "0.9427349632628097"
      ]
     },
     "execution_count": 38,
     "metadata": {},
     "output_type": "execute_result"
    }
   ],
   "source": [
    "model6.rsquared_adj"
   ]
  },
  {
   "cell_type": "code",
   "execution_count": 39,
   "id": "76e4235e-0234-4a8f-81dd-b9de62418a2e",
   "metadata": {
    "tags": []
   },
   "outputs": [
    {
     "data": {
      "text/html": [
       "<table class=\"simpletable\">\n",
       "<caption>OLS Regression Results</caption>\n",
       "<tr>\n",
       "  <th>Dep. Variable:</th>          <td>count</td>      <th>  R-squared:         </th> <td>   0.943</td> \n",
       "</tr>\n",
       "<tr>\n",
       "  <th>Model:</th>                   <td>OLS</td>       <th>  Adj. R-squared:    </th> <td>   0.943</td> \n",
       "</tr>\n",
       "<tr>\n",
       "  <th>Method:</th>             <td>Least Squares</td>  <th>  F-statistic:       </th> <td>1.792e+05</td>\n",
       "</tr>\n",
       "<tr>\n",
       "  <th>Date:</th>             <td>Fri, 16 Sep 2022</td> <th>  Prob (F-statistic):</th>  <td>  0.00</td>  \n",
       "</tr>\n",
       "<tr>\n",
       "  <th>Time:</th>                 <td>18:42:23</td>     <th>  Log-Likelihood:    </th> <td> -56478.</td> \n",
       "</tr>\n",
       "<tr>\n",
       "  <th>No. Observations:</th>      <td> 10886</td>      <th>  AIC:               </th> <td>1.130e+05</td>\n",
       "</tr>\n",
       "<tr>\n",
       "  <th>Df Residuals:</th>          <td> 10884</td>      <th>  BIC:               </th> <td>1.130e+05</td>\n",
       "</tr>\n",
       "<tr>\n",
       "  <th>Df Model:</th>              <td>     1</td>      <th>                     </th>     <td> </td>    \n",
       "</tr>\n",
       "<tr>\n",
       "  <th>Covariance Type:</th>      <td>nonrobust</td>    <th>                     </th>     <td> </td>    \n",
       "</tr>\n",
       "</table>\n",
       "<table class=\"simpletable\">\n",
       "<tr>\n",
       "       <td></td>         <th>coef</th>     <th>std err</th>      <th>t</th>      <th>P>|t|</th>  <th>[0.025</th>    <th>0.975]</th>  \n",
       "</tr>\n",
       "<tr>\n",
       "  <th>Intercept</th>  <td>   10.4368</td> <td>    0.596</td> <td>   17.499</td> <td> 0.000</td> <td>    9.268</td> <td>   11.606</td>\n",
       "</tr>\n",
       "<tr>\n",
       "  <th>registered</th> <td>    1.1645</td> <td>    0.003</td> <td>  423.317</td> <td> 0.000</td> <td>    1.159</td> <td>    1.170</td>\n",
       "</tr>\n",
       "</table>\n",
       "<table class=\"simpletable\">\n",
       "<tr>\n",
       "  <th>Omnibus:</th>       <td>5573.093</td> <th>  Durbin-Watson:     </th> <td>   0.208</td> \n",
       "</tr>\n",
       "<tr>\n",
       "  <th>Prob(Omnibus):</th>  <td> 0.000</td>  <th>  Jarque-Bera (JB):  </th> <td>42958.592</td>\n",
       "</tr>\n",
       "<tr>\n",
       "  <th>Skew:</th>           <td> 2.353</td>  <th>  Prob(JB):          </th> <td>    0.00</td> \n",
       "</tr>\n",
       "<tr>\n",
       "  <th>Kurtosis:</th>       <td>11.518</td>  <th>  Cond. No.          </th> <td>    311.</td> \n",
       "</tr>\n",
       "</table><br/><br/>Notes:<br/>[1] Standard Errors assume that the covariance matrix of the errors is correctly specified."
      ],
      "text/plain": [
       "<class 'statsmodels.iolib.summary.Summary'>\n",
       "\"\"\"\n",
       "                            OLS Regression Results                            \n",
       "==============================================================================\n",
       "Dep. Variable:                  count   R-squared:                       0.943\n",
       "Model:                            OLS   Adj. R-squared:                  0.943\n",
       "Method:                 Least Squares   F-statistic:                 1.792e+05\n",
       "Date:                Fri, 16 Sep 2022   Prob (F-statistic):               0.00\n",
       "Time:                        18:42:23   Log-Likelihood:                -56478.\n",
       "No. Observations:               10886   AIC:                         1.130e+05\n",
       "Df Residuals:                   10884   BIC:                         1.130e+05\n",
       "Df Model:                           1                                         \n",
       "Covariance Type:            nonrobust                                         \n",
       "==============================================================================\n",
       "                 coef    std err          t      P>|t|      [0.025      0.975]\n",
       "------------------------------------------------------------------------------\n",
       "Intercept     10.4368      0.596     17.499      0.000       9.268      11.606\n",
       "registered     1.1645      0.003    423.317      0.000       1.159       1.170\n",
       "==============================================================================\n",
       "Omnibus:                     5573.093   Durbin-Watson:                   0.208\n",
       "Prob(Omnibus):                  0.000   Jarque-Bera (JB):            42958.592\n",
       "Skew:                           2.353   Prob(JB):                         0.00\n",
       "Kurtosis:                      11.518   Cond. No.                         311.\n",
       "==============================================================================\n",
       "\n",
       "Notes:\n",
       "[1] Standard Errors assume that the covariance matrix of the errors is correctly specified.\n",
       "\"\"\""
      ]
     },
     "execution_count": 39,
     "metadata": {},
     "output_type": "execute_result"
    }
   ],
   "source": [
    "model6.summary()"
   ]
  },
  {
   "cell_type": "code",
   "execution_count": 40,
   "id": "6a0e71d1-ed0d-4e16-adde-592663188d3a",
   "metadata": {},
   "outputs": [
    {
     "data": {
      "image/png": "[encoded data removed]",
      "text/plain": [
       "<Figure size 360x360 with 1 Axes>"
      ]
     },
     "metadata": {
      "needs_background": "light"
     },
     "output_type": "display_data"
    }
   ],
   "source": [
    "sns.lmplot(x='casual', y='count', data=df_dt4, ci=None, legend = True);"
   ]
  },
  {
   "cell_type": "code",
   "execution_count": 41,
   "id": "0c832d3a-3aaf-43fd-b0fa-6931f3fbcb07",
   "metadata": {},
   "outputs": [],
   "source": [
    "model7 = sm.ols(formula='count ~ casual', data=df_dt4).fit()"
   ]
  },
  {
   "cell_type": "code",
   "execution_count": 42,
   "id": "44a92529-9509-4501-80dc-d82889ba3598",
   "metadata": {},
   "outputs": [
    {
     "data": {
      "text/plain": [
       "0.47662280876530105"
      ]
     },
     "execution_count": 42,
     "metadata": {},
     "output_type": "execute_result"
    }
   ],
   "source": [
    "model7.rsquared_adj"
   ]
  },
  {
   "cell_type": "code",
   "execution_count": 43,
   "id": "6b42ca0e-70e9-4111-8587-a834fc1a216a",
   "metadata": {
    "tags": []
   },
   "outputs": [
    {
     "data": {
      "text/html": [
       "<table class=\"simpletable\">\n",
       "<caption>OLS Regression Results</caption>\n",
       "<tr>\n",
       "  <th>Dep. Variable:</th>          <td>count</td>      <th>  R-squared:         </th> <td>   0.477</td> \n",
       "</tr>\n",
       "<tr>\n",
       "  <th>Model:</th>                   <td>OLS</td>       <th>  Adj. R-squared:    </th> <td>   0.477</td> \n",
       "</tr>\n",
       "<tr>\n",
       "  <th>Method:</th>             <td>Least Squares</td>  <th>  F-statistic:       </th> <td>   9914.</td> \n",
       "</tr>\n",
       "<tr>\n",
       "  <th>Date:</th>             <td>Fri, 16 Sep 2022</td> <th>  Prob (F-statistic):</th>  <td>  0.00</td>  \n",
       "</tr>\n",
       "<tr>\n",
       "  <th>Time:</th>                 <td>18:42:24</td>     <th>  Log-Likelihood:    </th> <td> -68521.</td> \n",
       "</tr>\n",
       "<tr>\n",
       "  <th>No. Observations:</th>      <td> 10886</td>      <th>  AIC:               </th> <td>1.370e+05</td>\n",
       "</tr>\n",
       "<tr>\n",
       "  <th>Df Residuals:</th>          <td> 10884</td>      <th>  BIC:               </th> <td>1.371e+05</td>\n",
       "</tr>\n",
       "<tr>\n",
       "  <th>Df Model:</th>              <td>     1</td>      <th>                     </th>     <td> </td>    \n",
       "</tr>\n",
       "<tr>\n",
       "  <th>Covariance Type:</th>      <td>nonrobust</td>    <th>                     </th>     <td> </td>    \n",
       "</tr>\n",
       "</table>\n",
       "<table class=\"simpletable\">\n",
       "<tr>\n",
       "      <td></td>         <th>coef</th>     <th>std err</th>      <th>t</th>      <th>P>|t|</th>  <th>[0.025</th>    <th>0.975]</th>  \n",
       "</tr>\n",
       "<tr>\n",
       "  <th>Intercept</th> <td>  101.4014</td> <td>    1.548</td> <td>   65.484</td> <td> 0.000</td> <td>   98.366</td> <td>  104.437</td>\n",
       "</tr>\n",
       "<tr>\n",
       "  <th>casual</th>    <td>    2.5033</td> <td>    0.025</td> <td>   99.567</td> <td> 0.000</td> <td>    2.454</td> <td>    2.553</td>\n",
       "</tr>\n",
       "</table>\n",
       "<table class=\"simpletable\">\n",
       "<tr>\n",
       "  <th>Omnibus:</th>       <td>4113.993</td> <th>  Durbin-Watson:     </th> <td>   0.485</td> \n",
       "</tr>\n",
       "<tr>\n",
       "  <th>Prob(Omnibus):</th>  <td> 0.000</td>  <th>  Jarque-Bera (JB):  </th> <td>14782.482</td>\n",
       "</tr>\n",
       "<tr>\n",
       "  <th>Skew:</th>           <td> 1.920</td>  <th>  Prob(JB):          </th> <td>    0.00</td> \n",
       "</tr>\n",
       "<tr>\n",
       "  <th>Kurtosis:</th>       <td> 7.225</td>  <th>  Cond. No.          </th> <td>    75.9</td> \n",
       "</tr>\n",
       "</table><br/><br/>Notes:<br/>[1] Standard Errors assume that the covariance matrix of the errors is correctly specified."
      ],
      "text/plain": [
       "<class 'statsmodels.iolib.summary.Summary'>\n",
       "\"\"\"\n",
       "                            OLS Regression Results                            \n",
       "==============================================================================\n",
       "Dep. Variable:                  count   R-squared:                       0.477\n",
       "Model:                            OLS   Adj. R-squared:                  0.477\n",
       "Method:                 Least Squares   F-statistic:                     9914.\n",
       "Date:                Fri, 16 Sep 2022   Prob (F-statistic):               0.00\n",
       "Time:                        18:42:24   Log-Likelihood:                -68521.\n",
       "No. Observations:               10886   AIC:                         1.370e+05\n",
       "Df Residuals:                   10884   BIC:                         1.371e+05\n",
       "Df Model:                           1                                         \n",
       "Covariance Type:            nonrobust                                         \n",
       "==============================================================================\n",
       "                 coef    std err          t      P>|t|      [0.025      0.975]\n",
       "------------------------------------------------------------------------------\n",
       "Intercept    101.4014      1.548     65.484      0.000      98.366     104.437\n",
       "casual         2.5033      0.025     99.567      0.000       2.454       2.553\n",
       "==============================================================================\n",
       "Omnibus:                     4113.993   Durbin-Watson:                   0.485\n",
       "Prob(Omnibus):                  0.000   Jarque-Bera (JB):            14782.482\n",
       "Skew:                           1.920   Prob(JB):                         0.00\n",
       "Kurtosis:                       7.225   Cond. No.                         75.9\n",
       "==============================================================================\n",
       "\n",
       "Notes:\n",
       "[1] Standard Errors assume that the covariance matrix of the errors is correctly specified.\n",
       "\"\"\""
      ]
     },
     "execution_count": 43,
     "metadata": {},
     "output_type": "execute_result"
    }
   ],
   "source": [
    "model7.summary()"
   ]
  },
  {
   "cell_type": "markdown",
   "id": "89289243-7bab-4e25-9706-68950c426dcd",
   "metadata": {},
   "source": [
    "## Conclusion:"
   ]
  },
  {
   "cell_type": "markdown",
   "id": "c51ae15c-9e46-45a7-a7e0-68730e2b60d7",
   "metadata": {},
   "source": [
    "#### By including 'Registered' variable as a predictor of 'count' the model fit significantly improves (model6- rsquared_adj= 0.9427349632628097 vs model7 'casual' independent variable- rsquared_adj=0.47662280876530105)."
   ]
  },
  {
   "cell_type": "markdown",
   "id": "a966d656-e15d-42d3-9317-65d7a566d5d2",
   "metadata": {
    "tags": []
   },
   "source": [
    "### Linear Regression Model adding an additional feature ('registered') from the subset dataframe"
   ]
  },
  {
   "cell_type": "code",
   "execution_count": 44,
   "id": "7e9146bf-585d-47b9-8a5f-6cd8d1ef7eae",
   "metadata": {
    "tags": []
   },
   "outputs": [],
   "source": [
    "model8 = sm.ols(formula='count ~ registered + temp ', data=df_dt4).fit()"
   ]
  },
  {
   "cell_type": "code",
   "execution_count": 45,
   "id": "90988305-540e-4c5b-80ee-87df4d63b088",
   "metadata": {
    "tags": []
   },
   "outputs": [
    {
     "data": {
      "text/plain": [
       "0.9507982826086078"
      ]
     },
     "execution_count": 45,
     "metadata": {},
     "output_type": "execute_result"
    }
   ],
   "source": [
    "model8.rsquared_adj"
   ]
  },
  {
   "cell_type": "code",
   "execution_count": 46,
   "id": "68ee5916-f2a6-46ff-8898-2a847f059e76",
   "metadata": {
    "tags": []
   },
   "outputs": [
    {
     "data": {
      "text/html": [
       "<table class=\"simpletable\">\n",
       "<caption>OLS Regression Results</caption>\n",
       "<tr>\n",
       "  <th>Dep. Variable:</th>          <td>count</td>      <th>  R-squared:         </th> <td>   0.951</td> \n",
       "</tr>\n",
       "<tr>\n",
       "  <th>Model:</th>                   <td>OLS</td>       <th>  Adj. R-squared:    </th> <td>   0.951</td> \n",
       "</tr>\n",
       "<tr>\n",
       "  <th>Method:</th>             <td>Least Squares</td>  <th>  F-statistic:       </th> <td>1.052e+05</td>\n",
       "</tr>\n",
       "<tr>\n",
       "  <th>Date:</th>             <td>Fri, 16 Sep 2022</td> <th>  Prob (F-statistic):</th>  <td>  0.00</td>  \n",
       "</tr>\n",
       "<tr>\n",
       "  <th>Time:</th>                 <td>18:42:24</td>     <th>  Log-Likelihood:    </th> <td> -55651.</td> \n",
       "</tr>\n",
       "<tr>\n",
       "  <th>No. Observations:</th>      <td> 10886</td>      <th>  AIC:               </th> <td>1.113e+05</td>\n",
       "</tr>\n",
       "<tr>\n",
       "  <th>Df Residuals:</th>          <td> 10883</td>      <th>  BIC:               </th> <td>1.113e+05</td>\n",
       "</tr>\n",
       "<tr>\n",
       "  <th>Df Model:</th>              <td>     2</td>      <th>                     </th>     <td> </td>    \n",
       "</tr>\n",
       "<tr>\n",
       "  <th>Covariance Type:</th>      <td>nonrobust</td>    <th>                     </th>     <td> </td>    \n",
       "</tr>\n",
       "</table>\n",
       "<table class=\"simpletable\">\n",
       "<tr>\n",
       "       <td></td>         <th>coef</th>     <th>std err</th>      <th>t</th>      <th>P>|t|</th>  <th>[0.025</th>    <th>0.975]</th>  \n",
       "</tr>\n",
       "<tr>\n",
       "  <th>Intercept</th>  <td>  -28.4985</td> <td>    1.075</td> <td>  -26.517</td> <td> 0.000</td> <td>  -30.605</td> <td>  -26.392</td>\n",
       "</tr>\n",
       "<tr>\n",
       "  <th>registered</th> <td>    1.1283</td> <td>    0.003</td> <td>  419.436</td> <td> 0.000</td> <td>    1.123</td> <td>    1.134</td>\n",
       "</tr>\n",
       "<tr>\n",
       "  <th>temp</th>       <td>    2.2029</td> <td>    0.052</td> <td>   42.246</td> <td> 0.000</td> <td>    2.101</td> <td>    2.305</td>\n",
       "</tr>\n",
       "</table>\n",
       "<table class=\"simpletable\">\n",
       "<tr>\n",
       "  <th>Omnibus:</th>       <td>5989.520</td> <th>  Durbin-Watson:     </th> <td>   0.194</td> \n",
       "</tr>\n",
       "<tr>\n",
       "  <th>Prob(Omnibus):</th>  <td> 0.000</td>  <th>  Jarque-Bera (JB):  </th> <td>54508.396</td>\n",
       "</tr>\n",
       "<tr>\n",
       "  <th>Skew:</th>           <td> 2.513</td>  <th>  Prob(JB):          </th> <td>    0.00</td> \n",
       "</tr>\n",
       "<tr>\n",
       "  <th>Kurtosis:</th>       <td>12.742</td>  <th>  Cond. No.          </th> <td>    607.</td> \n",
       "</tr>\n",
       "</table><br/><br/>Notes:<br/>[1] Standard Errors assume that the covariance matrix of the errors is correctly specified."
      ],
      "text/plain": [
       "<class 'statsmodels.iolib.summary.Summary'>\n",
       "\"\"\"\n",
       "                            OLS Regression Results                            \n",
       "==============================================================================\n",
       "Dep. Variable:                  count   R-squared:                       0.951\n",
       "Model:                            OLS   Adj. R-squared:                  0.951\n",
       "Method:                 Least Squares   F-statistic:                 1.052e+05\n",
       "Date:                Fri, 16 Sep 2022   Prob (F-statistic):               0.00\n",
       "Time:                        18:42:24   Log-Likelihood:                -55651.\n",
       "No. Observations:               10886   AIC:                         1.113e+05\n",
       "Df Residuals:                   10883   BIC:                         1.113e+05\n",
       "Df Model:                           2                                         \n",
       "Covariance Type:            nonrobust                                         \n",
       "==============================================================================\n",
       "                 coef    std err          t      P>|t|      [0.025      0.975]\n",
       "------------------------------------------------------------------------------\n",
       "Intercept    -28.4985      1.075    -26.517      0.000     -30.605     -26.392\n",
       "registered     1.1283      0.003    419.436      0.000       1.123       1.134\n",
       "temp           2.2029      0.052     42.246      0.000       2.101       2.305\n",
       "==============================================================================\n",
       "Omnibus:                     5989.520   Durbin-Watson:                   0.194\n",
       "Prob(Omnibus):                  0.000   Jarque-Bera (JB):            54508.396\n",
       "Skew:                           2.513   Prob(JB):                         0.00\n",
       "Kurtosis:                      12.742   Cond. No.                         607.\n",
       "==============================================================================\n",
       "\n",
       "Notes:\n",
       "[1] Standard Errors assume that the covariance matrix of the errors is correctly specified.\n",
       "\"\"\""
      ]
     },
     "execution_count": 46,
     "metadata": {},
     "output_type": "execute_result"
    }
   ],
   "source": [
    "model8.summary() "
   ]
  },
  {
   "cell_type": "code",
   "execution_count": 47,
   "id": "1b8dd3d3-32b4-4d12-87d3-ad2d92ccb19f",
   "metadata": {
    "tags": []
   },
   "outputs": [],
   "source": [
    "model9 = sm.ols(formula='count ~ registered + atemp', data=df_dt4).fit()"
   ]
  },
  {
   "cell_type": "code",
   "execution_count": 48,
   "id": "6579d26b-e247-428b-b2da-72305629f555",
   "metadata": {
    "tags": []
   },
   "outputs": [
    {
     "data": {
      "text/plain": [
       "0.9506165390096396"
      ]
     },
     "execution_count": 48,
     "metadata": {},
     "output_type": "execute_result"
    }
   ],
   "source": [
    "model9.rsquared_adj"
   ]
  },
  {
   "cell_type": "markdown",
   "id": "c19aa208-f4ec-4a82-96bc-41d6d7a0c98f",
   "metadata": {
    "tags": []
   },
   "source": [
    "#### Conclusion:\n",
    "    \n",
    "#### By adding individually the variables 'temp' (model8) and 'atemp' (model9) to the 'registered' variable together in one model, 'temp' variable has a higher impact on making the model fit better. \n",
    "\n",
    "#### model6 (only 'registered' variable) = 0.9427349632628097\n",
    "#### model8 rsquared_adj = 0.9507982826086078\n",
    "#### model9 rsquared_adj = 0.9506165390096396"
   ]
  },
  {
   "cell_type": "markdown",
   "id": "1108dbdc-3666-40a5-9f59-e43302b71507",
   "metadata": {
    "tags": []
   },
   "source": [
    "### Linear Regression Model adding an additional feature ('registered' and 'temp') from the subset dataframe"
   ]
  },
  {
   "cell_type": "code",
   "execution_count": 49,
   "id": "2f0dcc32-5f48-4230-bebb-46da4cedc231",
   "metadata": {
    "tags": []
   },
   "outputs": [],
   "source": [
    "model10 = sm.ols(formula='count ~ registered + temp + atemp', data=df_dt4).fit()"
   ]
  },
  {
   "cell_type": "code",
   "execution_count": 50,
   "id": "129fd221-911a-4931-8f7c-7b99dc2a85af",
   "metadata": {
    "tags": []
   },
   "outputs": [
    {
     "data": {
      "text/plain": [
       "0.9508008381783969"
      ]
     },
     "execution_count": 50,
     "metadata": {},
     "output_type": "execute_result"
    }
   ],
   "source": [
    "model10.rsquared_adj"
   ]
  },
  {
   "cell_type": "code",
   "execution_count": 51,
   "id": "9b666855-9917-44c1-8b84-5cf539ab0093",
   "metadata": {
    "tags": []
   },
   "outputs": [
    {
     "data": {
      "text/html": [
       "<table class=\"simpletable\">\n",
       "<caption>OLS Regression Results</caption>\n",
       "<tr>\n",
       "  <th>Dep. Variable:</th>          <td>count</td>      <th>  R-squared:         </th> <td>   0.951</td> \n",
       "</tr>\n",
       "<tr>\n",
       "  <th>Model:</th>                   <td>OLS</td>       <th>  Adj. R-squared:    </th> <td>   0.951</td> \n",
       "</tr>\n",
       "<tr>\n",
       "  <th>Method:</th>             <td>Least Squares</td>  <th>  F-statistic:       </th> <td>1.052e+05</td>\n",
       "</tr>\n",
       "<tr>\n",
       "  <th>Date:</th>             <td>Fri, 16 Sep 2022</td> <th>  Prob (F-statistic):</th>  <td>  0.00</td>  \n",
       "</tr>\n",
       "<tr>\n",
       "  <th>Time:</th>                 <td>18:42:24</td>     <th>  Log-Likelihood:    </th> <td> -55651.</td> \n",
       "</tr>\n",
       "<tr>\n",
       "  <th>No. Observations:</th>      <td> 10886</td>      <th>  AIC:               </th> <td>1.113e+05</td>\n",
       "</tr>\n",
       "<tr>\n",
       "  <th>Df Residuals:</th>          <td> 10883</td>      <th>  BIC:               </th> <td>1.113e+05</td>\n",
       "</tr>\n",
       "<tr>\n",
       "  <th>Df Model:</th>              <td>     2</td>      <th>                     </th>     <td> </td>    \n",
       "</tr>\n",
       "<tr>\n",
       "  <th>Covariance Type:</th>      <td>nonrobust</td>    <th>                     </th>     <td> </td>    \n",
       "</tr>\n",
       "</table>\n",
       "<table class=\"simpletable\">\n",
       "<tr>\n",
       "       <td></td>         <th>coef</th>     <th>std err</th>      <th>t</th>      <th>P>|t|</th>  <th>[0.025</th>    <th>0.975]</th>  \n",
       "</tr>\n",
       "<tr>\n",
       "  <th>Intercept</th>  <td>  -28.4985</td> <td>    1.075</td> <td>  -26.517</td> <td> 0.000</td> <td>  -30.605</td> <td>  -26.392</td>\n",
       "</tr>\n",
       "<tr>\n",
       "  <th>registered</th> <td>    1.1283</td> <td>    0.003</td> <td>  419.436</td> <td> 0.000</td> <td>    1.123</td> <td>    1.134</td>\n",
       "</tr>\n",
       "<tr>\n",
       "  <th>temp</th>       <td>    2.2029</td> <td>    0.052</td> <td>   42.246</td> <td> 0.000</td> <td>    2.101</td> <td>    2.305</td>\n",
       "</tr>\n",
       "</table>\n",
       "<table class=\"simpletable\">\n",
       "<tr>\n",
       "  <th>Omnibus:</th>       <td>5989.520</td> <th>  Durbin-Watson:     </th> <td>   0.194</td> \n",
       "</tr>\n",
       "<tr>\n",
       "  <th>Prob(Omnibus):</th>  <td> 0.000</td>  <th>  Jarque-Bera (JB):  </th> <td>54508.396</td>\n",
       "</tr>\n",
       "<tr>\n",
       "  <th>Skew:</th>           <td> 2.513</td>  <th>  Prob(JB):          </th> <td>    0.00</td> \n",
       "</tr>\n",
       "<tr>\n",
       "  <th>Kurtosis:</th>       <td>12.742</td>  <th>  Cond. No.          </th> <td>    607.</td> \n",
       "</tr>\n",
       "</table><br/><br/>Notes:<br/>[1] Standard Errors assume that the covariance matrix of the errors is correctly specified."
      ],
      "text/plain": [
       "<class 'statsmodels.iolib.summary.Summary'>\n",
       "\"\"\"\n",
       "                            OLS Regression Results                            \n",
       "==============================================================================\n",
       "Dep. Variable:                  count   R-squared:                       0.951\n",
       "Model:                            OLS   Adj. R-squared:                  0.951\n",
       "Method:                 Least Squares   F-statistic:                 1.052e+05\n",
       "Date:                Fri, 16 Sep 2022   Prob (F-statistic):               0.00\n",
       "Time:                        18:42:24   Log-Likelihood:                -55651.\n",
       "No. Observations:               10886   AIC:                         1.113e+05\n",
       "Df Residuals:                   10883   BIC:                         1.113e+05\n",
       "Df Model:                           2                                         \n",
       "Covariance Type:            nonrobust                                         \n",
       "==============================================================================\n",
       "                 coef    std err          t      P>|t|      [0.025      0.975]\n",
       "------------------------------------------------------------------------------\n",
       "Intercept    -28.4985      1.075    -26.517      0.000     -30.605     -26.392\n",
       "registered     1.1283      0.003    419.436      0.000       1.123       1.134\n",
       "temp           2.2029      0.052     42.246      0.000       2.101       2.305\n",
       "==============================================================================\n",
       "Omnibus:                     5989.520   Durbin-Watson:                   0.194\n",
       "Prob(Omnibus):                  0.000   Jarque-Bera (JB):            54508.396\n",
       "Skew:                           2.513   Prob(JB):                         0.00\n",
       "Kurtosis:                      12.742   Cond. No.                         607.\n",
       "==============================================================================\n",
       "\n",
       "Notes:\n",
       "[1] Standard Errors assume that the covariance matrix of the errors is correctly specified.\n",
       "\"\"\""
      ]
     },
     "execution_count": 51,
     "metadata": {},
     "output_type": "execute_result"
    }
   ],
   "source": [
    "model8.summary()"
   ]
  },
  {
   "cell_type": "code",
   "execution_count": 52,
   "id": "821ab152-f9d4-4865-b6b2-4463e134e8b5",
   "metadata": {
    "tags": []
   },
   "outputs": [],
   "source": [
    "#Including 'humidity'\n",
    "\n",
    "model11 = sm.ols(formula='count ~ registered + temp + humidity', data=df_dt4).fit()"
   ]
  },
  {
   "cell_type": "code",
   "execution_count": 53,
   "id": "31555024-69a7-419b-b17c-3c6082b8a9fa",
   "metadata": {
    "tags": []
   },
   "outputs": [
    {
     "data": {
      "text/plain": [
       "0.9548637017042095"
      ]
     },
     "execution_count": 53,
     "metadata": {},
     "output_type": "execute_result"
    }
   ],
   "source": [
    "model11.rsquared_adj"
   ]
  },
  {
   "cell_type": "code",
   "execution_count": 54,
   "id": "37bb6130-9157-48de-bc81-91d3b2061ab0",
   "metadata": {
    "tags": []
   },
   "outputs": [
    {
     "data": {
      "text/html": [
       "<table class=\"simpletable\">\n",
       "<caption>OLS Regression Results</caption>\n",
       "<tr>\n",
       "  <th>Dep. Variable:</th>          <td>count</td>      <th>  R-squared:         </th> <td>   0.955</td> \n",
       "</tr>\n",
       "<tr>\n",
       "  <th>Model:</th>                   <td>OLS</td>       <th>  Adj. R-squared:    </th> <td>   0.955</td> \n",
       "</tr>\n",
       "<tr>\n",
       "  <th>Method:</th>             <td>Least Squares</td>  <th>  F-statistic:       </th> <td>7.676e+04</td>\n",
       "</tr>\n",
       "<tr>\n",
       "  <th>Date:</th>             <td>Fri, 16 Sep 2022</td> <th>  Prob (F-statistic):</th>  <td>  0.00</td>  \n",
       "</tr>\n",
       "<tr>\n",
       "  <th>Time:</th>                 <td>18:42:24</td>     <th>  Log-Likelihood:    </th> <td> -55181.</td> \n",
       "</tr>\n",
       "<tr>\n",
       "  <th>No. Observations:</th>      <td> 10886</td>      <th>  AIC:               </th> <td>1.104e+05</td>\n",
       "</tr>\n",
       "<tr>\n",
       "  <th>Df Residuals:</th>          <td> 10882</td>      <th>  BIC:               </th> <td>1.104e+05</td>\n",
       "</tr>\n",
       "<tr>\n",
       "  <th>Df Model:</th>              <td>     3</td>      <th>                     </th>     <td> </td>    \n",
       "</tr>\n",
       "<tr>\n",
       "  <th>Covariance Type:</th>      <td>nonrobust</td>    <th>                     </th>     <td> </td>    \n",
       "</tr>\n",
       "</table>\n",
       "<table class=\"simpletable\">\n",
       "<tr>\n",
       "       <td></td>         <th>coef</th>     <th>std err</th>      <th>t</th>      <th>P>|t|</th>  <th>[0.025</th>    <th>0.975]</th>  \n",
       "</tr>\n",
       "<tr>\n",
       "  <th>Intercept</th>  <td>   12.7333</td> <td>    1.671</td> <td>    7.620</td> <td> 0.000</td> <td>    9.458</td> <td>   16.009</td>\n",
       "</tr>\n",
       "<tr>\n",
       "  <th>registered</th> <td>    1.1067</td> <td>    0.003</td> <td>  414.897</td> <td> 0.000</td> <td>    1.101</td> <td>    1.112</td>\n",
       "</tr>\n",
       "<tr>\n",
       "  <th>temp</th>       <td>    2.2365</td> <td>    0.050</td> <td>   44.770</td> <td> 0.000</td> <td>    2.139</td> <td>    2.334</td>\n",
       "</tr>\n",
       "<tr>\n",
       "  <th>humidity</th>   <td>   -0.6229</td> <td>    0.020</td> <td>  -31.325</td> <td> 0.000</td> <td>   -0.662</td> <td>   -0.584</td>\n",
       "</tr>\n",
       "</table>\n",
       "<table class=\"simpletable\">\n",
       "<tr>\n",
       "  <th>Omnibus:</th>       <td>5978.794</td> <th>  Durbin-Watson:     </th> <td>   0.195</td> \n",
       "</tr>\n",
       "<tr>\n",
       "  <th>Prob(Omnibus):</th>  <td> 0.000</td>  <th>  Jarque-Bera (JB):  </th> <td>53758.226</td>\n",
       "</tr>\n",
       "<tr>\n",
       "  <th>Skew:</th>           <td> 2.512</td>  <th>  Prob(JB):          </th> <td>    0.00</td> \n",
       "</tr>\n",
       "<tr>\n",
       "  <th>Kurtosis:</th>       <td>12.658</td>  <th>  Cond. No.          </th> <td>1.00e+03</td> \n",
       "</tr>\n",
       "</table><br/><br/>Notes:<br/>[1] Standard Errors assume that the covariance matrix of the errors is correctly specified.<br/>[2] The condition number is large,  1e+03. This might indicate that there are<br/>strong multicollinearity or other numerical problems."
      ],
      "text/plain": [
       "<class 'statsmodels.iolib.summary.Summary'>\n",
       "\"\"\"\n",
       "                            OLS Regression Results                            \n",
       "==============================================================================\n",
       "Dep. Variable:                  count   R-squared:                       0.955\n",
       "Model:                            OLS   Adj. R-squared:                  0.955\n",
       "Method:                 Least Squares   F-statistic:                 7.676e+04\n",
       "Date:                Fri, 16 Sep 2022   Prob (F-statistic):               0.00\n",
       "Time:                        18:42:24   Log-Likelihood:                -55181.\n",
       "No. Observations:               10886   AIC:                         1.104e+05\n",
       "Df Residuals:                   10882   BIC:                         1.104e+05\n",
       "Df Model:                           3                                         \n",
       "Covariance Type:            nonrobust                                         \n",
       "==============================================================================\n",
       "                 coef    std err          t      P>|t|      [0.025      0.975]\n",
       "------------------------------------------------------------------------------\n",
       "Intercept     12.7333      1.671      7.620      0.000       9.458      16.009\n",
       "registered     1.1067      0.003    414.897      0.000       1.101       1.112\n",
       "temp           2.2365      0.050     44.770      0.000       2.139       2.334\n",
       "humidity      -0.6229      0.020    -31.325      0.000      -0.662      -0.584\n",
       "==============================================================================\n",
       "Omnibus:                     5978.794   Durbin-Watson:                   0.195\n",
       "Prob(Omnibus):                  0.000   Jarque-Bera (JB):            53758.226\n",
       "Skew:                           2.512   Prob(JB):                         0.00\n",
       "Kurtosis:                      12.658   Cond. No.                     1.00e+03\n",
       "==============================================================================\n",
       "\n",
       "Notes:\n",
       "[1] Standard Errors assume that the covariance matrix of the errors is correctly specified.\n",
       "[2] The condition number is large,  1e+03. This might indicate that there are\n",
       "strong multicollinearity or other numerical problems.\n",
       "\"\"\""
      ]
     },
     "execution_count": 54,
     "metadata": {},
     "output_type": "execute_result"
    }
   ],
   "source": [
    "model11.summary()"
   ]
  },
  {
   "cell_type": "code",
   "execution_count": 55,
   "id": "e0e33473-e1cc-488f-99c3-2c7612b5248e",
   "metadata": {
    "tags": []
   },
   "outputs": [],
   "source": [
    "# Including 'windspeed'\n",
    "\n",
    "model12 = sm.ols(formula='count ~ registered + temp + windspeed', data=df_dt4).fit()"
   ]
  },
  {
   "cell_type": "code",
   "execution_count": 56,
   "id": "89685010-0c3c-4b7b-915e-b7b70f7bed47",
   "metadata": {
    "tags": []
   },
   "outputs": [
    {
     "data": {
      "text/plain": [
       "0.9510999980010728"
      ]
     },
     "execution_count": 56,
     "metadata": {},
     "output_type": "execute_result"
    }
   ],
   "source": [
    "model12.rsquared_adj"
   ]
  },
  {
   "cell_type": "code",
   "execution_count": 57,
   "id": "8a9b0f71-add6-4ea0-9ca7-255df87e145a",
   "metadata": {
    "tags": []
   },
   "outputs": [
    {
     "data": {
      "text/html": [
       "<table class=\"simpletable\">\n",
       "<caption>OLS Regression Results</caption>\n",
       "<tr>\n",
       "  <th>Dep. Variable:</th>          <td>count</td>      <th>  R-squared:         </th> <td>   0.951</td> \n",
       "</tr>\n",
       "<tr>\n",
       "  <th>Model:</th>                   <td>OLS</td>       <th>  Adj. R-squared:    </th> <td>   0.951</td> \n",
       "</tr>\n",
       "<tr>\n",
       "  <th>Method:</th>             <td>Least Squares</td>  <th>  F-statistic:       </th> <td>7.057e+04</td>\n",
       "</tr>\n",
       "<tr>\n",
       "  <th>Date:</th>             <td>Fri, 16 Sep 2022</td> <th>  Prob (F-statistic):</th>  <td>  0.00</td>  \n",
       "</tr>\n",
       "<tr>\n",
       "  <th>Time:</th>                 <td>18:42:24</td>     <th>  Log-Likelihood:    </th> <td> -55617.</td> \n",
       "</tr>\n",
       "<tr>\n",
       "  <th>No. Observations:</th>      <td> 10886</td>      <th>  AIC:               </th> <td>1.112e+05</td>\n",
       "</tr>\n",
       "<tr>\n",
       "  <th>Df Residuals:</th>          <td> 10882</td>      <th>  BIC:               </th> <td>1.113e+05</td>\n",
       "</tr>\n",
       "<tr>\n",
       "  <th>Df Model:</th>              <td>     3</td>      <th>                     </th>     <td> </td>    \n",
       "</tr>\n",
       "<tr>\n",
       "  <th>Covariance Type:</th>      <td>nonrobust</td>    <th>                     </th>     <td> </td>    \n",
       "</tr>\n",
       "</table>\n",
       "<table class=\"simpletable\">\n",
       "<tr>\n",
       "       <td></td>         <th>coef</th>     <th>std err</th>      <th>t</th>      <th>P>|t|</th>  <th>[0.025</th>    <th>0.975]</th>  \n",
       "</tr>\n",
       "<tr>\n",
       "  <th>Intercept</th>  <td>  -33.5723</td> <td>    1.235</td> <td>  -27.180</td> <td> 0.000</td> <td>  -35.994</td> <td>  -31.151</td>\n",
       "</tr>\n",
       "<tr>\n",
       "  <th>registered</th> <td>    1.1260</td> <td>    0.003</td> <td>  417.688</td> <td> 0.000</td> <td>    1.121</td> <td>    1.131</td>\n",
       "</tr>\n",
       "<tr>\n",
       "  <th>temp</th>       <td>    2.2242</td> <td>    0.052</td> <td>   42.733</td> <td> 0.000</td> <td>    2.122</td> <td>    2.326</td>\n",
       "</tr>\n",
       "<tr>\n",
       "  <th>windspeed</th>  <td>    0.3903</td> <td>    0.047</td> <td>    8.255</td> <td> 0.000</td> <td>    0.298</td> <td>    0.483</td>\n",
       "</tr>\n",
       "</table>\n",
       "<table class=\"simpletable\">\n",
       "<tr>\n",
       "  <th>Omnibus:</th>       <td>6012.214</td> <th>  Durbin-Watson:     </th> <td>   0.196</td> \n",
       "</tr>\n",
       "<tr>\n",
       "  <th>Prob(Omnibus):</th>  <td> 0.000</td>  <th>  Jarque-Bera (JB):  </th> <td>54982.716</td>\n",
       "</tr>\n",
       "<tr>\n",
       "  <th>Skew:</th>           <td> 2.524</td>  <th>  Prob(JB):          </th> <td>    0.00</td> \n",
       "</tr>\n",
       "<tr>\n",
       "  <th>Kurtosis:</th>       <td>12.785</td>  <th>  Cond. No.          </th> <td>    701.</td> \n",
       "</tr>\n",
       "</table><br/><br/>Notes:<br/>[1] Standard Errors assume that the covariance matrix of the errors is correctly specified."
      ],
      "text/plain": [
       "<class 'statsmodels.iolib.summary.Summary'>\n",
       "\"\"\"\n",
       "                            OLS Regression Results                            \n",
       "==============================================================================\n",
       "Dep. Variable:                  count   R-squared:                       0.951\n",
       "Model:                            OLS   Adj. R-squared:                  0.951\n",
       "Method:                 Least Squares   F-statistic:                 7.057e+04\n",
       "Date:                Fri, 16 Sep 2022   Prob (F-statistic):               0.00\n",
       "Time:                        18:42:24   Log-Likelihood:                -55617.\n",
       "No. Observations:               10886   AIC:                         1.112e+05\n",
       "Df Residuals:                   10882   BIC:                         1.113e+05\n",
       "Df Model:                           3                                         \n",
       "Covariance Type:            nonrobust                                         \n",
       "==============================================================================\n",
       "                 coef    std err          t      P>|t|      [0.025      0.975]\n",
       "------------------------------------------------------------------------------\n",
       "Intercept    -33.5723      1.235    -27.180      0.000     -35.994     -31.151\n",
       "registered     1.1260      0.003    417.688      0.000       1.121       1.131\n",
       "temp           2.2242      0.052     42.733      0.000       2.122       2.326\n",
       "windspeed      0.3903      0.047      8.255      0.000       0.298       0.483\n",
       "==============================================================================\n",
       "Omnibus:                     6012.214   Durbin-Watson:                   0.196\n",
       "Prob(Omnibus):                  0.000   Jarque-Bera (JB):            54982.716\n",
       "Skew:                           2.524   Prob(JB):                         0.00\n",
       "Kurtosis:                      12.785   Cond. No.                         701.\n",
       "==============================================================================\n",
       "\n",
       "Notes:\n",
       "[1] Standard Errors assume that the covariance matrix of the errors is correctly specified.\n",
       "\"\"\""
      ]
     },
     "execution_count": 57,
     "metadata": {},
     "output_type": "execute_result"
    }
   ],
   "source": [
    "model12.summary()"
   ]
  },
  {
   "cell_type": "markdown",
   "id": "cb2c74b2-2c70-4ba1-8d9a-0d64e7e40169",
   "metadata": {
    "tags": []
   },
   "source": [
    "#### Conclusion: By adding 'humidty' to the current model with 2 independent variables 'registered' and 'temp'(model8 rsquared_adj = 0.9507982826086078), the model fit registers a slight improvement than the other two variables (model11- rsquared= 0.9548637017042095).\n",
    "\n",
    "\n",
    "#### model10=  Independent variables: registered + temp + atemp - rsquared_adj = 0.9508008381783969\n",
    "#### model11=  Independent variables: registered + temp + humidity - rsquared_adj = 0.9548637017042095\n",
    "#### model12 rsquared_adj = Independent variables: registered + temp + windspeed - rsquared_adj = 0.9510999980010728"
   ]
  },
  {
   "cell_type": "markdown",
   "id": "a0e0cec7-8e0a-47ff-85e3-1cb9eb1934e0",
   "metadata": {
    "tags": []
   },
   "source": [
    "### Linear Regression Model adding an additional feature ('registered', 'temp' and 'humidity') from the subset dataframe"
   ]
  },
  {
   "cell_type": "code",
   "execution_count": 58,
   "id": "27a50e65-ab63-4fb2-b46d-779954d9b02a",
   "metadata": {
    "tags": []
   },
   "outputs": [],
   "source": [
    "#Including 'atemp'\n",
    "\n",
    "model13 = sm.ols(formula='count ~ registered + temp + humidity + atemp', data=df_dt4).fit()"
   ]
  },
  {
   "cell_type": "code",
   "execution_count": 59,
   "id": "d24cffa4-e4ed-4475-87ee-d2d7cac32592",
   "metadata": {
    "tags": []
   },
   "outputs": [
    {
     "data": {
      "text/plain": [
       "0.954973139258559"
      ]
     },
     "execution_count": 59,
     "metadata": {},
     "output_type": "execute_result"
    }
   ],
   "source": [
    "model13.rsquared_adj"
   ]
  },
  {
   "cell_type": "code",
   "execution_count": 60,
   "id": "157a74e1-0336-4536-b3af-82828c431756",
   "metadata": {
    "tags": []
   },
   "outputs": [
    {
     "data": {
      "text/html": [
       "<table class=\"simpletable\">\n",
       "<caption>OLS Regression Results</caption>\n",
       "<tr>\n",
       "  <th>Dep. Variable:</th>          <td>count</td>      <th>  R-squared:         </th> <td>   0.955</td> \n",
       "</tr>\n",
       "<tr>\n",
       "  <th>Model:</th>                   <td>OLS</td>       <th>  Adj. R-squared:    </th> <td>   0.955</td> \n",
       "</tr>\n",
       "<tr>\n",
       "  <th>Method:</th>             <td>Least Squares</td>  <th>  F-statistic:       </th> <td>5.772e+04</td>\n",
       "</tr>\n",
       "<tr>\n",
       "  <th>Date:</th>             <td>Fri, 16 Sep 2022</td> <th>  Prob (F-statistic):</th>  <td>  0.00</td>  \n",
       "</tr>\n",
       "<tr>\n",
       "  <th>Time:</th>                 <td>18:42:24</td>     <th>  Log-Likelihood:    </th> <td> -55168.</td> \n",
       "</tr>\n",
       "<tr>\n",
       "  <th>No. Observations:</th>      <td> 10886</td>      <th>  AIC:               </th> <td>1.103e+05</td>\n",
       "</tr>\n",
       "<tr>\n",
       "  <th>Df Residuals:</th>          <td> 10881</td>      <th>  BIC:               </th> <td>1.104e+05</td>\n",
       "</tr>\n",
       "<tr>\n",
       "  <th>Df Model:</th>              <td>     4</td>      <th>                     </th>     <td> </td>    \n",
       "</tr>\n",
       "<tr>\n",
       "  <th>Covariance Type:</th>      <td>nonrobust</td>    <th>                     </th>     <td> </td>    \n",
       "</tr>\n",
       "</table>\n",
       "<table class=\"simpletable\">\n",
       "<tr>\n",
       "       <td></td>         <th>coef</th>     <th>std err</th>      <th>t</th>      <th>P>|t|</th>  <th>[0.025</th>    <th>0.975]</th>  \n",
       "</tr>\n",
       "<tr>\n",
       "  <th>Intercept</th>  <td>   10.9645</td> <td>    1.703</td> <td>    6.439</td> <td> 0.000</td> <td>    7.627</td> <td>   14.302</td>\n",
       "</tr>\n",
       "<tr>\n",
       "  <th>registered</th> <td>    1.1061</td> <td>    0.003</td> <td>  414.914</td> <td> 0.000</td> <td>    1.101</td> <td>    1.111</td>\n",
       "</tr>\n",
       "<tr>\n",
       "  <th>temp</th>       <td>    0.8150</td> <td>    0.276</td> <td>    2.954</td> <td> 0.003</td> <td>    0.274</td> <td>    1.356</td>\n",
       "</tr>\n",
       "<tr>\n",
       "  <th>humidity</th>   <td>   -0.6359</td> <td>    0.020</td> <td>  -31.770</td> <td> 0.000</td> <td>   -0.675</td> <td>   -0.597</td>\n",
       "</tr>\n",
       "<tr>\n",
       "  <th>atemp</th>      <td>    1.3280</td> <td>    0.253</td> <td>    5.239</td> <td> 0.000</td> <td>    0.831</td> <td>    1.825</td>\n",
       "</tr>\n",
       "</table>\n",
       "<table class=\"simpletable\">\n",
       "<tr>\n",
       "  <th>Omnibus:</th>       <td>5945.209</td> <th>  Durbin-Watson:     </th> <td>   0.196</td> \n",
       "</tr>\n",
       "<tr>\n",
       "  <th>Prob(Omnibus):</th>  <td> 0.000</td>  <th>  Jarque-Bera (JB):  </th> <td>52974.404</td>\n",
       "</tr>\n",
       "<tr>\n",
       "  <th>Skew:</th>           <td> 2.497</td>  <th>  Prob(JB):          </th> <td>    0.00</td> \n",
       "</tr>\n",
       "<tr>\n",
       "  <th>Kurtosis:</th>       <td>12.584</td>  <th>  Cond. No.          </th> <td>1.03e+03</td> \n",
       "</tr>\n",
       "</table><br/><br/>Notes:<br/>[1] Standard Errors assume that the covariance matrix of the errors is correctly specified.<br/>[2] The condition number is large, 1.03e+03. This might indicate that there are<br/>strong multicollinearity or other numerical problems."
      ],
      "text/plain": [
       "<class 'statsmodels.iolib.summary.Summary'>\n",
       "\"\"\"\n",
       "                            OLS Regression Results                            \n",
       "==============================================================================\n",
       "Dep. Variable:                  count   R-squared:                       0.955\n",
       "Model:                            OLS   Adj. R-squared:                  0.955\n",
       "Method:                 Least Squares   F-statistic:                 5.772e+04\n",
       "Date:                Fri, 16 Sep 2022   Prob (F-statistic):               0.00\n",
       "Time:                        18:42:24   Log-Likelihood:                -55168.\n",
       "No. Observations:               10886   AIC:                         1.103e+05\n",
       "Df Residuals:                   10881   BIC:                         1.104e+05\n",
       "Df Model:                           4                                         \n",
       "Covariance Type:            nonrobust                                         \n",
       "==============================================================================\n",
       "                 coef    std err          t      P>|t|      [0.025      0.975]\n",
       "------------------------------------------------------------------------------\n",
       "Intercept     10.9645      1.703      6.439      0.000       7.627      14.302\n",
       "registered     1.1061      0.003    414.914      0.000       1.101       1.111\n",
       "temp           0.8150      0.276      2.954      0.003       0.274       1.356\n",
       "humidity      -0.6359      0.020    -31.770      0.000      -0.675      -0.597\n",
       "atemp          1.3280      0.253      5.239      0.000       0.831       1.825\n",
       "==============================================================================\n",
       "Omnibus:                     5945.209   Durbin-Watson:                   0.196\n",
       "Prob(Omnibus):                  0.000   Jarque-Bera (JB):            52974.404\n",
       "Skew:                           2.497   Prob(JB):                         0.00\n",
       "Kurtosis:                      12.584   Cond. No.                     1.03e+03\n",
       "==============================================================================\n",
       "\n",
       "Notes:\n",
       "[1] Standard Errors assume that the covariance matrix of the errors is correctly specified.\n",
       "[2] The condition number is large, 1.03e+03. This might indicate that there are\n",
       "strong multicollinearity or other numerical problems.\n",
       "\"\"\""
      ]
     },
     "execution_count": 60,
     "metadata": {},
     "output_type": "execute_result"
    }
   ],
   "source": [
    "model13.summary()"
   ]
  },
  {
   "cell_type": "code",
   "execution_count": 61,
   "id": "c70fcb5b-59bf-4309-8c1e-b47dc58538c4",
   "metadata": {
    "tags": []
   },
   "outputs": [],
   "source": [
    "#Including 'windspeed'\n",
    "\n",
    "model14 = sm.ols(formula='count ~ registered + temp + humidity + windspeed', data=df_dt4).fit()"
   ]
  },
  {
   "cell_type": "code",
   "execution_count": 62,
   "id": "8be6f828-52b1-4046-b150-b96e0c99626b",
   "metadata": {
    "tags": []
   },
   "outputs": [
    {
     "data": {
      "text/plain": [
       "0.954864078923544"
      ]
     },
     "execution_count": 62,
     "metadata": {},
     "output_type": "execute_result"
    }
   ],
   "source": [
    "model14.rsquared_adj"
   ]
  },
  {
   "cell_type": "code",
   "execution_count": 63,
   "id": "94d5f069-444f-49b8-90f0-b2b5566b7b1c",
   "metadata": {
    "tags": []
   },
   "outputs": [
    {
     "data": {
      "text/html": [
       "<table class=\"simpletable\">\n",
       "<caption>OLS Regression Results</caption>\n",
       "<tr>\n",
       "  <th>Dep. Variable:</th>          <td>count</td>      <th>  R-squared:         </th> <td>   0.955</td> \n",
       "</tr>\n",
       "<tr>\n",
       "  <th>Model:</th>                   <td>OLS</td>       <th>  Adj. R-squared:    </th> <td>   0.955</td> \n",
       "</tr>\n",
       "<tr>\n",
       "  <th>Method:</th>             <td>Least Squares</td>  <th>  F-statistic:       </th> <td>5.757e+04</td>\n",
       "</tr>\n",
       "<tr>\n",
       "  <th>Date:</th>             <td>Fri, 16 Sep 2022</td> <th>  Prob (F-statistic):</th>  <td>  0.00</td>  \n",
       "</tr>\n",
       "<tr>\n",
       "  <th>Time:</th>                 <td>18:42:24</td>     <th>  Log-Likelihood:    </th> <td> -55181.</td> \n",
       "</tr>\n",
       "<tr>\n",
       "  <th>No. Observations:</th>      <td> 10886</td>      <th>  AIC:               </th> <td>1.104e+05</td>\n",
       "</tr>\n",
       "<tr>\n",
       "  <th>Df Residuals:</th>          <td> 10881</td>      <th>  BIC:               </th> <td>1.104e+05</td>\n",
       "</tr>\n",
       "<tr>\n",
       "  <th>Df Model:</th>              <td>     4</td>      <th>                     </th>     <td> </td>    \n",
       "</tr>\n",
       "<tr>\n",
       "  <th>Covariance Type:</th>      <td>nonrobust</td>    <th>                     </th>     <td> </td>    \n",
       "</tr>\n",
       "</table>\n",
       "<table class=\"simpletable\">\n",
       "<tr>\n",
       "       <td></td>         <th>coef</th>     <th>std err</th>      <th>t</th>      <th>P>|t|</th>  <th>[0.025</th>    <th>0.975]</th>  \n",
       "</tr>\n",
       "<tr>\n",
       "  <th>Intercept</th>  <td>   13.8231</td> <td>    1.970</td> <td>    7.017</td> <td> 0.000</td> <td>    9.962</td> <td>   17.685</td>\n",
       "</tr>\n",
       "<tr>\n",
       "  <th>registered</th> <td>    1.1067</td> <td>    0.003</td> <td>  414.830</td> <td> 0.000</td> <td>    1.101</td> <td>    1.112</td>\n",
       "</tr>\n",
       "<tr>\n",
       "  <th>temp</th>       <td>    2.2341</td> <td>    0.050</td> <td>   44.677</td> <td> 0.000</td> <td>    2.136</td> <td>    2.332</td>\n",
       "</tr>\n",
       "<tr>\n",
       "  <th>humidity</th>   <td>   -0.6296</td> <td>    0.021</td> <td>  -30.141</td> <td> 0.000</td> <td>   -0.671</td> <td>   -0.589</td>\n",
       "</tr>\n",
       "<tr>\n",
       "  <th>windspeed</th>  <td>   -0.0498</td> <td>    0.048</td> <td>   -1.044</td> <td> 0.296</td> <td>   -0.143</td> <td>    0.044</td>\n",
       "</tr>\n",
       "</table>\n",
       "<table class=\"simpletable\">\n",
       "<tr>\n",
       "  <th>Omnibus:</th>       <td>5975.914</td> <th>  Durbin-Watson:     </th> <td>   0.195</td> \n",
       "</tr>\n",
       "<tr>\n",
       "  <th>Prob(Omnibus):</th>  <td> 0.000</td>  <th>  Jarque-Bera (JB):  </th> <td>53688.573</td>\n",
       "</tr>\n",
       "<tr>\n",
       "  <th>Skew:</th>           <td> 2.511</td>  <th>  Prob(JB):          </th> <td>    0.00</td> \n",
       "</tr>\n",
       "<tr>\n",
       "  <th>Kurtosis:</th>       <td>12.651</td>  <th>  Cond. No.          </th> <td>1.18e+03</td> \n",
       "</tr>\n",
       "</table><br/><br/>Notes:<br/>[1] Standard Errors assume that the covariance matrix of the errors is correctly specified.<br/>[2] The condition number is large, 1.18e+03. This might indicate that there are<br/>strong multicollinearity or other numerical problems."
      ],
      "text/plain": [
       "<class 'statsmodels.iolib.summary.Summary'>\n",
       "\"\"\"\n",
       "                            OLS Regression Results                            \n",
       "==============================================================================\n",
       "Dep. Variable:                  count   R-squared:                       0.955\n",
       "Model:                            OLS   Adj. R-squared:                  0.955\n",
       "Method:                 Least Squares   F-statistic:                 5.757e+04\n",
       "Date:                Fri, 16 Sep 2022   Prob (F-statistic):               0.00\n",
       "Time:                        18:42:24   Log-Likelihood:                -55181.\n",
       "No. Observations:               10886   AIC:                         1.104e+05\n",
       "Df Residuals:                   10881   BIC:                         1.104e+05\n",
       "Df Model:                           4                                         \n",
       "Covariance Type:            nonrobust                                         \n",
       "==============================================================================\n",
       "                 coef    std err          t      P>|t|      [0.025      0.975]\n",
       "------------------------------------------------------------------------------\n",
       "Intercept     13.8231      1.970      7.017      0.000       9.962      17.685\n",
       "registered     1.1067      0.003    414.830      0.000       1.101       1.112\n",
       "temp           2.2341      0.050     44.677      0.000       2.136       2.332\n",
       "humidity      -0.6296      0.021    -30.141      0.000      -0.671      -0.589\n",
       "windspeed     -0.0498      0.048     -1.044      0.296      -0.143       0.044\n",
       "==============================================================================\n",
       "Omnibus:                     5975.914   Durbin-Watson:                   0.195\n",
       "Prob(Omnibus):                  0.000   Jarque-Bera (JB):            53688.573\n",
       "Skew:                           2.511   Prob(JB):                         0.00\n",
       "Kurtosis:                      12.651   Cond. No.                     1.18e+03\n",
       "==============================================================================\n",
       "\n",
       "Notes:\n",
       "[1] Standard Errors assume that the covariance matrix of the errors is correctly specified.\n",
       "[2] The condition number is large, 1.18e+03. This might indicate that there are\n",
       "strong multicollinearity or other numerical problems.\n",
       "\"\"\""
      ]
     },
     "execution_count": 63,
     "metadata": {},
     "output_type": "execute_result"
    }
   ],
   "source": [
    "model14.summary()"
   ]
  },
  {
   "cell_type": "markdown",
   "id": "1acd0d55-b23d-49a9-a16a-3de86f4e2e9e",
   "metadata": {
    "tags": []
   },
   "source": [
    "#### Conclusion: By adding 'atemp' to the current model with 3 independent variables 'registered' + 'temp' + 'humidity' (model11 rsquared_adj = 0.9548637017042095), the model fit registers a slight improvement than the model with the variable 'windspeed' (model13- rsquared= 0.954973139258559).\n",
    "\n",
    "\n",
    "#### model13=  Independent variables: registered + temp + humidity + atemp - rsquared_adj = 0.954973139258559\n",
    "#### model14 rsquared_adj = Independent variables: registered + temp + humidity + windspeed - rsquared_adj = 0.954864078923544"
   ]
  },
  {
   "cell_type": "markdown",
   "id": "36fe06de-b72f-4056-bf41-e4c9ecd4b068",
   "metadata": {
    "tags": []
   },
   "source": [
    "### Now let's see what happens when all the independent variables are included: 'registered' + 'temp' + 'humidity' + 'atemp' + 'windspeed':"
   ]
  },
  {
   "cell_type": "code",
   "execution_count": 64,
   "id": "d0313431-ca13-477d-8ac0-e68e9da7a669",
   "metadata": {
    "tags": []
   },
   "outputs": [],
   "source": [
    "#Including 'windspeed'\n",
    "\n",
    "model15 = sm.ols(formula='count ~ registered + temp + humidity + windspeed', data=df_dt4).fit()"
   ]
  },
  {
   "cell_type": "code",
   "execution_count": 65,
   "id": "0092d998-8112-4c40-a28a-36a2f2218798",
   "metadata": {
    "tags": []
   },
   "outputs": [
    {
     "data": {
      "text/plain": [
       "0.9548806653897182"
      ]
     },
     "execution_count": 65,
     "metadata": {},
     "output_type": "execute_result"
    }
   ],
   "source": [
    "model15.rsquared"
   ]
  },
  {
   "cell_type": "code",
   "execution_count": 66,
   "id": "0f607e49-cb71-4b19-b5bb-de26e27a0886",
   "metadata": {
    "tags": []
   },
   "outputs": [
    {
     "data": {
      "text/html": [
       "<table class=\"simpletable\">\n",
       "<caption>OLS Regression Results</caption>\n",
       "<tr>\n",
       "  <th>Dep. Variable:</th>          <td>count</td>      <th>  R-squared:         </th> <td>   0.955</td> \n",
       "</tr>\n",
       "<tr>\n",
       "  <th>Model:</th>                   <td>OLS</td>       <th>  Adj. R-squared:    </th> <td>   0.955</td> \n",
       "</tr>\n",
       "<tr>\n",
       "  <th>Method:</th>             <td>Least Squares</td>  <th>  F-statistic:       </th> <td>5.757e+04</td>\n",
       "</tr>\n",
       "<tr>\n",
       "  <th>Date:</th>             <td>Fri, 16 Sep 2022</td> <th>  Prob (F-statistic):</th>  <td>  0.00</td>  \n",
       "</tr>\n",
       "<tr>\n",
       "  <th>Time:</th>                 <td>18:42:24</td>     <th>  Log-Likelihood:    </th> <td> -55181.</td> \n",
       "</tr>\n",
       "<tr>\n",
       "  <th>No. Observations:</th>      <td> 10886</td>      <th>  AIC:               </th> <td>1.104e+05</td>\n",
       "</tr>\n",
       "<tr>\n",
       "  <th>Df Residuals:</th>          <td> 10881</td>      <th>  BIC:               </th> <td>1.104e+05</td>\n",
       "</tr>\n",
       "<tr>\n",
       "  <th>Df Model:</th>              <td>     4</td>      <th>                     </th>     <td> </td>    \n",
       "</tr>\n",
       "<tr>\n",
       "  <th>Covariance Type:</th>      <td>nonrobust</td>    <th>                     </th>     <td> </td>    \n",
       "</tr>\n",
       "</table>\n",
       "<table class=\"simpletable\">\n",
       "<tr>\n",
       "       <td></td>         <th>coef</th>     <th>std err</th>      <th>t</th>      <th>P>|t|</th>  <th>[0.025</th>    <th>0.975]</th>  \n",
       "</tr>\n",
       "<tr>\n",
       "  <th>Intercept</th>  <td>   13.8231</td> <td>    1.970</td> <td>    7.017</td> <td> 0.000</td> <td>    9.962</td> <td>   17.685</td>\n",
       "</tr>\n",
       "<tr>\n",
       "  <th>registered</th> <td>    1.1067</td> <td>    0.003</td> <td>  414.830</td> <td> 0.000</td> <td>    1.101</td> <td>    1.112</td>\n",
       "</tr>\n",
       "<tr>\n",
       "  <th>temp</th>       <td>    2.2341</td> <td>    0.050</td> <td>   44.677</td> <td> 0.000</td> <td>    2.136</td> <td>    2.332</td>\n",
       "</tr>\n",
       "<tr>\n",
       "  <th>humidity</th>   <td>   -0.6296</td> <td>    0.021</td> <td>  -30.141</td> <td> 0.000</td> <td>   -0.671</td> <td>   -0.589</td>\n",
       "</tr>\n",
       "<tr>\n",
       "  <th>windspeed</th>  <td>   -0.0498</td> <td>    0.048</td> <td>   -1.044</td> <td> 0.296</td> <td>   -0.143</td> <td>    0.044</td>\n",
       "</tr>\n",
       "</table>\n",
       "<table class=\"simpletable\">\n",
       "<tr>\n",
       "  <th>Omnibus:</th>       <td>5975.914</td> <th>  Durbin-Watson:     </th> <td>   0.195</td> \n",
       "</tr>\n",
       "<tr>\n",
       "  <th>Prob(Omnibus):</th>  <td> 0.000</td>  <th>  Jarque-Bera (JB):  </th> <td>53688.573</td>\n",
       "</tr>\n",
       "<tr>\n",
       "  <th>Skew:</th>           <td> 2.511</td>  <th>  Prob(JB):          </th> <td>    0.00</td> \n",
       "</tr>\n",
       "<tr>\n",
       "  <th>Kurtosis:</th>       <td>12.651</td>  <th>  Cond. No.          </th> <td>1.18e+03</td> \n",
       "</tr>\n",
       "</table><br/><br/>Notes:<br/>[1] Standard Errors assume that the covariance matrix of the errors is correctly specified.<br/>[2] The condition number is large, 1.18e+03. This might indicate that there are<br/>strong multicollinearity or other numerical problems."
      ],
      "text/plain": [
       "<class 'statsmodels.iolib.summary.Summary'>\n",
       "\"\"\"\n",
       "                            OLS Regression Results                            \n",
       "==============================================================================\n",
       "Dep. Variable:                  count   R-squared:                       0.955\n",
       "Model:                            OLS   Adj. R-squared:                  0.955\n",
       "Method:                 Least Squares   F-statistic:                 5.757e+04\n",
       "Date:                Fri, 16 Sep 2022   Prob (F-statistic):               0.00\n",
       "Time:                        18:42:24   Log-Likelihood:                -55181.\n",
       "No. Observations:               10886   AIC:                         1.104e+05\n",
       "Df Residuals:                   10881   BIC:                         1.104e+05\n",
       "Df Model:                           4                                         \n",
       "Covariance Type:            nonrobust                                         \n",
       "==============================================================================\n",
       "                 coef    std err          t      P>|t|      [0.025      0.975]\n",
       "------------------------------------------------------------------------------\n",
       "Intercept     13.8231      1.970      7.017      0.000       9.962      17.685\n",
       "registered     1.1067      0.003    414.830      0.000       1.101       1.112\n",
       "temp           2.2341      0.050     44.677      0.000       2.136       2.332\n",
       "humidity      -0.6296      0.021    -30.141      0.000      -0.671      -0.589\n",
       "windspeed     -0.0498      0.048     -1.044      0.296      -0.143       0.044\n",
       "==============================================================================\n",
       "Omnibus:                     5975.914   Durbin-Watson:                   0.195\n",
       "Prob(Omnibus):                  0.000   Jarque-Bera (JB):            53688.573\n",
       "Skew:                           2.511   Prob(JB):                         0.00\n",
       "Kurtosis:                      12.651   Cond. No.                     1.18e+03\n",
       "==============================================================================\n",
       "\n",
       "Notes:\n",
       "[1] Standard Errors assume that the covariance matrix of the errors is correctly specified.\n",
       "[2] The condition number is large, 1.18e+03. This might indicate that there are\n",
       "strong multicollinearity or other numerical problems.\n",
       "\"\"\""
      ]
     },
     "execution_count": 66,
     "metadata": {},
     "output_type": "execute_result"
    }
   ],
   "source": [
    "model15.summary()"
   ]
  },
  {
   "cell_type": "markdown",
   "id": "1932608e-9579-478c-a211-825f00b3f9ab",
   "metadata": {
    "tags": []
   },
   "source": [
    "#### Conclusion: \n",
    "\n",
    "\n",
    "#### model13=  Independent variables: registered + temp + humidity + atemp - rsquared_adj = 0.954973139258559\n",
    "\n",
    "#### vs\n",
    "\n",
    "#### model15 (including all the 5 independent variables)=  Independent variables: registered + temp + humidity + atemp + windspeed - rsquared_adj = 0.9548806653897182\n",
    "\n",
    "#### By including the extra variable 'windspeed', the rsquared_adj does not improve.\n"
   ]
  },
  {
   "cell_type": "markdown",
   "id": "270e2a80-e989-40b3-8c74-58a8cc4a8e65",
   "metadata": {},
   "source": [
    "# Improving r²"
   ]
  },
  {
   "cell_type": "markdown",
   "id": "a8d9b24e-c6e1-498a-8052-55d131aee594",
   "metadata": {},
   "source": [
    "#### Use extra features to improve the r² score even further."
   ]
  },
  {
   "cell_type": "code",
   "execution_count": 67,
   "id": "8aabe89e-2b08-44ec-9e8e-0dc2b4aeb71d",
   "metadata": {
    "tags": []
   },
   "outputs": [
    {
     "data": {
      "text/html": [
       "<div>\n",
       "<style scoped>\n",
       "    .dataframe tbody tr th:only-of-type {\n",
       "        vertical-align: middle;\n",
       "    }\n",
       "\n",
       "    .dataframe tbody tr th {\n",
       "        vertical-align: top;\n",
       "    }\n",
       "\n",
       "    .dataframe thead th {\n",
       "        text-align: right;\n",
       "    }\n",
       "</style>\n",
       "<table border=\"1\" class=\"dataframe\">\n",
       "  <thead>\n",
       "    <tr style=\"text-align: right;\">\n",
       "      <th></th>\n",
       "      <th>season</th>\n",
       "      <th>holiday</th>\n",
       "      <th>workingday</th>\n",
       "      <th>weather</th>\n",
       "      <th>temp</th>\n",
       "      <th>atemp</th>\n",
       "      <th>humidity</th>\n",
       "      <th>windspeed</th>\n",
       "      <th>casual</th>\n",
       "      <th>registered</th>\n",
       "      <th>count</th>\n",
       "      <th>year</th>\n",
       "      <th>month_number</th>\n",
       "      <th>month</th>\n",
       "      <th>day_of_month</th>\n",
       "      <th>week_day</th>\n",
       "      <th>hour_day</th>\n",
       "      <th>season_name</th>\n",
       "      <th>hour_of_day</th>\n",
       "      <th>part_of_day</th>\n",
       "    </tr>\n",
       "    <tr>\n",
       "      <th>datetime</th>\n",
       "      <th></th>\n",
       "      <th></th>\n",
       "      <th></th>\n",
       "      <th></th>\n",
       "      <th></th>\n",
       "      <th></th>\n",
       "      <th></th>\n",
       "      <th></th>\n",
       "      <th></th>\n",
       "      <th></th>\n",
       "      <th></th>\n",
       "      <th></th>\n",
       "      <th></th>\n",
       "      <th></th>\n",
       "      <th></th>\n",
       "      <th></th>\n",
       "      <th></th>\n",
       "      <th></th>\n",
       "      <th></th>\n",
       "      <th></th>\n",
       "    </tr>\n",
       "  </thead>\n",
       "  <tbody>\n",
       "    <tr>\n",
       "      <th>2011-01-01 00:00:00</th>\n",
       "      <td>1</td>\n",
       "      <td>0</td>\n",
       "      <td>0</td>\n",
       "      <td>1</td>\n",
       "      <td>9.84</td>\n",
       "      <td>14.395</td>\n",
       "      <td>81</td>\n",
       "      <td>0.0000</td>\n",
       "      <td>3.0</td>\n",
       "      <td>13.0</td>\n",
       "      <td>16</td>\n",
       "      <td>2011</td>\n",
       "      <td>1</td>\n",
       "      <td>January</td>\n",
       "      <td>1</td>\n",
       "      <td>Saturday</td>\n",
       "      <td>0</td>\n",
       "      <td>winter</td>\n",
       "      <td>0</td>\n",
       "      <td>night</td>\n",
       "    </tr>\n",
       "    <tr>\n",
       "      <th>2011-01-01 01:00:00</th>\n",
       "      <td>1</td>\n",
       "      <td>0</td>\n",
       "      <td>0</td>\n",
       "      <td>1</td>\n",
       "      <td>9.02</td>\n",
       "      <td>13.635</td>\n",
       "      <td>80</td>\n",
       "      <td>0.0000</td>\n",
       "      <td>8.0</td>\n",
       "      <td>32.0</td>\n",
       "      <td>40</td>\n",
       "      <td>2011</td>\n",
       "      <td>1</td>\n",
       "      <td>January</td>\n",
       "      <td>1</td>\n",
       "      <td>Saturday</td>\n",
       "      <td>1</td>\n",
       "      <td>winter</td>\n",
       "      <td>1</td>\n",
       "      <td>night</td>\n",
       "    </tr>\n",
       "    <tr>\n",
       "      <th>2011-01-01 02:00:00</th>\n",
       "      <td>1</td>\n",
       "      <td>0</td>\n",
       "      <td>0</td>\n",
       "      <td>1</td>\n",
       "      <td>9.02</td>\n",
       "      <td>13.635</td>\n",
       "      <td>80</td>\n",
       "      <td>0.0000</td>\n",
       "      <td>5.0</td>\n",
       "      <td>27.0</td>\n",
       "      <td>32</td>\n",
       "      <td>2011</td>\n",
       "      <td>1</td>\n",
       "      <td>January</td>\n",
       "      <td>1</td>\n",
       "      <td>Saturday</td>\n",
       "      <td>2</td>\n",
       "      <td>winter</td>\n",
       "      <td>2</td>\n",
       "      <td>night</td>\n",
       "    </tr>\n",
       "    <tr>\n",
       "      <th>2011-01-01 03:00:00</th>\n",
       "      <td>1</td>\n",
       "      <td>0</td>\n",
       "      <td>0</td>\n",
       "      <td>1</td>\n",
       "      <td>9.84</td>\n",
       "      <td>14.395</td>\n",
       "      <td>75</td>\n",
       "      <td>0.0000</td>\n",
       "      <td>3.0</td>\n",
       "      <td>10.0</td>\n",
       "      <td>13</td>\n",
       "      <td>2011</td>\n",
       "      <td>1</td>\n",
       "      <td>January</td>\n",
       "      <td>1</td>\n",
       "      <td>Saturday</td>\n",
       "      <td>3</td>\n",
       "      <td>winter</td>\n",
       "      <td>3</td>\n",
       "      <td>night</td>\n",
       "    </tr>\n",
       "    <tr>\n",
       "      <th>2011-01-01 04:00:00</th>\n",
       "      <td>1</td>\n",
       "      <td>0</td>\n",
       "      <td>0</td>\n",
       "      <td>1</td>\n",
       "      <td>9.84</td>\n",
       "      <td>14.395</td>\n",
       "      <td>75</td>\n",
       "      <td>0.0000</td>\n",
       "      <td>0.0</td>\n",
       "      <td>1.0</td>\n",
       "      <td>1</td>\n",
       "      <td>2011</td>\n",
       "      <td>1</td>\n",
       "      <td>January</td>\n",
       "      <td>1</td>\n",
       "      <td>Saturday</td>\n",
       "      <td>4</td>\n",
       "      <td>winter</td>\n",
       "      <td>4</td>\n",
       "      <td>night</td>\n",
       "    </tr>\n",
       "    <tr>\n",
       "      <th>...</th>\n",
       "      <td>...</td>\n",
       "      <td>...</td>\n",
       "      <td>...</td>\n",
       "      <td>...</td>\n",
       "      <td>...</td>\n",
       "      <td>...</td>\n",
       "      <td>...</td>\n",
       "      <td>...</td>\n",
       "      <td>...</td>\n",
       "      <td>...</td>\n",
       "      <td>...</td>\n",
       "      <td>...</td>\n",
       "      <td>...</td>\n",
       "      <td>...</td>\n",
       "      <td>...</td>\n",
       "      <td>...</td>\n",
       "      <td>...</td>\n",
       "      <td>...</td>\n",
       "      <td>...</td>\n",
       "      <td>...</td>\n",
       "    </tr>\n",
       "    <tr>\n",
       "      <th>2012-12-31 19:00:00</th>\n",
       "      <td>1</td>\n",
       "      <td>0</td>\n",
       "      <td>1</td>\n",
       "      <td>2</td>\n",
       "      <td>10.66</td>\n",
       "      <td>12.880</td>\n",
       "      <td>60</td>\n",
       "      <td>11.0014</td>\n",
       "      <td>NaN</td>\n",
       "      <td>NaN</td>\n",
       "      <td>156</td>\n",
       "      <td>2012</td>\n",
       "      <td>12</td>\n",
       "      <td>December</td>\n",
       "      <td>31</td>\n",
       "      <td>Monday</td>\n",
       "      <td>19</td>\n",
       "      <td>winter</td>\n",
       "      <td>19</td>\n",
       "      <td>evening</td>\n",
       "    </tr>\n",
       "    <tr>\n",
       "      <th>2012-12-31 20:00:00</th>\n",
       "      <td>1</td>\n",
       "      <td>0</td>\n",
       "      <td>1</td>\n",
       "      <td>2</td>\n",
       "      <td>10.66</td>\n",
       "      <td>12.880</td>\n",
       "      <td>60</td>\n",
       "      <td>11.0014</td>\n",
       "      <td>NaN</td>\n",
       "      <td>NaN</td>\n",
       "      <td>104</td>\n",
       "      <td>2012</td>\n",
       "      <td>12</td>\n",
       "      <td>December</td>\n",
       "      <td>31</td>\n",
       "      <td>Monday</td>\n",
       "      <td>20</td>\n",
       "      <td>winter</td>\n",
       "      <td>20</td>\n",
       "      <td>evening</td>\n",
       "    </tr>\n",
       "    <tr>\n",
       "      <th>2012-12-31 21:00:00</th>\n",
       "      <td>1</td>\n",
       "      <td>0</td>\n",
       "      <td>1</td>\n",
       "      <td>1</td>\n",
       "      <td>10.66</td>\n",
       "      <td>12.880</td>\n",
       "      <td>60</td>\n",
       "      <td>11.0014</td>\n",
       "      <td>NaN</td>\n",
       "      <td>NaN</td>\n",
       "      <td>67</td>\n",
       "      <td>2012</td>\n",
       "      <td>12</td>\n",
       "      <td>December</td>\n",
       "      <td>31</td>\n",
       "      <td>Monday</td>\n",
       "      <td>21</td>\n",
       "      <td>winter</td>\n",
       "      <td>21</td>\n",
       "      <td>evening</td>\n",
       "    </tr>\n",
       "    <tr>\n",
       "      <th>2012-12-31 22:00:00</th>\n",
       "      <td>1</td>\n",
       "      <td>0</td>\n",
       "      <td>1</td>\n",
       "      <td>1</td>\n",
       "      <td>10.66</td>\n",
       "      <td>13.635</td>\n",
       "      <td>56</td>\n",
       "      <td>8.9981</td>\n",
       "      <td>NaN</td>\n",
       "      <td>NaN</td>\n",
       "      <td>43</td>\n",
       "      <td>2012</td>\n",
       "      <td>12</td>\n",
       "      <td>December</td>\n",
       "      <td>31</td>\n",
       "      <td>Monday</td>\n",
       "      <td>22</td>\n",
       "      <td>winter</td>\n",
       "      <td>22</td>\n",
       "      <td>evening</td>\n",
       "    </tr>\n",
       "    <tr>\n",
       "      <th>2012-12-31 23:00:00</th>\n",
       "      <td>1</td>\n",
       "      <td>0</td>\n",
       "      <td>1</td>\n",
       "      <td>1</td>\n",
       "      <td>10.66</td>\n",
       "      <td>13.635</td>\n",
       "      <td>65</td>\n",
       "      <td>8.9981</td>\n",
       "      <td>NaN</td>\n",
       "      <td>NaN</td>\n",
       "      <td>28</td>\n",
       "      <td>2012</td>\n",
       "      <td>12</td>\n",
       "      <td>December</td>\n",
       "      <td>31</td>\n",
       "      <td>Monday</td>\n",
       "      <td>23</td>\n",
       "      <td>winter</td>\n",
       "      <td>23</td>\n",
       "      <td>evening</td>\n",
       "    </tr>\n",
       "  </tbody>\n",
       "</table>\n",
       "<p>17379 rows × 20 columns</p>\n",
       "</div>"
      ],
      "text/plain": [
       "                     season  holiday  workingday  weather   temp   atemp  \\\n",
       "datetime                                                                   \n",
       "2011-01-01 00:00:00       1        0           0        1   9.84  14.395   \n",
       "2011-01-01 01:00:00       1        0           0        1   9.02  13.635   \n",
       "2011-01-01 02:00:00       1        0           0        1   9.02  13.635   \n",
       "2011-01-01 03:00:00       1        0           0        1   9.84  14.395   \n",
       "2011-01-01 04:00:00       1        0           0        1   9.84  14.395   \n",
       "...                     ...      ...         ...      ...    ...     ...   \n",
       "2012-12-31 19:00:00       1        0           1        2  10.66  12.880   \n",
       "2012-12-31 20:00:00       1        0           1        2  10.66  12.880   \n",
       "2012-12-31 21:00:00       1        0           1        1  10.66  12.880   \n",
       "2012-12-31 22:00:00       1        0           1        1  10.66  13.635   \n",
       "2012-12-31 23:00:00       1        0           1        1  10.66  13.635   \n",
       "\n",
       "                     humidity  windspeed  casual  registered  count  year  \\\n",
       "datetime                                                                    \n",
       "2011-01-01 00:00:00        81     0.0000     3.0        13.0     16  2011   \n",
       "2011-01-01 01:00:00        80     0.0000     8.0        32.0     40  2011   \n",
       "2011-01-01 02:00:00        80     0.0000     5.0        27.0     32  2011   \n",
       "2011-01-01 03:00:00        75     0.0000     3.0        10.0     13  2011   \n",
       "2011-01-01 04:00:00        75     0.0000     0.0         1.0      1  2011   \n",
       "...                       ...        ...     ...         ...    ...   ...   \n",
       "2012-12-31 19:00:00        60    11.0014     NaN         NaN    156  2012   \n",
       "2012-12-31 20:00:00        60    11.0014     NaN         NaN    104  2012   \n",
       "2012-12-31 21:00:00        60    11.0014     NaN         NaN     67  2012   \n",
       "2012-12-31 22:00:00        56     8.9981     NaN         NaN     43  2012   \n",
       "2012-12-31 23:00:00        65     8.9981     NaN         NaN     28  2012   \n",
       "\n",
       "                     month_number     month  day_of_month  week_day  hour_day  \\\n",
       "datetime                                                                        \n",
       "2011-01-01 00:00:00             1   January             1  Saturday         0   \n",
       "2011-01-01 01:00:00             1   January             1  Saturday         1   \n",
       "2011-01-01 02:00:00             1   January             1  Saturday         2   \n",
       "2011-01-01 03:00:00             1   January             1  Saturday         3   \n",
       "2011-01-01 04:00:00             1   January             1  Saturday         4   \n",
       "...                           ...       ...           ...       ...       ...   \n",
       "2012-12-31 19:00:00            12  December            31    Monday        19   \n",
       "2012-12-31 20:00:00            12  December            31    Monday        20   \n",
       "2012-12-31 21:00:00            12  December            31    Monday        21   \n",
       "2012-12-31 22:00:00            12  December            31    Monday        22   \n",
       "2012-12-31 23:00:00            12  December            31    Monday        23   \n",
       "\n",
       "                    season_name  hour_of_day part_of_day  \n",
       "datetime                                                  \n",
       "2011-01-01 00:00:00      winter            0       night  \n",
       "2011-01-01 01:00:00      winter            1       night  \n",
       "2011-01-01 02:00:00      winter            2       night  \n",
       "2011-01-01 03:00:00      winter            3       night  \n",
       "2011-01-01 04:00:00      winter            4       night  \n",
       "...                         ...          ...         ...  \n",
       "2012-12-31 19:00:00      winter           19     evening  \n",
       "2012-12-31 20:00:00      winter           20     evening  \n",
       "2012-12-31 21:00:00      winter           21     evening  \n",
       "2012-12-31 22:00:00      winter           22     evening  \n",
       "2012-12-31 23:00:00      winter           23     evening  \n",
       "\n",
       "[17379 rows x 20 columns]"
      ]
     },
     "execution_count": 67,
     "metadata": {},
     "output_type": "execute_result"
    }
   ],
   "source": [
    "df_dt1"
   ]
  },
  {
   "cell_type": "code",
   "execution_count": 68,
   "id": "7b12ca65-2f21-434c-aedb-f03029a17b5b",
   "metadata": {
    "tags": []
   },
   "outputs": [
    {
     "data": {
      "text/plain": [
       "array([1, 2, 3, 4])"
      ]
     },
     "execution_count": 68,
     "metadata": {},
     "output_type": "execute_result"
    }
   ],
   "source": [
    "df_dt1['season'].unique()"
   ]
  },
  {
   "cell_type": "markdown",
   "id": "597ae93b-3dd7-4de2-bb7c-b00d139c342e",
   "metadata": {},
   "source": [
    "#### Bin 1: Seasons\n"
   ]
  },
  {
   "cell_type": "code",
   "execution_count": 69,
   "id": "c92c5d25-e007-4200-9f4b-639ef2f0ce67",
   "metadata": {
    "tags": []
   },
   "outputs": [],
   "source": [
    "df_dt1['month_number'].replace({1:8, 2:9, 3:10, 4:11, 5:12,6:1, 7:2, 8:3, 9:4, 10:5,11:6,12:7},inplace = True)"
   ]
  },
  {
   "cell_type": "code",
   "execution_count": 70,
   "id": "ff36467d-63fc-4785-87ce-f712adcd80f2",
   "metadata": {
    "tags": []
   },
   "outputs": [
    {
     "data": {
      "text/html": [
       "<div>\n",
       "<style scoped>\n",
       "    .dataframe tbody tr th:only-of-type {\n",
       "        vertical-align: middle;\n",
       "    }\n",
       "\n",
       "    .dataframe tbody tr th {\n",
       "        vertical-align: top;\n",
       "    }\n",
       "\n",
       "    .dataframe thead th {\n",
       "        text-align: right;\n",
       "    }\n",
       "</style>\n",
       "<table border=\"1\" class=\"dataframe\">\n",
       "  <thead>\n",
       "    <tr style=\"text-align: right;\">\n",
       "      <th></th>\n",
       "      <th>season</th>\n",
       "      <th>holiday</th>\n",
       "      <th>workingday</th>\n",
       "      <th>weather</th>\n",
       "      <th>temp</th>\n",
       "      <th>atemp</th>\n",
       "      <th>humidity</th>\n",
       "      <th>windspeed</th>\n",
       "      <th>casual</th>\n",
       "      <th>registered</th>\n",
       "      <th>count</th>\n",
       "      <th>year</th>\n",
       "      <th>month_number</th>\n",
       "      <th>month</th>\n",
       "      <th>day_of_month</th>\n",
       "      <th>week_day</th>\n",
       "      <th>hour_day</th>\n",
       "      <th>season_name</th>\n",
       "      <th>hour_of_day</th>\n",
       "      <th>part_of_day</th>\n",
       "    </tr>\n",
       "    <tr>\n",
       "      <th>datetime</th>\n",
       "      <th></th>\n",
       "      <th></th>\n",
       "      <th></th>\n",
       "      <th></th>\n",
       "      <th></th>\n",
       "      <th></th>\n",
       "      <th></th>\n",
       "      <th></th>\n",
       "      <th></th>\n",
       "      <th></th>\n",
       "      <th></th>\n",
       "      <th></th>\n",
       "      <th></th>\n",
       "      <th></th>\n",
       "      <th></th>\n",
       "      <th></th>\n",
       "      <th></th>\n",
       "      <th></th>\n",
       "      <th></th>\n",
       "      <th></th>\n",
       "    </tr>\n",
       "  </thead>\n",
       "  <tbody>\n",
       "    <tr>\n",
       "      <th>2011-01-01 00:00:00</th>\n",
       "      <td>1</td>\n",
       "      <td>0</td>\n",
       "      <td>0</td>\n",
       "      <td>1</td>\n",
       "      <td>9.84</td>\n",
       "      <td>14.395</td>\n",
       "      <td>81</td>\n",
       "      <td>0.0000</td>\n",
       "      <td>3.0</td>\n",
       "      <td>13.0</td>\n",
       "      <td>16</td>\n",
       "      <td>2011</td>\n",
       "      <td>8</td>\n",
       "      <td>January</td>\n",
       "      <td>1</td>\n",
       "      <td>Saturday</td>\n",
       "      <td>0</td>\n",
       "      <td>winter</td>\n",
       "      <td>0</td>\n",
       "      <td>night</td>\n",
       "    </tr>\n",
       "    <tr>\n",
       "      <th>2011-01-01 01:00:00</th>\n",
       "      <td>1</td>\n",
       "      <td>0</td>\n",
       "      <td>0</td>\n",
       "      <td>1</td>\n",
       "      <td>9.02</td>\n",
       "      <td>13.635</td>\n",
       "      <td>80</td>\n",
       "      <td>0.0000</td>\n",
       "      <td>8.0</td>\n",
       "      <td>32.0</td>\n",
       "      <td>40</td>\n",
       "      <td>2011</td>\n",
       "      <td>8</td>\n",
       "      <td>January</td>\n",
       "      <td>1</td>\n",
       "      <td>Saturday</td>\n",
       "      <td>1</td>\n",
       "      <td>winter</td>\n",
       "      <td>1</td>\n",
       "      <td>night</td>\n",
       "    </tr>\n",
       "    <tr>\n",
       "      <th>2011-01-01 02:00:00</th>\n",
       "      <td>1</td>\n",
       "      <td>0</td>\n",
       "      <td>0</td>\n",
       "      <td>1</td>\n",
       "      <td>9.02</td>\n",
       "      <td>13.635</td>\n",
       "      <td>80</td>\n",
       "      <td>0.0000</td>\n",
       "      <td>5.0</td>\n",
       "      <td>27.0</td>\n",
       "      <td>32</td>\n",
       "      <td>2011</td>\n",
       "      <td>8</td>\n",
       "      <td>January</td>\n",
       "      <td>1</td>\n",
       "      <td>Saturday</td>\n",
       "      <td>2</td>\n",
       "      <td>winter</td>\n",
       "      <td>2</td>\n",
       "      <td>night</td>\n",
       "    </tr>\n",
       "    <tr>\n",
       "      <th>2011-01-01 03:00:00</th>\n",
       "      <td>1</td>\n",
       "      <td>0</td>\n",
       "      <td>0</td>\n",
       "      <td>1</td>\n",
       "      <td>9.84</td>\n",
       "      <td>14.395</td>\n",
       "      <td>75</td>\n",
       "      <td>0.0000</td>\n",
       "      <td>3.0</td>\n",
       "      <td>10.0</td>\n",
       "      <td>13</td>\n",
       "      <td>2011</td>\n",
       "      <td>8</td>\n",
       "      <td>January</td>\n",
       "      <td>1</td>\n",
       "      <td>Saturday</td>\n",
       "      <td>3</td>\n",
       "      <td>winter</td>\n",
       "      <td>3</td>\n",
       "      <td>night</td>\n",
       "    </tr>\n",
       "    <tr>\n",
       "      <th>2011-01-01 04:00:00</th>\n",
       "      <td>1</td>\n",
       "      <td>0</td>\n",
       "      <td>0</td>\n",
       "      <td>1</td>\n",
       "      <td>9.84</td>\n",
       "      <td>14.395</td>\n",
       "      <td>75</td>\n",
       "      <td>0.0000</td>\n",
       "      <td>0.0</td>\n",
       "      <td>1.0</td>\n",
       "      <td>1</td>\n",
       "      <td>2011</td>\n",
       "      <td>8</td>\n",
       "      <td>January</td>\n",
       "      <td>1</td>\n",
       "      <td>Saturday</td>\n",
       "      <td>4</td>\n",
       "      <td>winter</td>\n",
       "      <td>4</td>\n",
       "      <td>night</td>\n",
       "    </tr>\n",
       "    <tr>\n",
       "      <th>...</th>\n",
       "      <td>...</td>\n",
       "      <td>...</td>\n",
       "      <td>...</td>\n",
       "      <td>...</td>\n",
       "      <td>...</td>\n",
       "      <td>...</td>\n",
       "      <td>...</td>\n",
       "      <td>...</td>\n",
       "      <td>...</td>\n",
       "      <td>...</td>\n",
       "      <td>...</td>\n",
       "      <td>...</td>\n",
       "      <td>...</td>\n",
       "      <td>...</td>\n",
       "      <td>...</td>\n",
       "      <td>...</td>\n",
       "      <td>...</td>\n",
       "      <td>...</td>\n",
       "      <td>...</td>\n",
       "      <td>...</td>\n",
       "    </tr>\n",
       "    <tr>\n",
       "      <th>2012-12-31 19:00:00</th>\n",
       "      <td>1</td>\n",
       "      <td>0</td>\n",
       "      <td>1</td>\n",
       "      <td>2</td>\n",
       "      <td>10.66</td>\n",
       "      <td>12.880</td>\n",
       "      <td>60</td>\n",
       "      <td>11.0014</td>\n",
       "      <td>NaN</td>\n",
       "      <td>NaN</td>\n",
       "      <td>156</td>\n",
       "      <td>2012</td>\n",
       "      <td>7</td>\n",
       "      <td>December</td>\n",
       "      <td>31</td>\n",
       "      <td>Monday</td>\n",
       "      <td>19</td>\n",
       "      <td>winter</td>\n",
       "      <td>19</td>\n",
       "      <td>evening</td>\n",
       "    </tr>\n",
       "    <tr>\n",
       "      <th>2012-12-31 20:00:00</th>\n",
       "      <td>1</td>\n",
       "      <td>0</td>\n",
       "      <td>1</td>\n",
       "      <td>2</td>\n",
       "      <td>10.66</td>\n",
       "      <td>12.880</td>\n",
       "      <td>60</td>\n",
       "      <td>11.0014</td>\n",
       "      <td>NaN</td>\n",
       "      <td>NaN</td>\n",
       "      <td>104</td>\n",
       "      <td>2012</td>\n",
       "      <td>7</td>\n",
       "      <td>December</td>\n",
       "      <td>31</td>\n",
       "      <td>Monday</td>\n",
       "      <td>20</td>\n",
       "      <td>winter</td>\n",
       "      <td>20</td>\n",
       "      <td>evening</td>\n",
       "    </tr>\n",
       "    <tr>\n",
       "      <th>2012-12-31 21:00:00</th>\n",
       "      <td>1</td>\n",
       "      <td>0</td>\n",
       "      <td>1</td>\n",
       "      <td>1</td>\n",
       "      <td>10.66</td>\n",
       "      <td>12.880</td>\n",
       "      <td>60</td>\n",
       "      <td>11.0014</td>\n",
       "      <td>NaN</td>\n",
       "      <td>NaN</td>\n",
       "      <td>67</td>\n",
       "      <td>2012</td>\n",
       "      <td>7</td>\n",
       "      <td>December</td>\n",
       "      <td>31</td>\n",
       "      <td>Monday</td>\n",
       "      <td>21</td>\n",
       "      <td>winter</td>\n",
       "      <td>21</td>\n",
       "      <td>evening</td>\n",
       "    </tr>\n",
       "    <tr>\n",
       "      <th>2012-12-31 22:00:00</th>\n",
       "      <td>1</td>\n",
       "      <td>0</td>\n",
       "      <td>1</td>\n",
       "      <td>1</td>\n",
       "      <td>10.66</td>\n",
       "      <td>13.635</td>\n",
       "      <td>56</td>\n",
       "      <td>8.9981</td>\n",
       "      <td>NaN</td>\n",
       "      <td>NaN</td>\n",
       "      <td>43</td>\n",
       "      <td>2012</td>\n",
       "      <td>7</td>\n",
       "      <td>December</td>\n",
       "      <td>31</td>\n",
       "      <td>Monday</td>\n",
       "      <td>22</td>\n",
       "      <td>winter</td>\n",
       "      <td>22</td>\n",
       "      <td>evening</td>\n",
       "    </tr>\n",
       "    <tr>\n",
       "      <th>2012-12-31 23:00:00</th>\n",
       "      <td>1</td>\n",
       "      <td>0</td>\n",
       "      <td>1</td>\n",
       "      <td>1</td>\n",
       "      <td>10.66</td>\n",
       "      <td>13.635</td>\n",
       "      <td>65</td>\n",
       "      <td>8.9981</td>\n",
       "      <td>NaN</td>\n",
       "      <td>NaN</td>\n",
       "      <td>28</td>\n",
       "      <td>2012</td>\n",
       "      <td>7</td>\n",
       "      <td>December</td>\n",
       "      <td>31</td>\n",
       "      <td>Monday</td>\n",
       "      <td>23</td>\n",
       "      <td>winter</td>\n",
       "      <td>23</td>\n",
       "      <td>evening</td>\n",
       "    </tr>\n",
       "  </tbody>\n",
       "</table>\n",
       "<p>17379 rows × 20 columns</p>\n",
       "</div>"
      ],
      "text/plain": [
       "                     season  holiday  workingday  weather   temp   atemp  \\\n",
       "datetime                                                                   \n",
       "2011-01-01 00:00:00       1        0           0        1   9.84  14.395   \n",
       "2011-01-01 01:00:00       1        0           0        1   9.02  13.635   \n",
       "2011-01-01 02:00:00       1        0           0        1   9.02  13.635   \n",
       "2011-01-01 03:00:00       1        0           0        1   9.84  14.395   \n",
       "2011-01-01 04:00:00       1        0           0        1   9.84  14.395   \n",
       "...                     ...      ...         ...      ...    ...     ...   \n",
       "2012-12-31 19:00:00       1        0           1        2  10.66  12.880   \n",
       "2012-12-31 20:00:00       1        0           1        2  10.66  12.880   \n",
       "2012-12-31 21:00:00       1        0           1        1  10.66  12.880   \n",
       "2012-12-31 22:00:00       1        0           1        1  10.66  13.635   \n",
       "2012-12-31 23:00:00       1        0           1        1  10.66  13.635   \n",
       "\n",
       "                     humidity  windspeed  casual  registered  count  year  \\\n",
       "datetime                                                                    \n",
       "2011-01-01 00:00:00        81     0.0000     3.0        13.0     16  2011   \n",
       "2011-01-01 01:00:00        80     0.0000     8.0        32.0     40  2011   \n",
       "2011-01-01 02:00:00        80     0.0000     5.0        27.0     32  2011   \n",
       "2011-01-01 03:00:00        75     0.0000     3.0        10.0     13  2011   \n",
       "2011-01-01 04:00:00        75     0.0000     0.0         1.0      1  2011   \n",
       "...                       ...        ...     ...         ...    ...   ...   \n",
       "2012-12-31 19:00:00        60    11.0014     NaN         NaN    156  2012   \n",
       "2012-12-31 20:00:00        60    11.0014     NaN         NaN    104  2012   \n",
       "2012-12-31 21:00:00        60    11.0014     NaN         NaN     67  2012   \n",
       "2012-12-31 22:00:00        56     8.9981     NaN         NaN     43  2012   \n",
       "2012-12-31 23:00:00        65     8.9981     NaN         NaN     28  2012   \n",
       "\n",
       "                     month_number     month  day_of_month  week_day  hour_day  \\\n",
       "datetime                                                                        \n",
       "2011-01-01 00:00:00             8   January             1  Saturday         0   \n",
       "2011-01-01 01:00:00             8   January             1  Saturday         1   \n",
       "2011-01-01 02:00:00             8   January             1  Saturday         2   \n",
       "2011-01-01 03:00:00             8   January             1  Saturday         3   \n",
       "2011-01-01 04:00:00             8   January             1  Saturday         4   \n",
       "...                           ...       ...           ...       ...       ...   \n",
       "2012-12-31 19:00:00             7  December            31    Monday        19   \n",
       "2012-12-31 20:00:00             7  December            31    Monday        20   \n",
       "2012-12-31 21:00:00             7  December            31    Monday        21   \n",
       "2012-12-31 22:00:00             7  December            31    Monday        22   \n",
       "2012-12-31 23:00:00             7  December            31    Monday        23   \n",
       "\n",
       "                    season_name  hour_of_day part_of_day  \n",
       "datetime                                                  \n",
       "2011-01-01 00:00:00      winter            0       night  \n",
       "2011-01-01 01:00:00      winter            1       night  \n",
       "2011-01-01 02:00:00      winter            2       night  \n",
       "2011-01-01 03:00:00      winter            3       night  \n",
       "2011-01-01 04:00:00      winter            4       night  \n",
       "...                         ...          ...         ...  \n",
       "2012-12-31 19:00:00      winter           19     evening  \n",
       "2012-12-31 20:00:00      winter           20     evening  \n",
       "2012-12-31 21:00:00      winter           21     evening  \n",
       "2012-12-31 22:00:00      winter           22     evening  \n",
       "2012-12-31 23:00:00      winter           23     evening  \n",
       "\n",
       "[17379 rows x 20 columns]"
      ]
     },
     "execution_count": 70,
     "metadata": {},
     "output_type": "execute_result"
    }
   ],
   "source": [
    "df_dt1"
   ]
  },
  {
   "cell_type": "code",
   "execution_count": 71,
   "id": "bde33751-495a-4452-ac91-d7a659332fe3",
   "metadata": {
    "tags": []
   },
   "outputs": [],
   "source": [
    "season_labels = ['summer', 'autumn', 'winter','spring']\n",
    "bin_boundaries = [0.9, 3, 6,9, 12.1]"
   ]
  },
  {
   "cell_type": "code",
   "execution_count": 72,
   "id": "91c91792-3e65-463f-a85f-c3ea61f249b9",
   "metadata": {
    "tags": []
   },
   "outputs": [
    {
     "data": {
      "text/plain": [
       "datetime\n",
       "2011-01-22 17:00:00    winter\n",
       "2012-12-30 17:00:00    winter\n",
       "2012-09-13 17:00:00    autumn\n",
       "2011-04-07 03:00:00    spring\n",
       "2011-02-15 10:00:00    winter\n",
       "2012-01-09 18:00:00    winter\n",
       "2011-06-07 04:00:00    summer\n",
       "2011-03-13 00:00:00    spring\n",
       "2011-12-17 12:00:00    winter\n",
       "2012-11-22 13:00:00    autumn\n",
       "2011-11-19 15:00:00    autumn\n",
       "2012-05-23 19:00:00    spring\n",
       "2012-03-29 10:00:00    spring\n",
       "2011-08-28 12:00:00    summer\n",
       "2011-02-24 15:00:00    winter\n",
       "2012-06-30 18:00:00    summer\n",
       "2011-04-30 19:00:00    spring\n",
       "2012-11-17 08:00:00    autumn\n",
       "2011-03-21 22:00:00    spring\n",
       "2011-09-06 09:00:00    autumn\n",
       "2012-02-27 06:00:00    winter\n",
       "2012-02-09 00:00:00    winter\n",
       "2011-07-02 01:00:00    summer\n",
       "Name: month_number, dtype: category\n",
       "Categories (4, object): ['summer' < 'autumn' < 'winter' < 'spring']"
      ]
     },
     "execution_count": 72,
     "metadata": {},
     "output_type": "execute_result"
    }
   ],
   "source": [
    "pd.cut(df_dt1['month_number'], bins=bin_boundaries, labels=season_labels).sample(23)"
   ]
  },
  {
   "cell_type": "code",
   "execution_count": 73,
   "id": "dbcc06c8-05b6-467a-8386-1b622bd566f2",
   "metadata": {},
   "outputs": [],
   "source": [
    "#General Model:\n",
    "\n",
    "model5 = sm.ols(formula='count ~ temp + humidity + windspeed', data=df_dt1).fit()"
   ]
  },
  {
   "cell_type": "code",
   "execution_count": 74,
   "id": "5ef7a393-01d7-40f2-a0c0-fbd21352f751",
   "metadata": {},
   "outputs": [
    {
     "data": {
      "text/plain": [
       "0.2631837757241343"
      ]
     },
     "execution_count": 74,
     "metadata": {},
     "output_type": "execute_result"
    }
   ],
   "source": [
    "model5.rsquared_adj   "
   ]
  },
  {
   "cell_type": "code",
   "execution_count": 75,
   "id": "b4e1eb7d-6f44-4278-a784-69bf1f3be73e",
   "metadata": {
    "tags": []
   },
   "outputs": [
    {
     "data": {
      "text/html": [
       "<table class=\"simpletable\">\n",
       "<caption>OLS Regression Results</caption>\n",
       "<tr>\n",
       "  <th>Dep. Variable:</th>          <td>count</td>      <th>  R-squared:         </th>  <td>   0.263</td>  \n",
       "</tr>\n",
       "<tr>\n",
       "  <th>Model:</th>                   <td>OLS</td>       <th>  Adj. R-squared:    </th>  <td>   0.263</td>  \n",
       "</tr>\n",
       "<tr>\n",
       "  <th>Method:</th>             <td>Least Squares</td>  <th>  F-statistic:       </th>  <td>   2070.</td>  \n",
       "</tr>\n",
       "<tr>\n",
       "  <th>Date:</th>             <td>Fri, 16 Sep 2022</td> <th>  Prob (F-statistic):</th>   <td>  0.00</td>   \n",
       "</tr>\n",
       "<tr>\n",
       "  <th>Time:</th>                 <td>18:42:25</td>     <th>  Log-Likelihood:    </th> <td>-1.1202e+05</td>\n",
       "</tr>\n",
       "<tr>\n",
       "  <th>No. Observations:</th>      <td> 17379</td>      <th>  AIC:               </th>  <td>2.240e+05</td> \n",
       "</tr>\n",
       "<tr>\n",
       "  <th>Df Residuals:</th>          <td> 17375</td>      <th>  BIC:               </th>  <td>2.241e+05</td> \n",
       "</tr>\n",
       "<tr>\n",
       "  <th>Df Model:</th>              <td>     3</td>      <th>                     </th>      <td> </td>     \n",
       "</tr>\n",
       "<tr>\n",
       "  <th>Covariance Type:</th>      <td>nonrobust</td>    <th>                     </th>      <td> </td>     \n",
       "</tr>\n",
       "</table>\n",
       "<table class=\"simpletable\">\n",
       "<tr>\n",
       "      <td></td>         <th>coef</th>     <th>std err</th>      <th>t</th>      <th>P>|t|</th>  <th>[0.025</th>    <th>0.975]</th>  \n",
       "</tr>\n",
       "<tr>\n",
       "  <th>Intercept</th> <td>  171.7485</td> <td>    6.010</td> <td>   28.578</td> <td> 0.000</td> <td>  159.969</td> <td>  183.528</td>\n",
       "</tr>\n",
       "<tr>\n",
       "  <th>temp</th>      <td>    8.8781</td> <td>    0.147</td> <td>   60.393</td> <td> 0.000</td> <td>    8.590</td> <td>    9.166</td>\n",
       "</tr>\n",
       "<tr>\n",
       "  <th>humidity</th>  <td>   -2.7182</td> <td>    0.063</td> <td>  -43.255</td> <td> 0.000</td> <td>   -2.841</td> <td>   -2.595</td>\n",
       "</tr>\n",
       "<tr>\n",
       "  <th>windspeed</th> <td>    0.5066</td> <td>    0.148</td> <td>    3.433</td> <td> 0.001</td> <td>    0.217</td> <td>    0.796</td>\n",
       "</tr>\n",
       "</table>\n",
       "<table class=\"simpletable\">\n",
       "<tr>\n",
       "  <th>Omnibus:</th>       <td>3440.799</td> <th>  Durbin-Watson:     </th> <td>   0.417</td>\n",
       "</tr>\n",
       "<tr>\n",
       "  <th>Prob(Omnibus):</th>  <td> 0.000</td>  <th>  Jarque-Bera (JB):  </th> <td>6763.914</td>\n",
       "</tr>\n",
       "<tr>\n",
       "  <th>Skew:</th>           <td> 1.201</td>  <th>  Prob(JB):          </th> <td>    0.00</td>\n",
       "</tr>\n",
       "<tr>\n",
       "  <th>Kurtosis:</th>       <td> 4.891</td>  <th>  Cond. No.          </th> <td>    361.</td>\n",
       "</tr>\n",
       "</table><br/><br/>Notes:<br/>[1] Standard Errors assume that the covariance matrix of the errors is correctly specified."
      ],
      "text/plain": [
       "<class 'statsmodels.iolib.summary.Summary'>\n",
       "\"\"\"\n",
       "                            OLS Regression Results                            \n",
       "==============================================================================\n",
       "Dep. Variable:                  count   R-squared:                       0.263\n",
       "Model:                            OLS   Adj. R-squared:                  0.263\n",
       "Method:                 Least Squares   F-statistic:                     2070.\n",
       "Date:                Fri, 16 Sep 2022   Prob (F-statistic):               0.00\n",
       "Time:                        18:42:25   Log-Likelihood:            -1.1202e+05\n",
       "No. Observations:               17379   AIC:                         2.240e+05\n",
       "Df Residuals:                   17375   BIC:                         2.241e+05\n",
       "Df Model:                           3                                         \n",
       "Covariance Type:            nonrobust                                         \n",
       "==============================================================================\n",
       "                 coef    std err          t      P>|t|      [0.025      0.975]\n",
       "------------------------------------------------------------------------------\n",
       "Intercept    171.7485      6.010     28.578      0.000     159.969     183.528\n",
       "temp           8.8781      0.147     60.393      0.000       8.590       9.166\n",
       "humidity      -2.7182      0.063    -43.255      0.000      -2.841      -2.595\n",
       "windspeed      0.5066      0.148      3.433      0.001       0.217       0.796\n",
       "==============================================================================\n",
       "Omnibus:                     3440.799   Durbin-Watson:                   0.417\n",
       "Prob(Omnibus):                  0.000   Jarque-Bera (JB):             6763.914\n",
       "Skew:                           1.201   Prob(JB):                         0.00\n",
       "Kurtosis:                       4.891   Cond. No.                         361.\n",
       "==============================================================================\n",
       "\n",
       "Notes:\n",
       "[1] Standard Errors assume that the covariance matrix of the errors is correctly specified.\n",
       "\"\"\""
      ]
     },
     "execution_count": 75,
     "metadata": {},
     "output_type": "execute_result"
    }
   ],
   "source": [
    "model5.summary()"
   ]
  },
  {
   "cell_type": "code",
   "execution_count": 76,
   "id": "eefe8187-0a01-4e08-91bb-ca2ceb0802c6",
   "metadata": {},
   "outputs": [],
   "source": [
    "model16 = sm.ols(formula='count ~ temp + humidity + windspeed + season', data=df_dt1).fit()"
   ]
  },
  {
   "cell_type": "code",
   "execution_count": 77,
   "id": "5ab7deaa-363d-406d-b361-db3479edf852",
   "metadata": {},
   "outputs": [
    {
     "data": {
      "text/plain": [
       "0.2799035552356087"
      ]
     },
     "execution_count": 77,
     "metadata": {},
     "output_type": "execute_result"
    }
   ],
   "source": [
    "model16.rsquared_adj "
   ]
  },
  {
   "cell_type": "code",
   "execution_count": 78,
   "id": "9948d5e5-5733-4d18-9ea9-b57c37cf5dac",
   "metadata": {
    "tags": []
   },
   "outputs": [
    {
     "data": {
      "text/html": [
       "<table class=\"simpletable\">\n",
       "<caption>OLS Regression Results</caption>\n",
       "<tr>\n",
       "  <th>Dep. Variable:</th>          <td>count</td>      <th>  R-squared:         </th>  <td>   0.280</td>  \n",
       "</tr>\n",
       "<tr>\n",
       "  <th>Model:</th>                   <td>OLS</td>       <th>  Adj. R-squared:    </th>  <td>   0.280</td>  \n",
       "</tr>\n",
       "<tr>\n",
       "  <th>Method:</th>             <td>Least Squares</td>  <th>  F-statistic:       </th>  <td>   1690.</td>  \n",
       "</tr>\n",
       "<tr>\n",
       "  <th>Date:</th>             <td>Fri, 16 Sep 2022</td> <th>  Prob (F-statistic):</th>   <td>  0.00</td>   \n",
       "</tr>\n",
       "<tr>\n",
       "  <th>Time:</th>                 <td>18:42:25</td>     <th>  Log-Likelihood:    </th> <td>-1.1182e+05</td>\n",
       "</tr>\n",
       "<tr>\n",
       "  <th>No. Observations:</th>      <td> 17379</td>      <th>  AIC:               </th>  <td>2.237e+05</td> \n",
       "</tr>\n",
       "<tr>\n",
       "  <th>Df Residuals:</th>          <td> 17374</td>      <th>  BIC:               </th>  <td>2.237e+05</td> \n",
       "</tr>\n",
       "<tr>\n",
       "  <th>Df Model:</th>              <td>     4</td>      <th>                     </th>      <td> </td>     \n",
       "</tr>\n",
       "<tr>\n",
       "  <th>Covariance Type:</th>      <td>nonrobust</td>    <th>                     </th>      <td> </td>     \n",
       "</tr>\n",
       "</table>\n",
       "<table class=\"simpletable\">\n",
       "<tr>\n",
       "      <td></td>         <th>coef</th>     <th>std err</th>      <th>t</th>      <th>P>|t|</th>  <th>[0.025</th>    <th>0.975]</th>  \n",
       "</tr>\n",
       "<tr>\n",
       "  <th>Intercept</th> <td>  143.9417</td> <td>    6.100</td> <td>   23.597</td> <td> 0.000</td> <td>  131.985</td> <td>  155.898</td>\n",
       "</tr>\n",
       "<tr>\n",
       "  <th>temp</th>      <td>    7.8760</td> <td>    0.154</td> <td>   51.265</td> <td> 0.000</td> <td>    7.575</td> <td>    8.177</td>\n",
       "</tr>\n",
       "<tr>\n",
       "  <th>humidity</th>  <td>   -2.9026</td> <td>    0.063</td> <td>  -46.221</td> <td> 0.000</td> <td>   -3.026</td> <td>   -2.779</td>\n",
       "</tr>\n",
       "<tr>\n",
       "  <th>windspeed</th> <td>    0.8105</td> <td>    0.147</td> <td>    5.525</td> <td> 0.000</td> <td>    0.523</td> <td>    1.098</td>\n",
       "</tr>\n",
       "<tr>\n",
       "  <th>season</th>    <td>   22.3537</td> <td>    1.112</td> <td>   20.110</td> <td> 0.000</td> <td>   20.175</td> <td>   24.532</td>\n",
       "</tr>\n",
       "</table>\n",
       "<table class=\"simpletable\">\n",
       "<tr>\n",
       "  <th>Omnibus:</th>       <td>3332.503</td> <th>  Durbin-Watson:     </th> <td>   0.428</td>\n",
       "</tr>\n",
       "<tr>\n",
       "  <th>Prob(Omnibus):</th>  <td> 0.000</td>  <th>  Jarque-Bera (JB):  </th> <td>6434.692</td>\n",
       "</tr>\n",
       "<tr>\n",
       "  <th>Skew:</th>           <td> 1.174</td>  <th>  Prob(JB):          </th> <td>    0.00</td>\n",
       "</tr>\n",
       "<tr>\n",
       "  <th>Kurtosis:</th>       <td> 4.836</td>  <th>  Cond. No.          </th> <td>    371.</td>\n",
       "</tr>\n",
       "</table><br/><br/>Notes:<br/>[1] Standard Errors assume that the covariance matrix of the errors is correctly specified."
      ],
      "text/plain": [
       "<class 'statsmodels.iolib.summary.Summary'>\n",
       "\"\"\"\n",
       "                            OLS Regression Results                            \n",
       "==============================================================================\n",
       "Dep. Variable:                  count   R-squared:                       0.280\n",
       "Model:                            OLS   Adj. R-squared:                  0.280\n",
       "Method:                 Least Squares   F-statistic:                     1690.\n",
       "Date:                Fri, 16 Sep 2022   Prob (F-statistic):               0.00\n",
       "Time:                        18:42:25   Log-Likelihood:            -1.1182e+05\n",
       "No. Observations:               17379   AIC:                         2.237e+05\n",
       "Df Residuals:                   17374   BIC:                         2.237e+05\n",
       "Df Model:                           4                                         \n",
       "Covariance Type:            nonrobust                                         \n",
       "==============================================================================\n",
       "                 coef    std err          t      P>|t|      [0.025      0.975]\n",
       "------------------------------------------------------------------------------\n",
       "Intercept    143.9417      6.100     23.597      0.000     131.985     155.898\n",
       "temp           7.8760      0.154     51.265      0.000       7.575       8.177\n",
       "humidity      -2.9026      0.063    -46.221      0.000      -3.026      -2.779\n",
       "windspeed      0.8105      0.147      5.525      0.000       0.523       1.098\n",
       "season        22.3537      1.112     20.110      0.000      20.175      24.532\n",
       "==============================================================================\n",
       "Omnibus:                     3332.503   Durbin-Watson:                   0.428\n",
       "Prob(Omnibus):                  0.000   Jarque-Bera (JB):             6434.692\n",
       "Skew:                           1.174   Prob(JB):                         0.00\n",
       "Kurtosis:                       4.836   Cond. No.                         371.\n",
       "==============================================================================\n",
       "\n",
       "Notes:\n",
       "[1] Standard Errors assume that the covariance matrix of the errors is correctly specified.\n",
       "\"\"\""
      ]
     },
     "execution_count": 78,
     "metadata": {},
     "output_type": "execute_result"
    }
   ],
   "source": [
    "model16.summary()"
   ]
  },
  {
   "cell_type": "markdown",
   "id": "36d47d79-10ae-454d-b8a3-a180651d0f85",
   "metadata": {},
   "source": [
    "#### Conclusion: By adding 'season' the R2 improves from 0.2631837757241343 to 0.2799035552356087"
   ]
  },
  {
   "cell_type": "markdown",
   "id": "c2af4824-67c5-49f2-9c9f-23c23892b554",
   "metadata": {},
   "source": [
    "#### Bin 2: Holiday"
   ]
  },
  {
   "cell_type": "code",
   "execution_count": 79,
   "id": "012a3b48-b3b3-40fb-be61-8b6986ccc84a",
   "metadata": {},
   "outputs": [],
   "source": [
    "model17 = sm.ols(formula='count ~ temp + humidity + windspeed + holiday', data=df_dt1).fit()"
   ]
  },
  {
   "cell_type": "code",
   "execution_count": 80,
   "id": "259e8a41-6f42-40cb-b467-3b3990139b59",
   "metadata": {},
   "outputs": [
    {
     "data": {
      "text/plain": [
       "0.26317777618214466"
      ]
     },
     "execution_count": 80,
     "metadata": {},
     "output_type": "execute_result"
    }
   ],
   "source": [
    "model17.rsquared_adj"
   ]
  },
  {
   "cell_type": "code",
   "execution_count": 81,
   "id": "67797efd-73d5-4df8-a16a-dd80d562ecea",
   "metadata": {
    "tags": []
   },
   "outputs": [
    {
     "data": {
      "text/html": [
       "<table class=\"simpletable\">\n",
       "<caption>OLS Regression Results</caption>\n",
       "<tr>\n",
       "  <th>Dep. Variable:</th>          <td>count</td>      <th>  R-squared:         </th>  <td>   0.263</td>  \n",
       "</tr>\n",
       "<tr>\n",
       "  <th>Model:</th>                   <td>OLS</td>       <th>  Adj. R-squared:    </th>  <td>   0.263</td>  \n",
       "</tr>\n",
       "<tr>\n",
       "  <th>Method:</th>             <td>Least Squares</td>  <th>  F-statistic:       </th>  <td>   1553.</td>  \n",
       "</tr>\n",
       "<tr>\n",
       "  <th>Date:</th>             <td>Fri, 16 Sep 2022</td> <th>  Prob (F-statistic):</th>   <td>  0.00</td>   \n",
       "</tr>\n",
       "<tr>\n",
       "  <th>Time:</th>                 <td>18:42:25</td>     <th>  Log-Likelihood:    </th> <td>-1.1202e+05</td>\n",
       "</tr>\n",
       "<tr>\n",
       "  <th>No. Observations:</th>      <td> 17379</td>      <th>  AIC:               </th>  <td>2.241e+05</td> \n",
       "</tr>\n",
       "<tr>\n",
       "  <th>Df Residuals:</th>          <td> 17374</td>      <th>  BIC:               </th>  <td>2.241e+05</td> \n",
       "</tr>\n",
       "<tr>\n",
       "  <th>Df Model:</th>              <td>     4</td>      <th>                     </th>      <td> </td>     \n",
       "</tr>\n",
       "<tr>\n",
       "  <th>Covariance Type:</th>      <td>nonrobust</td>    <th>                     </th>      <td> </td>     \n",
       "</tr>\n",
       "</table>\n",
       "<table class=\"simpletable\">\n",
       "<tr>\n",
       "      <td></td>         <th>coef</th>     <th>std err</th>      <th>t</th>      <th>P>|t|</th>  <th>[0.025</th>    <th>0.975]</th>  \n",
       "</tr>\n",
       "<tr>\n",
       "  <th>Intercept</th> <td>  172.0558</td> <td>    6.019</td> <td>   28.586</td> <td> 0.000</td> <td>  160.258</td> <td>  183.854</td>\n",
       "</tr>\n",
       "<tr>\n",
       "  <th>temp</th>      <td>    8.8743</td> <td>    0.147</td> <td>   60.343</td> <td> 0.000</td> <td>    8.586</td> <td>    9.163</td>\n",
       "</tr>\n",
       "<tr>\n",
       "  <th>humidity</th>  <td>   -2.7189</td> <td>    0.063</td> <td>  -43.262</td> <td> 0.000</td> <td>   -2.842</td> <td>   -2.596</td>\n",
       "</tr>\n",
       "<tr>\n",
       "  <th>windspeed</th> <td>    0.5066</td> <td>    0.148</td> <td>    3.432</td> <td> 0.001</td> <td>    0.217</td> <td>    0.796</td>\n",
       "</tr>\n",
       "<tr>\n",
       "  <th>holiday</th>   <td>   -6.4134</td> <td>    6.922</td> <td>   -0.927</td> <td> 0.354</td> <td>  -19.981</td> <td>    7.154</td>\n",
       "</tr>\n",
       "</table>\n",
       "<table class=\"simpletable\">\n",
       "<tr>\n",
       "  <th>Omnibus:</th>       <td>3435.591</td> <th>  Durbin-Watson:     </th> <td>   0.417</td>\n",
       "</tr>\n",
       "<tr>\n",
       "  <th>Prob(Omnibus):</th>  <td> 0.000</td>  <th>  Jarque-Bera (JB):  </th> <td>6746.160</td>\n",
       "</tr>\n",
       "<tr>\n",
       "  <th>Skew:</th>           <td> 1.200</td>  <th>  Prob(JB):          </th> <td>    0.00</td>\n",
       "</tr>\n",
       "<tr>\n",
       "  <th>Kurtosis:</th>       <td> 4.887</td>  <th>  Cond. No.          </th> <td>    418.</td>\n",
       "</tr>\n",
       "</table><br/><br/>Notes:<br/>[1] Standard Errors assume that the covariance matrix of the errors is correctly specified."
      ],
      "text/plain": [
       "<class 'statsmodels.iolib.summary.Summary'>\n",
       "\"\"\"\n",
       "                            OLS Regression Results                            \n",
       "==============================================================================\n",
       "Dep. Variable:                  count   R-squared:                       0.263\n",
       "Model:                            OLS   Adj. R-squared:                  0.263\n",
       "Method:                 Least Squares   F-statistic:                     1553.\n",
       "Date:                Fri, 16 Sep 2022   Prob (F-statistic):               0.00\n",
       "Time:                        18:42:25   Log-Likelihood:            -1.1202e+05\n",
       "No. Observations:               17379   AIC:                         2.241e+05\n",
       "Df Residuals:                   17374   BIC:                         2.241e+05\n",
       "Df Model:                           4                                         \n",
       "Covariance Type:            nonrobust                                         \n",
       "==============================================================================\n",
       "                 coef    std err          t      P>|t|      [0.025      0.975]\n",
       "------------------------------------------------------------------------------\n",
       "Intercept    172.0558      6.019     28.586      0.000     160.258     183.854\n",
       "temp           8.8743      0.147     60.343      0.000       8.586       9.163\n",
       "humidity      -2.7189      0.063    -43.262      0.000      -2.842      -2.596\n",
       "windspeed      0.5066      0.148      3.432      0.001       0.217       0.796\n",
       "holiday       -6.4134      6.922     -0.927      0.354     -19.981       7.154\n",
       "==============================================================================\n",
       "Omnibus:                     3435.591   Durbin-Watson:                   0.417\n",
       "Prob(Omnibus):                  0.000   Jarque-Bera (JB):             6746.160\n",
       "Skew:                           1.200   Prob(JB):                         0.00\n",
       "Kurtosis:                       4.887   Cond. No.                         418.\n",
       "==============================================================================\n",
       "\n",
       "Notes:\n",
       "[1] Standard Errors assume that the covariance matrix of the errors is correctly specified.\n",
       "\"\"\""
      ]
     },
     "execution_count": 81,
     "metadata": {},
     "output_type": "execute_result"
    }
   ],
   "source": [
    "model17.summary()"
   ]
  },
  {
   "cell_type": "markdown",
   "id": "5d20cdf7-4431-45ef-9b2d-f88f423d6101",
   "metadata": {},
   "source": [
    "#### Conclusion: By adding 'holiday' the R2 does not improve, it actually decreases from 0.2631837757241343 to 0.26317777618214466."
   ]
  },
  {
   "cell_type": "markdown",
   "id": "1224a278-588b-4b9d-9568-af24783227be",
   "metadata": {},
   "source": [
    "#### Bin 3: workingday"
   ]
  },
  {
   "cell_type": "code",
   "execution_count": 82,
   "id": "62d1b425-6c60-4df2-ae32-e0252f912a15",
   "metadata": {},
   "outputs": [],
   "source": [
    "model18 = sm.ols(formula='count ~ temp + humidity + windspeed + workingday', data=df_dt1).fit()"
   ]
  },
  {
   "cell_type": "code",
   "execution_count": 83,
   "id": "cd3a1550-e333-4fa8-a8f2-c7758c14f14b",
   "metadata": {},
   "outputs": [
    {
     "data": {
      "text/plain": [
       "0.26328901250031733"
      ]
     },
     "execution_count": 83,
     "metadata": {},
     "output_type": "execute_result"
    }
   ],
   "source": [
    "model18.rsquared_adj"
   ]
  },
  {
   "cell_type": "code",
   "execution_count": 84,
   "id": "431e542f-b298-488d-a63b-a8dfe1e90bb9",
   "metadata": {
    "tags": []
   },
   "outputs": [
    {
     "data": {
      "text/html": [
       "<table class=\"simpletable\">\n",
       "<caption>OLS Regression Results</caption>\n",
       "<tr>\n",
       "  <th>Dep. Variable:</th>          <td>count</td>      <th>  R-squared:         </th>  <td>   0.263</td>  \n",
       "</tr>\n",
       "<tr>\n",
       "  <th>Model:</th>                   <td>OLS</td>       <th>  Adj. R-squared:    </th>  <td>   0.263</td>  \n",
       "</tr>\n",
       "<tr>\n",
       "  <th>Method:</th>             <td>Least Squares</td>  <th>  F-statistic:       </th>  <td>   1554.</td>  \n",
       "</tr>\n",
       "<tr>\n",
       "  <th>Date:</th>             <td>Fri, 16 Sep 2022</td> <th>  Prob (F-statistic):</th>   <td>  0.00</td>   \n",
       "</tr>\n",
       "<tr>\n",
       "  <th>Time:</th>                 <td>18:42:25</td>     <th>  Log-Likelihood:    </th> <td>-1.1202e+05</td>\n",
       "</tr>\n",
       "<tr>\n",
       "  <th>No. Observations:</th>      <td> 17379</td>      <th>  AIC:               </th>  <td>2.240e+05</td> \n",
       "</tr>\n",
       "<tr>\n",
       "  <th>Df Residuals:</th>          <td> 17374</td>      <th>  BIC:               </th>  <td>2.241e+05</td> \n",
       "</tr>\n",
       "<tr>\n",
       "  <th>Df Model:</th>              <td>     4</td>      <th>                     </th>      <td> </td>     \n",
       "</tr>\n",
       "<tr>\n",
       "  <th>Covariance Type:</th>      <td>nonrobust</td>    <th>                     </th>      <td> </td>     \n",
       "</tr>\n",
       "</table>\n",
       "<table class=\"simpletable\">\n",
       "<tr>\n",
       "       <td></td>         <th>coef</th>     <th>std err</th>      <th>t</th>      <th>P>|t|</th>  <th>[0.025</th>    <th>0.975]</th>  \n",
       "</tr>\n",
       "<tr>\n",
       "  <th>Intercept</th>  <td>  174.4944</td> <td>    6.187</td> <td>   28.204</td> <td> 0.000</td> <td>  162.368</td> <td>  186.621</td>\n",
       "</tr>\n",
       "<tr>\n",
       "  <th>temp</th>       <td>    8.8936</td> <td>    0.147</td> <td>   60.407</td> <td> 0.000</td> <td>    8.605</td> <td>    9.182</td>\n",
       "</tr>\n",
       "<tr>\n",
       "  <th>humidity</th>   <td>   -2.7162</td> <td>    0.063</td> <td>  -43.219</td> <td> 0.000</td> <td>   -2.839</td> <td>   -2.593</td>\n",
       "</tr>\n",
       "<tr>\n",
       "  <th>windspeed</th>  <td>    0.5052</td> <td>    0.148</td> <td>    3.423</td> <td> 0.001</td> <td>    0.216</td> <td>    0.794</td>\n",
       "</tr>\n",
       "<tr>\n",
       "  <th>workingday</th> <td>   -4.6446</td> <td>    2.489</td> <td>   -1.866</td> <td> 0.062</td> <td>   -9.523</td> <td>    0.234</td>\n",
       "</tr>\n",
       "</table>\n",
       "<table class=\"simpletable\">\n",
       "<tr>\n",
       "  <th>Omnibus:</th>       <td>3475.949</td> <th>  Durbin-Watson:     </th> <td>   0.417</td>\n",
       "</tr>\n",
       "<tr>\n",
       "  <th>Prob(Omnibus):</th>  <td> 0.000</td>  <th>  Jarque-Bera (JB):  </th> <td>6889.521</td>\n",
       "</tr>\n",
       "<tr>\n",
       "  <th>Skew:</th>           <td> 1.208</td>  <th>  Prob(JB):          </th> <td>    0.00</td>\n",
       "</tr>\n",
       "<tr>\n",
       "  <th>Kurtosis:</th>       <td> 4.918</td>  <th>  Cond. No.          </th> <td>    374.</td>\n",
       "</tr>\n",
       "</table><br/><br/>Notes:<br/>[1] Standard Errors assume that the covariance matrix of the errors is correctly specified."
      ],
      "text/plain": [
       "<class 'statsmodels.iolib.summary.Summary'>\n",
       "\"\"\"\n",
       "                            OLS Regression Results                            \n",
       "==============================================================================\n",
       "Dep. Variable:                  count   R-squared:                       0.263\n",
       "Model:                            OLS   Adj. R-squared:                  0.263\n",
       "Method:                 Least Squares   F-statistic:                     1554.\n",
       "Date:                Fri, 16 Sep 2022   Prob (F-statistic):               0.00\n",
       "Time:                        18:42:25   Log-Likelihood:            -1.1202e+05\n",
       "No. Observations:               17379   AIC:                         2.240e+05\n",
       "Df Residuals:                   17374   BIC:                         2.241e+05\n",
       "Df Model:                           4                                         \n",
       "Covariance Type:            nonrobust                                         \n",
       "==============================================================================\n",
       "                 coef    std err          t      P>|t|      [0.025      0.975]\n",
       "------------------------------------------------------------------------------\n",
       "Intercept    174.4944      6.187     28.204      0.000     162.368     186.621\n",
       "temp           8.8936      0.147     60.407      0.000       8.605       9.182\n",
       "humidity      -2.7162      0.063    -43.219      0.000      -2.839      -2.593\n",
       "windspeed      0.5052      0.148      3.423      0.001       0.216       0.794\n",
       "workingday    -4.6446      2.489     -1.866      0.062      -9.523       0.234\n",
       "==============================================================================\n",
       "Omnibus:                     3475.949   Durbin-Watson:                   0.417\n",
       "Prob(Omnibus):                  0.000   Jarque-Bera (JB):             6889.521\n",
       "Skew:                           1.208   Prob(JB):                         0.00\n",
       "Kurtosis:                       4.918   Cond. No.                         374.\n",
       "==============================================================================\n",
       "\n",
       "Notes:\n",
       "[1] Standard Errors assume that the covariance matrix of the errors is correctly specified.\n",
       "\"\"\""
      ]
     },
     "execution_count": 84,
     "metadata": {},
     "output_type": "execute_result"
    }
   ],
   "source": [
    "model18.summary()"
   ]
  },
  {
   "cell_type": "markdown",
   "id": "a4381083-9d14-4530-878a-8b8340af6082",
   "metadata": {},
   "source": [
    "#### Conclusion: By adding 'workingday' the R2 improves from 0.2631837757241343 to 0.26328901250031733."
   ]
  },
  {
   "cell_type": "markdown",
   "id": "8f126e8b-5b2a-41c6-b2bf-0aae860e95f6",
   "metadata": {},
   "source": [
    "#### Bin 4: weather"
   ]
  },
  {
   "cell_type": "code",
   "execution_count": 85,
   "id": "8c0e8156-d932-405a-abd4-ed466179cc5e",
   "metadata": {},
   "outputs": [],
   "source": [
    "model19 = sm.ols(formula='count ~ temp + humidity + windspeed + weather', data=df_dt1).fit()"
   ]
  },
  {
   "cell_type": "code",
   "execution_count": 86,
   "id": "b5e27458-de5b-474a-b1e0-28762b92ba3d",
   "metadata": {},
   "outputs": [
    {
     "data": {
      "text/plain": [
       "0.26357418592794923"
      ]
     },
     "execution_count": 86,
     "metadata": {},
     "output_type": "execute_result"
    }
   ],
   "source": [
    "model19.rsquared_adj"
   ]
  },
  {
   "cell_type": "code",
   "execution_count": 87,
   "id": "55f149a8-e91b-4b6a-b868-988a1da3f55f",
   "metadata": {
    "tags": []
   },
   "outputs": [
    {
     "data": {
      "text/html": [
       "<table class=\"simpletable\">\n",
       "<caption>OLS Regression Results</caption>\n",
       "<tr>\n",
       "  <th>Dep. Variable:</th>          <td>count</td>      <th>  R-squared:         </th>  <td>   0.263</td>  \n",
       "</tr>\n",
       "<tr>\n",
       "  <th>Model:</th>                   <td>OLS</td>       <th>  Adj. R-squared:    </th>  <td>   0.263</td>  \n",
       "</tr>\n",
       "<tr>\n",
       "  <th>Method:</th>             <td>Least Squares</td>  <th>  F-statistic:       </th>  <td>   1554.</td>  \n",
       "</tr>\n",
       "<tr>\n",
       "  <th>Date:</th>             <td>Fri, 16 Sep 2022</td> <th>  Prob (F-statistic):</th>   <td>  0.00</td>   \n",
       "</tr>\n",
       "<tr>\n",
       "  <th>Time:</th>                 <td>18:42:25</td>     <th>  Log-Likelihood:    </th> <td>-1.1202e+05</td>\n",
       "</tr>\n",
       "<tr>\n",
       "  <th>No. Observations:</th>      <td> 17379</td>      <th>  AIC:               </th>  <td>2.240e+05</td> \n",
       "</tr>\n",
       "<tr>\n",
       "  <th>Df Residuals:</th>          <td> 17374</td>      <th>  BIC:               </th>  <td>2.241e+05</td> \n",
       "</tr>\n",
       "<tr>\n",
       "  <th>Df Model:</th>              <td>     4</td>      <th>                     </th>      <td> </td>     \n",
       "</tr>\n",
       "<tr>\n",
       "  <th>Covariance Type:</th>      <td>nonrobust</td>    <th>                     </th>      <td> </td>     \n",
       "</tr>\n",
       "</table>\n",
       "<table class=\"simpletable\">\n",
       "<tr>\n",
       "       <td></td>         <th>coef</th>     <th>std err</th>      <th>t</th>      <th>P>|t|</th>  <th>[0.025</th>    <th>0.975]</th>  \n",
       "</tr>\n",
       "<tr>\n",
       "  <th>Intercept</th>  <td>  174.4944</td> <td>    6.187</td> <td>   28.204</td> <td> 0.000</td> <td>  162.368</td> <td>  186.621</td>\n",
       "</tr>\n",
       "<tr>\n",
       "  <th>temp</th>       <td>    8.8936</td> <td>    0.147</td> <td>   60.407</td> <td> 0.000</td> <td>    8.605</td> <td>    9.182</td>\n",
       "</tr>\n",
       "<tr>\n",
       "  <th>humidity</th>   <td>   -2.7162</td> <td>    0.063</td> <td>  -43.219</td> <td> 0.000</td> <td>   -2.839</td> <td>   -2.593</td>\n",
       "</tr>\n",
       "<tr>\n",
       "  <th>windspeed</th>  <td>    0.5052</td> <td>    0.148</td> <td>    3.423</td> <td> 0.001</td> <td>    0.216</td> <td>    0.794</td>\n",
       "</tr>\n",
       "<tr>\n",
       "  <th>workingday</th> <td>   -4.6446</td> <td>    2.489</td> <td>   -1.866</td> <td> 0.062</td> <td>   -9.523</td> <td>    0.234</td>\n",
       "</tr>\n",
       "</table>\n",
       "<table class=\"simpletable\">\n",
       "<tr>\n",
       "  <th>Omnibus:</th>       <td>3475.949</td> <th>  Durbin-Watson:     </th> <td>   0.417</td>\n",
       "</tr>\n",
       "<tr>\n",
       "  <th>Prob(Omnibus):</th>  <td> 0.000</td>  <th>  Jarque-Bera (JB):  </th> <td>6889.521</td>\n",
       "</tr>\n",
       "<tr>\n",
       "  <th>Skew:</th>           <td> 1.208</td>  <th>  Prob(JB):          </th> <td>    0.00</td>\n",
       "</tr>\n",
       "<tr>\n",
       "  <th>Kurtosis:</th>       <td> 4.918</td>  <th>  Cond. No.          </th> <td>    374.</td>\n",
       "</tr>\n",
       "</table><br/><br/>Notes:<br/>[1] Standard Errors assume that the covariance matrix of the errors is correctly specified."
      ],
      "text/plain": [
       "<class 'statsmodels.iolib.summary.Summary'>\n",
       "\"\"\"\n",
       "                            OLS Regression Results                            \n",
       "==============================================================================\n",
       "Dep. Variable:                  count   R-squared:                       0.263\n",
       "Model:                            OLS   Adj. R-squared:                  0.263\n",
       "Method:                 Least Squares   F-statistic:                     1554.\n",
       "Date:                Fri, 16 Sep 2022   Prob (F-statistic):               0.00\n",
       "Time:                        18:42:25   Log-Likelihood:            -1.1202e+05\n",
       "No. Observations:               17379   AIC:                         2.240e+05\n",
       "Df Residuals:                   17374   BIC:                         2.241e+05\n",
       "Df Model:                           4                                         \n",
       "Covariance Type:            nonrobust                                         \n",
       "==============================================================================\n",
       "                 coef    std err          t      P>|t|      [0.025      0.975]\n",
       "------------------------------------------------------------------------------\n",
       "Intercept    174.4944      6.187     28.204      0.000     162.368     186.621\n",
       "temp           8.8936      0.147     60.407      0.000       8.605       9.182\n",
       "humidity      -2.7162      0.063    -43.219      0.000      -2.839      -2.593\n",
       "windspeed      0.5052      0.148      3.423      0.001       0.216       0.794\n",
       "workingday    -4.6446      2.489     -1.866      0.062      -9.523       0.234\n",
       "==============================================================================\n",
       "Omnibus:                     3475.949   Durbin-Watson:                   0.417\n",
       "Prob(Omnibus):                  0.000   Jarque-Bera (JB):             6889.521\n",
       "Skew:                           1.208   Prob(JB):                         0.00\n",
       "Kurtosis:                       4.918   Cond. No.                         374.\n",
       "==============================================================================\n",
       "\n",
       "Notes:\n",
       "[1] Standard Errors assume that the covariance matrix of the errors is correctly specified.\n",
       "\"\"\""
      ]
     },
     "execution_count": 87,
     "metadata": {},
     "output_type": "execute_result"
    }
   ],
   "source": [
    "model18.summary()"
   ]
  },
  {
   "cell_type": "markdown",
   "id": "d74a29ed-1775-4ec1-87e3-245df0ac7b8a",
   "metadata": {},
   "source": [
    "#### Conclusion: By adding 'weather' the R2 improves from 0.2631837757241343 to 0.26357418592794923."
   ]
  },
  {
   "cell_type": "markdown",
   "id": "a0d12ec7-d984-46f1-85f2-2f8ef22e240e",
   "metadata": {},
   "source": [
    "#### Bin 5: month"
   ]
  },
  {
   "cell_type": "code",
   "execution_count": 88,
   "id": "85f58f8a-dcf1-4f7e-b510-b37f753936fd",
   "metadata": {},
   "outputs": [],
   "source": [
    "model20 = sm.ols(formula='count ~ temp + humidity + windspeed + month', data=df_dt1).fit()"
   ]
  },
  {
   "cell_type": "code",
   "execution_count": 89,
   "id": "b5dc93e2-9e62-4c47-a053-61490a83f1cd",
   "metadata": {},
   "outputs": [
    {
     "data": {
      "text/plain": [
       "0.3145467845913199"
      ]
     },
     "execution_count": 89,
     "metadata": {},
     "output_type": "execute_result"
    }
   ],
   "source": [
    "model20.rsquared_adj"
   ]
  },
  {
   "cell_type": "code",
   "execution_count": 90,
   "id": "e6bfaf9f-f84d-471b-a3bb-1cc5d70478e9",
   "metadata": {
    "tags": []
   },
   "outputs": [
    {
     "data": {
      "text/html": [
       "<table class=\"simpletable\">\n",
       "<caption>OLS Regression Results</caption>\n",
       "<tr>\n",
       "  <th>Dep. Variable:</th>          <td>count</td>      <th>  R-squared:         </th>  <td>   0.315</td>  \n",
       "</tr>\n",
       "<tr>\n",
       "  <th>Model:</th>                   <td>OLS</td>       <th>  Adj. R-squared:    </th>  <td>   0.315</td>  \n",
       "</tr>\n",
       "<tr>\n",
       "  <th>Method:</th>             <td>Least Squares</td>  <th>  F-statistic:       </th>  <td>   570.6</td>  \n",
       "</tr>\n",
       "<tr>\n",
       "  <th>Date:</th>             <td>Fri, 16 Sep 2022</td> <th>  Prob (F-statistic):</th>   <td>  0.00</td>   \n",
       "</tr>\n",
       "<tr>\n",
       "  <th>Time:</th>                 <td>18:42:25</td>     <th>  Log-Likelihood:    </th> <td>-1.1139e+05</td>\n",
       "</tr>\n",
       "<tr>\n",
       "  <th>No. Observations:</th>      <td> 17379</td>      <th>  AIC:               </th>  <td>2.228e+05</td> \n",
       "</tr>\n",
       "<tr>\n",
       "  <th>Df Residuals:</th>          <td> 17364</td>      <th>  BIC:               </th>  <td>2.229e+05</td> \n",
       "</tr>\n",
       "<tr>\n",
       "  <th>Df Model:</th>              <td>    14</td>      <th>                     </th>      <td> </td>     \n",
       "</tr>\n",
       "<tr>\n",
       "  <th>Covariance Type:</th>      <td>nonrobust</td>    <th>                     </th>      <td> </td>     \n",
       "</tr>\n",
       "</table>\n",
       "<table class=\"simpletable\">\n",
       "<tr>\n",
       "           <td></td>             <th>coef</th>     <th>std err</th>      <th>t</th>      <th>P>|t|</th>  <th>[0.025</th>    <th>0.975]</th>  \n",
       "</tr>\n",
       "<tr>\n",
       "  <th>Intercept</th>          <td>   76.8314</td> <td>    8.828</td> <td>    8.704</td> <td> 0.000</td> <td>   59.529</td> <td>   94.134</td>\n",
       "</tr>\n",
       "<tr>\n",
       "  <th>month[T.August]</th>    <td>  -86.9885</td> <td>    6.243</td> <td>  -13.933</td> <td> 0.000</td> <td>  -99.226</td> <td>  -74.751</td>\n",
       "</tr>\n",
       "<tr>\n",
       "  <th>month[T.December]</th>  <td>   63.1810</td> <td>    5.710</td> <td>   11.066</td> <td> 0.000</td> <td>   51.990</td> <td>   74.372</td>\n",
       "</tr>\n",
       "<tr>\n",
       "  <th>month[T.February]</th>  <td>   18.4483</td> <td>    5.956</td> <td>    3.097</td> <td> 0.002</td> <td>    6.774</td> <td>   30.123</td>\n",
       "</tr>\n",
       "<tr>\n",
       "  <th>month[T.January]</th>   <td>   32.1674</td> <td>    6.166</td> <td>    5.217</td> <td> 0.000</td> <td>   20.081</td> <td>   44.253</td>\n",
       "</tr>\n",
       "<tr>\n",
       "  <th>month[T.July]</th>      <td> -115.5691</td> <td>    6.497</td> <td>  -17.787</td> <td> 0.000</td> <td> -128.305</td> <td> -102.834</td>\n",
       "</tr>\n",
       "<tr>\n",
       "  <th>month[T.June]</th>      <td>  -60.8733</td> <td>    6.086</td> <td>  -10.003</td> <td> 0.000</td> <td>  -72.801</td> <td>  -48.945</td>\n",
       "</tr>\n",
       "<tr>\n",
       "  <th>month[T.March]</th>     <td>   -0.1440</td> <td>    5.534</td> <td>   -0.026</td> <td> 0.979</td> <td>  -10.992</td> <td>   10.704</td>\n",
       "</tr>\n",
       "<tr>\n",
       "  <th>month[T.May]</th>       <td>   -2.1191</td> <td>    5.733</td> <td>   -0.370</td> <td> 0.712</td> <td>  -13.357</td> <td>    9.118</td>\n",
       "</tr>\n",
       "<tr>\n",
       "  <th>month[T.November]</th>  <td>   75.8420</td> <td>    5.621</td> <td>   13.494</td> <td> 0.000</td> <td>   64.825</td> <td>   86.859</td>\n",
       "</tr>\n",
       "<tr>\n",
       "  <th>month[T.October]</th>   <td>   58.3033</td> <td>    5.537</td> <td>   10.530</td> <td> 0.000</td> <td>   47.450</td> <td>   69.156</td>\n",
       "</tr>\n",
       "<tr>\n",
       "  <th>month[T.September]</th> <td>   -2.4221</td> <td>    5.901</td> <td>   -0.410</td> <td> 0.681</td> <td>  -13.988</td> <td>    9.144</td>\n",
       "</tr>\n",
       "<tr>\n",
       "  <th>temp</th>               <td>   14.0245</td> <td>    0.293</td> <td>   47.802</td> <td> 0.000</td> <td>   13.449</td> <td>   14.600</td>\n",
       "</tr>\n",
       "<tr>\n",
       "  <th>humidity</th>           <td>   -2.7973</td> <td>    0.064</td> <td>  -43.894</td> <td> 0.000</td> <td>   -2.922</td> <td>   -2.672</td>\n",
       "</tr>\n",
       "<tr>\n",
       "  <th>windspeed</th>          <td>    0.2814</td> <td>    0.144</td> <td>    1.950</td> <td> 0.051</td> <td>   -0.002</td> <td>    0.564</td>\n",
       "</tr>\n",
       "</table>\n",
       "<table class=\"simpletable\">\n",
       "<tr>\n",
       "  <th>Omnibus:</th>       <td>3421.830</td> <th>  Durbin-Watson:     </th> <td>   0.453</td>\n",
       "</tr>\n",
       "<tr>\n",
       "  <th>Prob(Omnibus):</th>  <td> 0.000</td>  <th>  Jarque-Bera (JB):  </th> <td>6776.915</td>\n",
       "</tr>\n",
       "<tr>\n",
       "  <th>Skew:</th>           <td> 1.190</td>  <th>  Prob(JB):          </th> <td>    0.00</td>\n",
       "</tr>\n",
       "<tr>\n",
       "  <th>Kurtosis:</th>       <td> 4.922</td>  <th>  Cond. No.          </th> <td>    880.</td>\n",
       "</tr>\n",
       "</table><br/><br/>Notes:<br/>[1] Standard Errors assume that the covariance matrix of the errors is correctly specified."
      ],
      "text/plain": [
       "<class 'statsmodels.iolib.summary.Summary'>\n",
       "\"\"\"\n",
       "                            OLS Regression Results                            \n",
       "==============================================================================\n",
       "Dep. Variable:                  count   R-squared:                       0.315\n",
       "Model:                            OLS   Adj. R-squared:                  0.315\n",
       "Method:                 Least Squares   F-statistic:                     570.6\n",
       "Date:                Fri, 16 Sep 2022   Prob (F-statistic):               0.00\n",
       "Time:                        18:42:25   Log-Likelihood:            -1.1139e+05\n",
       "No. Observations:               17379   AIC:                         2.228e+05\n",
       "Df Residuals:                   17364   BIC:                         2.229e+05\n",
       "Df Model:                          14                                         \n",
       "Covariance Type:            nonrobust                                         \n",
       "======================================================================================\n",
       "                         coef    std err          t      P>|t|      [0.025      0.975]\n",
       "--------------------------------------------------------------------------------------\n",
       "Intercept             76.8314      8.828      8.704      0.000      59.529      94.134\n",
       "month[T.August]      -86.9885      6.243    -13.933      0.000     -99.226     -74.751\n",
       "month[T.December]     63.1810      5.710     11.066      0.000      51.990      74.372\n",
       "month[T.February]     18.4483      5.956      3.097      0.002       6.774      30.123\n",
       "month[T.January]      32.1674      6.166      5.217      0.000      20.081      44.253\n",
       "month[T.July]       -115.5691      6.497    -17.787      0.000    -128.305    -102.834\n",
       "month[T.June]        -60.8733      6.086    -10.003      0.000     -72.801     -48.945\n",
       "month[T.March]        -0.1440      5.534     -0.026      0.979     -10.992      10.704\n",
       "month[T.May]          -2.1191      5.733     -0.370      0.712     -13.357       9.118\n",
       "month[T.November]     75.8420      5.621     13.494      0.000      64.825      86.859\n",
       "month[T.October]      58.3033      5.537     10.530      0.000      47.450      69.156\n",
       "month[T.September]    -2.4221      5.901     -0.410      0.681     -13.988       9.144\n",
       "temp                  14.0245      0.293     47.802      0.000      13.449      14.600\n",
       "humidity              -2.7973      0.064    -43.894      0.000      -2.922      -2.672\n",
       "windspeed              0.2814      0.144      1.950      0.051      -0.002       0.564\n",
       "==============================================================================\n",
       "Omnibus:                     3421.830   Durbin-Watson:                   0.453\n",
       "Prob(Omnibus):                  0.000   Jarque-Bera (JB):             6776.915\n",
       "Skew:                           1.190   Prob(JB):                         0.00\n",
       "Kurtosis:                       4.922   Cond. No.                         880.\n",
       "==============================================================================\n",
       "\n",
       "Notes:\n",
       "[1] Standard Errors assume that the covariance matrix of the errors is correctly specified.\n",
       "\"\"\""
      ]
     },
     "execution_count": 90,
     "metadata": {},
     "output_type": "execute_result"
    }
   ],
   "source": [
    "model20.summary()"
   ]
  },
  {
   "cell_type": "markdown",
   "id": "16c65532-1be3-4076-8b45-ed1a35393544",
   "metadata": {},
   "source": [
    "#### Conclusion: By adding 'month' the R2 significantly improves from 0.2631837757241343 to 0.3145467845913199."
   ]
  },
  {
   "cell_type": "markdown",
   "id": "a52db5e2-b20a-4fe1-83af-7de2e84dcf90",
   "metadata": {},
   "source": [
    "#### Bin 6: week_day"
   ]
  },
  {
   "cell_type": "code",
   "execution_count": 91,
   "id": "362405fc-c7f7-4e34-b8b1-aa4d86c31ad2",
   "metadata": {},
   "outputs": [],
   "source": [
    "model21 = sm.ols(formula='count ~ temp + humidity + windspeed + week_day', data=df_dt1).fit()"
   ]
  },
  {
   "cell_type": "code",
   "execution_count": 92,
   "id": "ebae91f6-028f-49fc-86d9-de7ea24789f0",
   "metadata": {},
   "outputs": [
    {
     "data": {
      "text/plain": [
       "0.2644488661422687"
      ]
     },
     "execution_count": 92,
     "metadata": {},
     "output_type": "execute_result"
    }
   ],
   "source": [
    "model21.rsquared_adj"
   ]
  },
  {
   "cell_type": "code",
   "execution_count": 93,
   "id": "ab12f0da-5203-44fc-a5d3-e14cad382439",
   "metadata": {
    "tags": []
   },
   "outputs": [
    {
     "data": {
      "text/html": [
       "<table class=\"simpletable\">\n",
       "<caption>OLS Regression Results</caption>\n",
       "<tr>\n",
       "  <th>Dep. Variable:</th>          <td>count</td>      <th>  R-squared:         </th>  <td>   0.265</td>  \n",
       "</tr>\n",
       "<tr>\n",
       "  <th>Model:</th>                   <td>OLS</td>       <th>  Adj. R-squared:    </th>  <td>   0.264</td>  \n",
       "</tr>\n",
       "<tr>\n",
       "  <th>Method:</th>             <td>Least Squares</td>  <th>  F-statistic:       </th>  <td>   695.2</td>  \n",
       "</tr>\n",
       "<tr>\n",
       "  <th>Date:</th>             <td>Fri, 16 Sep 2022</td> <th>  Prob (F-statistic):</th>   <td>  0.00</td>   \n",
       "</tr>\n",
       "<tr>\n",
       "  <th>Time:</th>                 <td>18:42:26</td>     <th>  Log-Likelihood:    </th> <td>-1.1200e+05</td>\n",
       "</tr>\n",
       "<tr>\n",
       "  <th>No. Observations:</th>      <td> 17379</td>      <th>  AIC:               </th>  <td>2.240e+05</td> \n",
       "</tr>\n",
       "<tr>\n",
       "  <th>Df Residuals:</th>          <td> 17369</td>      <th>  BIC:               </th>  <td>2.241e+05</td> \n",
       "</tr>\n",
       "<tr>\n",
       "  <th>Df Model:</th>              <td>     9</td>      <th>                     </th>      <td> </td>     \n",
       "</tr>\n",
       "<tr>\n",
       "  <th>Covariance Type:</th>      <td>nonrobust</td>    <th>                     </th>      <td> </td>     \n",
       "</tr>\n",
       "</table>\n",
       "<table class=\"simpletable\">\n",
       "<tr>\n",
       "            <td></td>               <th>coef</th>     <th>std err</th>      <th>t</th>      <th>P>|t|</th>  <th>[0.025</th>    <th>0.975]</th>  \n",
       "</tr>\n",
       "<tr>\n",
       "  <th>Intercept</th>             <td>  178.4819</td> <td>    6.570</td> <td>   27.167</td> <td> 0.000</td> <td>  165.604</td> <td>  191.359</td>\n",
       "</tr>\n",
       "<tr>\n",
       "  <th>week_day[T.Monday]</th>    <td>  -18.8416</td> <td>    4.326</td> <td>   -4.356</td> <td> 0.000</td> <td>  -27.321</td> <td>  -10.363</td>\n",
       "</tr>\n",
       "<tr>\n",
       "  <th>week_day[T.Saturday]</th>  <td>    0.5467</td> <td>    4.311</td> <td>    0.127</td> <td> 0.899</td> <td>   -7.904</td> <td>    8.997</td>\n",
       "</tr>\n",
       "<tr>\n",
       "  <th>week_day[T.Sunday]</th>    <td>   -9.0420</td> <td>    4.315</td> <td>   -2.096</td> <td> 0.036</td> <td>  -17.500</td> <td>   -0.584</td>\n",
       "</tr>\n",
       "<tr>\n",
       "  <th>week_day[T.Thursday]</th>  <td>   -6.4427</td> <td>    4.328</td> <td>   -1.489</td> <td> 0.137</td> <td>  -14.925</td> <td>    2.040</td>\n",
       "</tr>\n",
       "<tr>\n",
       "  <th>week_day[T.Tuesday]</th>   <td>  -16.8968</td> <td>    4.340</td> <td>   -3.894</td> <td> 0.000</td> <td>  -25.403</td> <td>   -8.391</td>\n",
       "</tr>\n",
       "<tr>\n",
       "  <th>week_day[T.Wednesday]</th> <td>   -8.0019</td> <td>    4.330</td> <td>   -1.848</td> <td> 0.065</td> <td>  -16.490</td> <td>    0.486</td>\n",
       "</tr>\n",
       "<tr>\n",
       "  <th>temp</th>                  <td>    8.8988</td> <td>    0.147</td> <td>   60.495</td> <td> 0.000</td> <td>    8.610</td> <td>    9.187</td>\n",
       "</tr>\n",
       "<tr>\n",
       "  <th>humidity</th>              <td>   -2.7009</td> <td>    0.063</td> <td>  -42.918</td> <td> 0.000</td> <td>   -2.824</td> <td>   -2.578</td>\n",
       "</tr>\n",
       "<tr>\n",
       "  <th>windspeed</th>             <td>    0.5152</td> <td>    0.148</td> <td>    3.492</td> <td> 0.000</td> <td>    0.226</td> <td>    0.804</td>\n",
       "</tr>\n",
       "</table>\n",
       "<table class=\"simpletable\">\n",
       "<tr>\n",
       "  <th>Omnibus:</th>       <td>3487.753</td> <th>  Durbin-Watson:     </th> <td>   0.418</td>\n",
       "</tr>\n",
       "<tr>\n",
       "  <th>Prob(Omnibus):</th>  <td> 0.000</td>  <th>  Jarque-Bera (JB):  </th> <td>6931.511</td>\n",
       "</tr>\n",
       "<tr>\n",
       "  <th>Skew:</th>           <td> 1.210</td>  <th>  Prob(JB):          </th> <td>    0.00</td>\n",
       "</tr>\n",
       "<tr>\n",
       "  <th>Kurtosis:</th>       <td> 4.927</td>  <th>  Cond. No.          </th> <td>    532.</td>\n",
       "</tr>\n",
       "</table><br/><br/>Notes:<br/>[1] Standard Errors assume that the covariance matrix of the errors is correctly specified."
      ],
      "text/plain": [
       "<class 'statsmodels.iolib.summary.Summary'>\n",
       "\"\"\"\n",
       "                            OLS Regression Results                            \n",
       "==============================================================================\n",
       "Dep. Variable:                  count   R-squared:                       0.265\n",
       "Model:                            OLS   Adj. R-squared:                  0.264\n",
       "Method:                 Least Squares   F-statistic:                     695.2\n",
       "Date:                Fri, 16 Sep 2022   Prob (F-statistic):               0.00\n",
       "Time:                        18:42:26   Log-Likelihood:            -1.1200e+05\n",
       "No. Observations:               17379   AIC:                         2.240e+05\n",
       "Df Residuals:                   17369   BIC:                         2.241e+05\n",
       "Df Model:                           9                                         \n",
       "Covariance Type:            nonrobust                                         \n",
       "=========================================================================================\n",
       "                            coef    std err          t      P>|t|      [0.025      0.975]\n",
       "-----------------------------------------------------------------------------------------\n",
       "Intercept               178.4819      6.570     27.167      0.000     165.604     191.359\n",
       "week_day[T.Monday]      -18.8416      4.326     -4.356      0.000     -27.321     -10.363\n",
       "week_day[T.Saturday]      0.5467      4.311      0.127      0.899      -7.904       8.997\n",
       "week_day[T.Sunday]       -9.0420      4.315     -2.096      0.036     -17.500      -0.584\n",
       "week_day[T.Thursday]     -6.4427      4.328     -1.489      0.137     -14.925       2.040\n",
       "week_day[T.Tuesday]     -16.8968      4.340     -3.894      0.000     -25.403      -8.391\n",
       "week_day[T.Wednesday]    -8.0019      4.330     -1.848      0.065     -16.490       0.486\n",
       "temp                      8.8988      0.147     60.495      0.000       8.610       9.187\n",
       "humidity                 -2.7009      0.063    -42.918      0.000      -2.824      -2.578\n",
       "windspeed                 0.5152      0.148      3.492      0.000       0.226       0.804\n",
       "==============================================================================\n",
       "Omnibus:                     3487.753   Durbin-Watson:                   0.418\n",
       "Prob(Omnibus):                  0.000   Jarque-Bera (JB):             6931.511\n",
       "Skew:                           1.210   Prob(JB):                         0.00\n",
       "Kurtosis:                       4.927   Cond. No.                         532.\n",
       "==============================================================================\n",
       "\n",
       "Notes:\n",
       "[1] Standard Errors assume that the covariance matrix of the errors is correctly specified.\n",
       "\"\"\""
      ]
     },
     "execution_count": 93,
     "metadata": {},
     "output_type": "execute_result"
    }
   ],
   "source": [
    "model21.summary()"
   ]
  },
  {
   "cell_type": "markdown",
   "id": "a25fe6be-ea92-4c45-aef8-9ed6c6732282",
   "metadata": {},
   "source": [
    "#### Conclusion: By adding 'week_day' the R2 improves from 0.2631837757241343 to 0.2644488661422687."
   ]
  },
  {
   "cell_type": "markdown",
   "id": "1ec7c44f-adf1-4577-9589-17b0ccc4e3b0",
   "metadata": {},
   "source": [
    "#### Bin 7: hour_day"
   ]
  },
  {
   "cell_type": "code",
   "execution_count": 94,
   "id": "853a8ffe-2622-4e79-9a6b-9878ec71690a",
   "metadata": {},
   "outputs": [],
   "source": [
    "model22 = sm.ols(formula='count ~ temp + humidity + windspeed + hour_day', data=df_dt1).fit()"
   ]
  },
  {
   "cell_type": "code",
   "execution_count": 95,
   "id": "d72bad60-88f3-48b0-a5b3-53f592222c94",
   "metadata": {},
   "outputs": [
    {
     "data": {
      "text/plain": [
       "0.3393606759679003"
      ]
     },
     "execution_count": 95,
     "metadata": {},
     "output_type": "execute_result"
    }
   ],
   "source": [
    "model22.rsquared_adj"
   ]
  },
  {
   "cell_type": "code",
   "execution_count": 96,
   "id": "b0c20d77-c8a6-46aa-9809-360ab8bb038f",
   "metadata": {
    "tags": []
   },
   "outputs": [
    {
     "data": {
      "text/html": [
       "<table class=\"simpletable\">\n",
       "<caption>OLS Regression Results</caption>\n",
       "<tr>\n",
       "  <th>Dep. Variable:</th>          <td>count</td>      <th>  R-squared:         </th>  <td>   0.340</td>  \n",
       "</tr>\n",
       "<tr>\n",
       "  <th>Model:</th>                   <td>OLS</td>       <th>  Adj. R-squared:    </th>  <td>   0.339</td>  \n",
       "</tr>\n",
       "<tr>\n",
       "  <th>Method:</th>             <td>Least Squares</td>  <th>  F-statistic:       </th>  <td>   2233.</td>  \n",
       "</tr>\n",
       "<tr>\n",
       "  <th>Date:</th>             <td>Fri, 16 Sep 2022</td> <th>  Prob (F-statistic):</th>   <td>  0.00</td>   \n",
       "</tr>\n",
       "<tr>\n",
       "  <th>Time:</th>                 <td>18:42:26</td>     <th>  Log-Likelihood:    </th> <td>-1.1107e+05</td>\n",
       "</tr>\n",
       "<tr>\n",
       "  <th>No. Observations:</th>      <td> 17379</td>      <th>  AIC:               </th>  <td>2.222e+05</td> \n",
       "</tr>\n",
       "<tr>\n",
       "  <th>Df Residuals:</th>          <td> 17374</td>      <th>  BIC:               </th>  <td>2.222e+05</td> \n",
       "</tr>\n",
       "<tr>\n",
       "  <th>Df Model:</th>              <td>     4</td>      <th>                     </th>      <td> </td>     \n",
       "</tr>\n",
       "<tr>\n",
       "  <th>Covariance Type:</th>      <td>nonrobust</td>    <th>                     </th>      <td> </td>     \n",
       "</tr>\n",
       "</table>\n",
       "<table class=\"simpletable\">\n",
       "<tr>\n",
       "      <td></td>         <th>coef</th>     <th>std err</th>      <th>t</th>      <th>P>|t|</th>  <th>[0.025</th>    <th>0.975]</th>  \n",
       "</tr>\n",
       "<tr>\n",
       "  <th>Intercept</th> <td>   65.7561</td> <td>    6.163</td> <td>   10.669</td> <td> 0.000</td> <td>   53.675</td> <td>   77.837</td>\n",
       "</tr>\n",
       "<tr>\n",
       "  <th>temp</th>      <td>    8.0829</td> <td>    0.140</td> <td>   57.600</td> <td> 0.000</td> <td>    7.808</td> <td>    8.358</td>\n",
       "</tr>\n",
       "<tr>\n",
       "  <th>humidity</th>  <td>   -2.0551</td> <td>    0.061</td> <td>  -33.515</td> <td> 0.000</td> <td>   -2.175</td> <td>   -1.935</td>\n",
       "</tr>\n",
       "<tr>\n",
       "  <th>windspeed</th> <td>    0.0788</td> <td>    0.140</td> <td>    0.562</td> <td> 0.574</td> <td>   -0.196</td> <td>    0.353</td>\n",
       "</tr>\n",
       "<tr>\n",
       "  <th>hour_day</th>  <td>    7.4529</td> <td>    0.166</td> <td>   44.771</td> <td> 0.000</td> <td>    7.127</td> <td>    7.779</td>\n",
       "</tr>\n",
       "</table>\n",
       "<table class=\"simpletable\">\n",
       "<tr>\n",
       "  <th>Omnibus:</th>       <td>4281.807</td> <th>  Durbin-Watson:     </th> <td>   0.502</td> \n",
       "</tr>\n",
       "<tr>\n",
       "  <th>Prob(Omnibus):</th>  <td> 0.000</td>  <th>  Jarque-Bera (JB):  </th> <td>10060.419</td>\n",
       "</tr>\n",
       "<tr>\n",
       "  <th>Skew:</th>           <td> 1.384</td>  <th>  Prob(JB):          </th> <td>    0.00</td> \n",
       "</tr>\n",
       "<tr>\n",
       "  <th>Kurtosis:</th>       <td> 5.497</td>  <th>  Cond. No.          </th> <td>    396.</td> \n",
       "</tr>\n",
       "</table><br/><br/>Notes:<br/>[1] Standard Errors assume that the covariance matrix of the errors is correctly specified."
      ],
      "text/plain": [
       "<class 'statsmodels.iolib.summary.Summary'>\n",
       "\"\"\"\n",
       "                            OLS Regression Results                            \n",
       "==============================================================================\n",
       "Dep. Variable:                  count   R-squared:                       0.340\n",
       "Model:                            OLS   Adj. R-squared:                  0.339\n",
       "Method:                 Least Squares   F-statistic:                     2233.\n",
       "Date:                Fri, 16 Sep 2022   Prob (F-statistic):               0.00\n",
       "Time:                        18:42:26   Log-Likelihood:            -1.1107e+05\n",
       "No. Observations:               17379   AIC:                         2.222e+05\n",
       "Df Residuals:                   17374   BIC:                         2.222e+05\n",
       "Df Model:                           4                                         \n",
       "Covariance Type:            nonrobust                                         \n",
       "==============================================================================\n",
       "                 coef    std err          t      P>|t|      [0.025      0.975]\n",
       "------------------------------------------------------------------------------\n",
       "Intercept     65.7561      6.163     10.669      0.000      53.675      77.837\n",
       "temp           8.0829      0.140     57.600      0.000       7.808       8.358\n",
       "humidity      -2.0551      0.061    -33.515      0.000      -2.175      -1.935\n",
       "windspeed      0.0788      0.140      0.562      0.574      -0.196       0.353\n",
       "hour_day       7.4529      0.166     44.771      0.000       7.127       7.779\n",
       "==============================================================================\n",
       "Omnibus:                     4281.807   Durbin-Watson:                   0.502\n",
       "Prob(Omnibus):                  0.000   Jarque-Bera (JB):            10060.419\n",
       "Skew:                           1.384   Prob(JB):                         0.00\n",
       "Kurtosis:                       5.497   Cond. No.                         396.\n",
       "==============================================================================\n",
       "\n",
       "Notes:\n",
       "[1] Standard Errors assume that the covariance matrix of the errors is correctly specified.\n",
       "\"\"\""
      ]
     },
     "execution_count": 96,
     "metadata": {},
     "output_type": "execute_result"
    }
   ],
   "source": [
    "model22.summary()"
   ]
  },
  {
   "cell_type": "markdown",
   "id": "274f61c6-94e8-4613-af7f-db8e4d04db66",
   "metadata": {},
   "source": [
    "#### Conclusion: By adding 'hour_day' the R2 significantly improves from 0.2631837757241343 to 0.3393606759679003."
   ]
  },
  {
   "cell_type": "markdown",
   "id": "609087b3-ea5b-4487-b576-d346ffc5b25a",
   "metadata": {},
   "source": [
    "#### Bin 7: part_of_day\n"
   ]
  },
  {
   "cell_type": "code",
   "execution_count": 97,
   "id": "20a3bbe3-bf92-497a-a593-23ab9394b746",
   "metadata": {},
   "outputs": [],
   "source": [
    "model23 = sm.ols(formula='count ~ temp + humidity + windspeed+ hour_day+ part_of_day', data=df_dt1).fit()"
   ]
  },
  {
   "cell_type": "code",
   "execution_count": 98,
   "id": "40037b71-07a5-4d41-8094-c6920dd8c561",
   "metadata": {},
   "outputs": [
    {
     "data": {
      "text/plain": [
       "0.44955129571643826"
      ]
     },
     "execution_count": 98,
     "metadata": {},
     "output_type": "execute_result"
    }
   ],
   "source": [
    "model23.rsquared_adj"
   ]
  },
  {
   "cell_type": "markdown",
   "id": "36fb0b71-75e3-4dc0-8f02-7ad1e1662132",
   "metadata": {},
   "source": [
    "#### Conclusion: By adding 'part_day' the R2 significantly improves from 0.2631837757241343 to 0.44955129571643826."
   ]
  },
  {
   "cell_type": "markdown",
   "id": "7473ed37-becb-4a9e-81ce-0ae54f3b88f5",
   "metadata": {},
   "source": [
    "### Now let's run a model including the variables that caused the highest impact on the rsquared_adj: 'month'+ 'hour_day' + 'part_of_day' + 'season_name'"
   ]
  },
  {
   "cell_type": "code",
   "execution_count": 99,
   "id": "ff974932-5b77-46ad-9f4c-44caf1f83890",
   "metadata": {},
   "outputs": [],
   "source": [
    "model24 = sm.ols(formula='count ~ temp + humidity + windspeed + hour_day + part_of_day + season_name', data=df_dt1).fit()"
   ]
  },
  {
   "cell_type": "code",
   "execution_count": 100,
   "id": "d4b2e940-8df9-4aa6-b63a-b4d8fa172ed2",
   "metadata": {},
   "outputs": [
    {
     "data": {
      "text/plain": [
       "0.47165233039095134"
      ]
     },
     "execution_count": 100,
     "metadata": {},
     "output_type": "execute_result"
    }
   ],
   "source": [
    "model24.rsquared_adj"
   ]
  },
  {
   "cell_type": "markdown",
   "id": "7f105b56-3bd6-4344-80aa-ededcb0c0cba",
   "metadata": {},
   "source": [
    "#### Conclusion: By adding three datetime variables ('month' + 'hour_day' + 'part_of_day' + 'season_name) the R2 significantly improves from 0.2631837757241343 to 0.4716523303909512 (this is the best Adjusted R Squared)."
   ]
  },
  {
   "cell_type": "markdown",
   "id": "3b1a2974-c9c5-48e0-81b2-e0c639ffd582",
   "metadata": {},
   "source": [
    "# DISTRIBUTION FUNCTIONS"
   ]
  },
  {
   "cell_type": "markdown",
   "id": "35542420-6d4a-48b8-8522-2c4993efd1a9",
   "metadata": {},
   "source": [
    "#### 1. Filter bike data for one day"
   ]
  },
  {
   "cell_type": "code",
   "execution_count": 101,
   "id": "0b239c72-92f5-45b8-8f93-110e20487fb6",
   "metadata": {},
   "outputs": [
    {
     "data": {
      "text/html": [
       "<div>\n",
       "<style scoped>\n",
       "    .dataframe tbody tr th:only-of-type {\n",
       "        vertical-align: middle;\n",
       "    }\n",
       "\n",
       "    .dataframe tbody tr th {\n",
       "        vertical-align: top;\n",
       "    }\n",
       "\n",
       "    .dataframe thead th {\n",
       "        text-align: right;\n",
       "    }\n",
       "</style>\n",
       "<table border=\"1\" class=\"dataframe\">\n",
       "  <thead>\n",
       "    <tr style=\"text-align: right;\">\n",
       "      <th></th>\n",
       "      <th>season</th>\n",
       "      <th>holiday</th>\n",
       "      <th>workingday</th>\n",
       "      <th>weather</th>\n",
       "      <th>temp</th>\n",
       "      <th>atemp</th>\n",
       "      <th>humidity</th>\n",
       "      <th>windspeed</th>\n",
       "      <th>casual</th>\n",
       "      <th>registered</th>\n",
       "      <th>count</th>\n",
       "      <th>year</th>\n",
       "      <th>month_number</th>\n",
       "      <th>month</th>\n",
       "      <th>day_of_month</th>\n",
       "      <th>week_day</th>\n",
       "      <th>hour_day</th>\n",
       "      <th>season_name</th>\n",
       "      <th>hour_of_day</th>\n",
       "      <th>part_of_day</th>\n",
       "    </tr>\n",
       "    <tr>\n",
       "      <th>datetime</th>\n",
       "      <th></th>\n",
       "      <th></th>\n",
       "      <th></th>\n",
       "      <th></th>\n",
       "      <th></th>\n",
       "      <th></th>\n",
       "      <th></th>\n",
       "      <th></th>\n",
       "      <th></th>\n",
       "      <th></th>\n",
       "      <th></th>\n",
       "      <th></th>\n",
       "      <th></th>\n",
       "      <th></th>\n",
       "      <th></th>\n",
       "      <th></th>\n",
       "      <th></th>\n",
       "      <th></th>\n",
       "      <th></th>\n",
       "      <th></th>\n",
       "    </tr>\n",
       "  </thead>\n",
       "  <tbody>\n",
       "    <tr>\n",
       "      <th>2011-01-01 00:00:00</th>\n",
       "      <td>1</td>\n",
       "      <td>0</td>\n",
       "      <td>0</td>\n",
       "      <td>1</td>\n",
       "      <td>9.84</td>\n",
       "      <td>14.395</td>\n",
       "      <td>81</td>\n",
       "      <td>0.0</td>\n",
       "      <td>3.0</td>\n",
       "      <td>13.0</td>\n",
       "      <td>16</td>\n",
       "      <td>2011</td>\n",
       "      <td>8</td>\n",
       "      <td>January</td>\n",
       "      <td>1</td>\n",
       "      <td>Saturday</td>\n",
       "      <td>0</td>\n",
       "      <td>winter</td>\n",
       "      <td>0</td>\n",
       "      <td>night</td>\n",
       "    </tr>\n",
       "    <tr>\n",
       "      <th>2011-01-01 01:00:00</th>\n",
       "      <td>1</td>\n",
       "      <td>0</td>\n",
       "      <td>0</td>\n",
       "      <td>1</td>\n",
       "      <td>9.02</td>\n",
       "      <td>13.635</td>\n",
       "      <td>80</td>\n",
       "      <td>0.0</td>\n",
       "      <td>8.0</td>\n",
       "      <td>32.0</td>\n",
       "      <td>40</td>\n",
       "      <td>2011</td>\n",
       "      <td>8</td>\n",
       "      <td>January</td>\n",
       "      <td>1</td>\n",
       "      <td>Saturday</td>\n",
       "      <td>1</td>\n",
       "      <td>winter</td>\n",
       "      <td>1</td>\n",
       "      <td>night</td>\n",
       "    </tr>\n",
       "    <tr>\n",
       "      <th>2011-01-01 02:00:00</th>\n",
       "      <td>1</td>\n",
       "      <td>0</td>\n",
       "      <td>0</td>\n",
       "      <td>1</td>\n",
       "      <td>9.02</td>\n",
       "      <td>13.635</td>\n",
       "      <td>80</td>\n",
       "      <td>0.0</td>\n",
       "      <td>5.0</td>\n",
       "      <td>27.0</td>\n",
       "      <td>32</td>\n",
       "      <td>2011</td>\n",
       "      <td>8</td>\n",
       "      <td>January</td>\n",
       "      <td>1</td>\n",
       "      <td>Saturday</td>\n",
       "      <td>2</td>\n",
       "      <td>winter</td>\n",
       "      <td>2</td>\n",
       "      <td>night</td>\n",
       "    </tr>\n",
       "    <tr>\n",
       "      <th>2011-01-01 03:00:00</th>\n",
       "      <td>1</td>\n",
       "      <td>0</td>\n",
       "      <td>0</td>\n",
       "      <td>1</td>\n",
       "      <td>9.84</td>\n",
       "      <td>14.395</td>\n",
       "      <td>75</td>\n",
       "      <td>0.0</td>\n",
       "      <td>3.0</td>\n",
       "      <td>10.0</td>\n",
       "      <td>13</td>\n",
       "      <td>2011</td>\n",
       "      <td>8</td>\n",
       "      <td>January</td>\n",
       "      <td>1</td>\n",
       "      <td>Saturday</td>\n",
       "      <td>3</td>\n",
       "      <td>winter</td>\n",
       "      <td>3</td>\n",
       "      <td>night</td>\n",
       "    </tr>\n",
       "    <tr>\n",
       "      <th>2011-01-01 04:00:00</th>\n",
       "      <td>1</td>\n",
       "      <td>0</td>\n",
       "      <td>0</td>\n",
       "      <td>1</td>\n",
       "      <td>9.84</td>\n",
       "      <td>14.395</td>\n",
       "      <td>75</td>\n",
       "      <td>0.0</td>\n",
       "      <td>0.0</td>\n",
       "      <td>1.0</td>\n",
       "      <td>1</td>\n",
       "      <td>2011</td>\n",
       "      <td>8</td>\n",
       "      <td>January</td>\n",
       "      <td>1</td>\n",
       "      <td>Saturday</td>\n",
       "      <td>4</td>\n",
       "      <td>winter</td>\n",
       "      <td>4</td>\n",
       "      <td>night</td>\n",
       "    </tr>\n",
       "  </tbody>\n",
       "</table>\n",
       "</div>"
      ],
      "text/plain": [
       "                     season  holiday  workingday  weather  temp   atemp  \\\n",
       "datetime                                                                  \n",
       "2011-01-01 00:00:00       1        0           0        1  9.84  14.395   \n",
       "2011-01-01 01:00:00       1        0           0        1  9.02  13.635   \n",
       "2011-01-01 02:00:00       1        0           0        1  9.02  13.635   \n",
       "2011-01-01 03:00:00       1        0           0        1  9.84  14.395   \n",
       "2011-01-01 04:00:00       1        0           0        1  9.84  14.395   \n",
       "\n",
       "                     humidity  windspeed  casual  registered  count  year  \\\n",
       "datetime                                                                    \n",
       "2011-01-01 00:00:00        81        0.0     3.0        13.0     16  2011   \n",
       "2011-01-01 01:00:00        80        0.0     8.0        32.0     40  2011   \n",
       "2011-01-01 02:00:00        80        0.0     5.0        27.0     32  2011   \n",
       "2011-01-01 03:00:00        75        0.0     3.0        10.0     13  2011   \n",
       "2011-01-01 04:00:00        75        0.0     0.0         1.0      1  2011   \n",
       "\n",
       "                     month_number    month  day_of_month  week_day  hour_day  \\\n",
       "datetime                                                                       \n",
       "2011-01-01 00:00:00             8  January             1  Saturday         0   \n",
       "2011-01-01 01:00:00             8  January             1  Saturday         1   \n",
       "2011-01-01 02:00:00             8  January             1  Saturday         2   \n",
       "2011-01-01 03:00:00             8  January             1  Saturday         3   \n",
       "2011-01-01 04:00:00             8  January             1  Saturday         4   \n",
       "\n",
       "                    season_name  hour_of_day part_of_day  \n",
       "datetime                                                  \n",
       "2011-01-01 00:00:00      winter            0       night  \n",
       "2011-01-01 01:00:00      winter            1       night  \n",
       "2011-01-01 02:00:00      winter            2       night  \n",
       "2011-01-01 03:00:00      winter            3       night  \n",
       "2011-01-01 04:00:00      winter            4       night  "
      ]
     },
     "execution_count": 101,
     "metadata": {},
     "output_type": "execute_result"
    }
   ],
   "source": [
    "df_dt1.head()"
   ]
  },
  {
   "cell_type": "code",
   "execution_count": 102,
   "id": "b551f58e-3fed-4d12-9338-50e46782fa6b",
   "metadata": {
    "tags": []
   },
   "outputs": [],
   "source": [
    "df_dt1\n",
    "june1_df = df_dt1.loc['2011-06-01']"
   ]
  },
  {
   "cell_type": "markdown",
   "id": "18b5585e-dbe8-42aa-809f-82e94255bcf5",
   "metadata": {
    "tags": []
   },
   "source": [
    "#### Distribution plot of the count during that day"
   ]
  },
  {
   "cell_type": "code",
   "execution_count": 103,
   "id": "128fe5ae-6426-4f8d-85fb-640256f5854d",
   "metadata": {},
   "outputs": [
    {
     "data": {
      "image/png": "[encoded data removed]",
      "text/plain": [
       "<Figure size 360x360 with 1 Axes>"
      ]
     },
     "metadata": {
      "needs_background": "light"
     },
     "output_type": "display_data"
    }
   ],
   "source": [
    "sns.displot(june1_df['count'], kde=True, stat=\"probability\");"
   ]
  },
  {
   "cell_type": "markdown",
   "id": "cb42bafb-b7eb-4f2a-acf6-7432a12b0600",
   "metadata": {},
   "source": [
    "#### Bike data for the year 2011"
   ]
  },
  {
   "cell_type": "code",
   "execution_count": 104,
   "id": "5112b53e-36e3-4012-bb0c-5f168a3fb8c6",
   "metadata": {},
   "outputs": [],
   "source": [
    "year2011_df = df_dt1.loc['2011']"
   ]
  },
  {
   "cell_type": "markdown",
   "id": "161ce312-fb28-4c30-81df-035c84b757e6",
   "metadata": {},
   "source": [
    "#### Distribution plot of the temperature of the entire year."
   ]
  },
  {
   "cell_type": "code",
   "execution_count": 105,
   "id": "ba99473f-93e7-4130-8643-f4a20f36375a",
   "metadata": {},
   "outputs": [
    {
     "data": {
      "image/png": "[encoded data removed]",
      "text/plain": [
       "<Figure size 360x360 with 1 Axes>"
      ]
     },
     "metadata": {
      "needs_background": "light"
     },
     "output_type": "display_data"
    }
   ],
   "source": [
    "sns.displot(year2011_df['temp'], kde=True, stat=\"probability\");"
   ]
  },
  {
   "cell_type": "code",
   "execution_count": 106,
   "id": "aa989336-411a-4d74-ab0d-2fff14862fba",
   "metadata": {
    "jupyter": {
     "source_hidden": true
    },
    "tags": []
   },
   "outputs": [],
   "source": [
    "import numpy as np"
   ]
  },
  {
   "cell_type": "markdown",
   "id": "29b84187-9fed-4731-9b3c-6a06ef568840",
   "metadata": {},
   "source": [
    "#### 1. Simulate a fair coin flip for 10 times and calculate the estimated probability of getting a head (number of times you got a head divided by 10). Repeat for 100, 1000 and 10000 times. How does the estimated probability changes ? How can we interpret that ?"
   ]
  },
  {
   "cell_type": "code",
   "execution_count": 107,
   "id": "6e934ee1-9446-4cf0-a73e-b69601159177",
   "metadata": {},
   "outputs": [
    {
     "name": "stdout",
     "output_type": "stream",
     "text": [
      "Probability of getting at least 1 head in 10 fair coin tosses = 0.5\n"
     ]
    }
   ],
   "source": [
    "n_all_heads = 0  \n",
    "\n",
    "for i in range(10):\n",
    "    heads = np.random.random(size=1) > 0.5\n",
    "    n_heads = np.sum(heads)\n",
    "    if n_heads == 1:\n",
    "        n_all_heads += 1\n",
    "\n",
    "prob = n_all_heads/10\n",
    "\n",
    "print(f\"Probability of getting at least 1 head in 10 fair coin tosses = {prob}\")"
   ]
  },
  {
   "cell_type": "code",
   "execution_count": 108,
   "id": "f07819dd-f373-4667-93e6-489554583dc6",
   "metadata": {},
   "outputs": [
    {
     "name": "stdout",
     "output_type": "stream",
     "text": [
      "Probability of getting at least 1 head in 100 fair coin tosses = 49.0\n"
     ]
    }
   ],
   "source": [
    "n_all_heads = 0  \n",
    "\n",
    "for i in range(100):\n",
    "    heads = np.random.random(size=1) > 0.5\n",
    "    n_heads = np.sum(heads)\n",
    "    if n_heads == 1:\n",
    "        n_all_heads += 100\n",
    "\n",
    "prob = n_all_heads/100\n",
    "\n",
    "print(f\"Probability of getting at least 1 head in 100 fair coin tosses = {prob}\")"
   ]
  },
  {
   "cell_type": "code",
   "execution_count": 109,
   "id": "feb70c73-a495-42a0-9a7a-e366abdddbe8",
   "metadata": {},
   "outputs": [
    {
     "name": "stdout",
     "output_type": "stream",
     "text": [
      "Probability of getting at least 1 head in 1000 fair coin tosses = 0.505\n"
     ]
    }
   ],
   "source": [
    "n_all_heads = 0  \n",
    "\n",
    "for i in range(1000):\n",
    "    heads = np.random.random(size=1) > 0.5\n",
    "    n_heads = np.sum(heads)\n",
    "    if n_heads == 1:\n",
    "        n_all_heads += 1\n",
    "\n",
    "prob = n_all_heads/1000\n",
    "\n",
    "print(f\"Probability of getting at least 1 head in 1000 fair coin tosses = {prob}\")"
   ]
  },
  {
   "cell_type": "code",
   "execution_count": 110,
   "id": "74f90dc9-7d57-4428-8ca5-e3f3a2f167aa",
   "metadata": {},
   "outputs": [
    {
     "name": "stdout",
     "output_type": "stream",
     "text": [
      "Probability of getting at least 1 head in 100 fair coin tosses = 0.5056\n"
     ]
    }
   ],
   "source": [
    "n_all_heads = 0  \n",
    "\n",
    "for i in range(10000):\n",
    "    heads = np.random.random(size=1) > 0.5\n",
    "    n_heads = np.sum(heads)\n",
    "    if n_heads == 1:\n",
    "        n_all_heads += 1\n",
    "\n",
    "prob = n_all_heads/10000\n",
    "\n",
    "print(f\"Probability of getting at least 1 head in 100 fair coin tosses = {prob}\")"
   ]
  },
  {
   "cell_type": "markdown",
   "id": "92698dc6-261d-4926-be21-8a04bacc4453",
   "metadata": {},
   "source": [
    "#### 2. Plot the pmf of the Binomial distribution of n = 10 and p = 0.5. (hint: start by sampling from the distribution for 100_000 times)"
   ]
  },
  {
   "cell_type": "code",
   "execution_count": 111,
   "id": "49fdfc15-c041-4003-8491-9aac45fc05ca",
   "metadata": {},
   "outputs": [],
   "source": [
    "# n = 10\n",
    "\n",
    "np.random.seed(42)\n",
    "\n",
    "n_tails = np.random.binomial(10, 0.5, size=1_000_000)\n",
    "\n",
    "# plotting the pmf using the samples\n",
    "n_tails = pd.Series(n_tails)"
   ]
  },
  {
   "cell_type": "code",
   "execution_count": 112,
   "id": "68b4c0c4-6f84-414e-aa7a-482a5c27b7ea",
   "metadata": {},
   "outputs": [
    {
     "data": {
      "text/plain": [
       "5     245968\n",
       "6     205493\n",
       "4     205347\n",
       "3     117067\n",
       "7     116929\n",
       "8      44218\n",
       "2      43515\n",
       "9       9768\n",
       "1       9716\n",
       "0       1000\n",
       "10       979\n",
       "dtype: int64"
      ]
     },
     "execution_count": 112,
     "metadata": {},
     "output_type": "execute_result"
    }
   ],
   "source": [
    "n_tails.value_counts()"
   ]
  },
  {
   "cell_type": "code",
   "execution_count": 113,
   "id": "96384c76-899d-4b8a-8115-4483e1579b00",
   "metadata": {},
   "outputs": [
    {
     "data": {
      "text/plain": [
       "5     0.245968\n",
       "6     0.205493\n",
       "4     0.205347\n",
       "3     0.117067\n",
       "7     0.116929\n",
       "8     0.044218\n",
       "2     0.043515\n",
       "9     0.009768\n",
       "1     0.009716\n",
       "0     0.001000\n",
       "10    0.000979\n",
       "dtype: float64"
      ]
     },
     "execution_count": 113,
     "metadata": {},
     "output_type": "execute_result"
    }
   ],
   "source": [
    "probabilities = n_tails.value_counts(normalize=True)\n",
    "\n",
    "probabilities"
   ]
  },
  {
   "cell_type": "code",
   "execution_count": 114,
   "id": "d3eb4ee5-98be-415a-bd43-96ad6d14b8ec",
   "metadata": {},
   "outputs": [
    {
     "data": {
      "image/png": "[encoded data removed]",
      "text/plain": [
       "<Figure size 432x288 with 1 Axes>"
      ]
     },
     "metadata": {
      "needs_background": "light"
     },
     "output_type": "display_data"
    }
   ],
   "source": [
    "sns.barplot(x = probabilities.index, y = probabilities.values)\n",
    "plt.xlabel(\"number of tails in a 10 fair coin toss\")\n",
    "plt.ylim([0.0, 1.0])\n",
    "\n",
    "plt.show()"
   ]
  },
  {
   "cell_type": "markdown",
   "id": "51403637-a86a-4192-a630-80162c7f4d4c",
   "metadata": {},
   "source": [
    "### 3. Research other commonly used probability distributions and the random real life processes and events they are used to model."
   ]
  },
  {
   "cell_type": "code",
   "execution_count": 115,
   "id": "b1658f61-8508-4c0a-8876-eee4ce253d89",
   "metadata": {},
   "outputs": [],
   "source": [
    "# poisson distribution: https://docs.scipy.org/doc/scipy/reference/generated/scipy.stats.poisson.html"
   ]
  },
  {
   "cell_type": "markdown",
   "id": "62adb7cc-178b-4902-97b4-6c11520866b0",
   "metadata": {},
   "source": [
    "# Confidence Intervals"
   ]
  },
  {
   "cell_type": "markdown",
   "id": "6d181257-fac4-456d-bba0-a0d46085a849",
   "metadata": {},
   "source": [
    "#### 95% confidence intervals for the mean of the windspeed feature using bootstrapping."
   ]
  },
  {
   "cell_type": "code",
   "execution_count": 116,
   "id": "5bdab281-f4bf-41d1-91bf-d23a8e319256",
   "metadata": {
    "tags": []
   },
   "outputs": [],
   "source": [
    "sample_means = []"
   ]
  },
  {
   "cell_type": "markdown",
   "id": "f223dcbc-8395-4d2e-b0f3-abe4ecc58349",
   "metadata": {
    "tags": []
   },
   "source": [
    "#### * for loop with 10,000 iterations\n",
    "#### * In each iteration sample 100 windspeeds with replacement\n",
    "#### * In that same iteration take the mean of these 100 samples and then append it to the sample_meanslist"
   ]
  },
  {
   "cell_type": "code",
   "execution_count": 117,
   "id": "d7fc6c55-ca56-4b9d-9dc8-813fac870bdf",
   "metadata": {},
   "outputs": [
    {
     "data": {
      "text/plain": [
       "12.830433000000001"
      ]
     },
     "execution_count": 117,
     "metadata": {},
     "output_type": "execute_result"
    }
   ],
   "source": [
    "df_dt1['windspeed'].sample(n=100, replace='True').mean()"
   ]
  },
  {
   "cell_type": "code",
   "execution_count": 118,
   "id": "e1708163-54c8-4233-a78e-3c5b552e8561",
   "metadata": {},
   "outputs": [],
   "source": [
    "for i in range(10_000):\n",
    "    bootstrap_sample = df_dt1['windspeed'].sample(n=100, replace='True')\n",
    "    sample_means.append(bootstrap_sample.mean())"
   ]
  },
  {
   "cell_type": "markdown",
   "id": "8d2dab21-d965-4f34-9956-3a4c70eaed40",
   "metadata": {},
   "source": [
    "#### Distribution plot of the sample_means list"
   ]
  },
  {
   "cell_type": "code",
   "execution_count": 119,
   "id": "2e447715-18d2-4715-9068-757618490219",
   "metadata": {},
   "outputs": [
    {
     "data": {
      "image/png": "[encoded data removed]",
      "text/plain": [
       "<Figure size 360x360 with 1 Axes>"
      ]
     },
     "metadata": {
      "needs_background": "light"
     },
     "output_type": "display_data"
    }
   ],
   "source": [
    "sns.displot(sample_means, kde=True, stat=\"probability\");"
   ]
  },
  {
   "cell_type": "markdown",
   "id": "7549aac2-149a-4a6b-8cf6-8eee8c3313e6",
   "metadata": {},
   "source": [
    "#### sample_means from list to series"
   ]
  },
  {
   "cell_type": "code",
   "execution_count": 120,
   "id": "62d0feb9-cf6d-44fd-af19-deb335a3ff40",
   "metadata": {},
   "outputs": [],
   "source": [
    "sample_means = pd.Series(sample_means)"
   ]
  },
  {
   "cell_type": "markdown",
   "id": "d92cb9e4-7cdc-44ed-98f4-b8b191f425e4",
   "metadata": {},
   "source": [
    "#### Calculation of upper (0.975) and lower (0.025) limits of the confidence interval of the sample_meanslist"
   ]
  },
  {
   "cell_type": "code",
   "execution_count": 121,
   "id": "5e7df69c-ffb6-4b1f-b92b-16d020460105",
   "metadata": {},
   "outputs": [],
   "source": [
    "alpha = 0.95\n",
    "\n",
    "lower_quantile = (1-alpha)/2  \n",
    "\n",
    "upper_qunatile = alpha + ((1-alpha)/2)"
   ]
  },
  {
   "cell_type": "code",
   "execution_count": 122,
   "id": "3d2f9db4-4c13-4ed5-8c52-a21bd65414fa",
   "metadata": {},
   "outputs": [
    {
     "name": "stdout",
     "output_type": "stream",
     "text": [
      "confidence interval of the average windspeed is between 11.170303650000003 and 14.350394999999997\n"
     ]
    }
   ],
   "source": [
    "lower_limit = sample_means.quantile(lower_quantile)\n",
    "\n",
    "upper_limit = sample_means.quantile(upper_qunatile)\n",
    "\n",
    "print(f'confidence interval of the average windspeed is between {lower_limit} and {upper_limit}')"
   ]
  }
 ],
 "metadata": {
  "kernelspec": {
   "display_name": "Python 3 (ipykernel)",
   "language": "python",
   "name": "python3"
  },
  "language_info": {
   "codemirror_mode": {
    "name": "ipython",
    "version": 3
   },
   "file_extension": ".py",
   "mimetype": "text/x-python",
   "name": "python",
   "nbconvert_exporter": "python",
   "pygments_lexer": "ipython3",
   "version": "3.9.12"
  }
 },
 "nbformat": 4,
 "nbformat_minor": 5
}
